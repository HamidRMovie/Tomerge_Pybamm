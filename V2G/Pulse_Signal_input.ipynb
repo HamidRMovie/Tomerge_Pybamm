{
 "cells": [
  {
   "cell_type": "code",
   "execution_count": 1,
   "id": "8d9d83a5",
   "metadata": {},
   "outputs": [],
   "source": [
    "import pybamm\n",
    "import matplotlib.pyplot as plt\n",
    "import numpy as np\n",
    "import pandas as pd\n",
    "import math\n",
    "import dfols\n",
    "import signal\n",
    "from scipy.integrate import solve_ivp\n",
    "from scipy.fft import fft, fftfreq, fftshift\n",
    "from scipy.signal import savgol_filter\n",
    "from scipy.signal import find_peaks\n",
    "from scipy import interpolate\n",
    "from stopit import threading_timeoutable as timeoutable\n",
    "import os, sys\n",
    "sys.path.append(os.path.dirname(os.path.dirname(os.path.abspath(\"__file__\"))))\n",
    "from batfuns import *\n",
    "plt.rcParams = set_rc_params(plt.rcParams)\n",
    "\n",
    "eSOH_DIR = r\"F:/Git Hub rep/CRC/neew/PyBaMM/Untitled Folder/data/esoh/\"\n",
    "oCV_DIR = r\"F:/Git Hub rep/CRC/neew/PyBaMM/Untitled Folder/data/ocv/\"\n",
    "fig_DIR = \"../figures/figures_fit/\"\n",
    "res_DIR = \"../data/results_fit/\"\n",
    "# %matplotlib widget\n",
    "\n",
    "from scipy.io import savemat\n"
   ]
  },
  {
   "cell_type": "code",
   "execution_count": 2,
   "id": "eaa81669",
   "metadata": {},
   "outputs": [],
   "source": [
    "## Added from old vrsion \n"
   ]
  },
  {
   "cell_type": "code",
   "execution_count": 3,
   "id": "7b5e895c",
   "metadata": {},
   "outputs": [],
   "source": [
    "parameter_values = get_parameter_values()"
   ]
  },
  {
   "cell_type": "code",
   "execution_count": 4,
   "id": "5d08c844",
   "metadata": {},
   "outputs": [],
   "source": [
    "spm = pybamm.lithium_ion.SPM(\n",
    "    {\n",
    "        \"SEI\": \"ec reaction limited\",\n",
    "        \"loss of active material\": \"stress-driven\",\n",
    "    }\n",
    ")\n",
    "# spm.print_parameter_info()\n",
    "param=spm.param"
   ]
  },
  {
   "cell_type": "code",
   "execution_count": 5,
   "id": "838b044c",
   "metadata": {},
   "outputs": [],
   "source": [
    "cell = 1"
   ]
  },
  {
   "cell_type": "code",
   "execution_count": 6,
   "id": "5907d355",
   "metadata": {},
   "outputs": [
    {
     "name": "stdout",
     "output_type": "stream",
     "text": [
      "25\n"
     ]
    }
   ],
   "source": [
    "cell_no,dfe,dfe_0,dfo_0,N,N_0 = load_data(cell,eSOH_DIR,oCV_DIR)\n",
    "eps_n_data,eps_p_data,c_rate_c,c_rate_d,dis_set,Temp,SOC_0 = init_exp(cell_no,dfe,spm,parameter_values)\n",
    "print(Temp)"
   ]
  },
  {
   "cell_type": "code",
   "execution_count": 26,
   "id": "0efd5808",
   "metadata": {},
   "outputs": [],
   "source": [
    "t_in0 = 100\n",
    "t_in1 = 100\n",
    "t_in2 = 800\n",
    "# t_in3 = 10\n",
    "# t_in4 = 300\n",
    "\n",
    "t_inf = t_in0+t_in1+t_in2\n",
    "# t_in = np.arange(0,t_inf,0.1)\n",
    "t_in = np.arange(0,t_inf,1)\n",
    "# t_sim = np.arange(0,t_inf,0.01)\n",
    "I_in = []\n",
    "for tt in t_in:\n",
    "    if tt<t_in0:\n",
    "        I_in = np.append(I_in,1)\n",
    "    elif tt>=t_in0 and tt<t_in0+t_in1:\n",
    "        I_in = np.append(I_in,1)\n",
    "    elif tt>=t_in0+t_in1 and tt<t_in0+t_in1+t_in2:\n",
    "        I_in = np.append(I_in,0)\n",
    "#     elif tt>=t_in0+t_in1+t_in2 and tt<t_in0+t_in1+t_in2+t_in3:\n",
    "#         I_in = np.append(I_in,-5)\n",
    "#     elif tt>=t_in0+t_in1+t_in2+t_in3:\n",
    "#         I_in = np.append(I_in,0)\n",
    "\n",
    "\n",
    "\n",
    "timescale = parameter_values.evaluate(spm.timescale)\n",
    "# in the following line we use % 600 to repeat the drive cycle every 600 seconds\n",
    "current_interpolant = pybamm.Interpolant(t_in,I_in, (timescale * pybamm.t))"
   ]
  },
  {
   "cell_type": "code",
   "execution_count": 27,
   "id": "617b9b47",
   "metadata": {},
   "outputs": [],
   "source": [
    "parameter_values = get_parameter_values()\n",
    "parameter_values.update(\n",
    "    {\n",
    "        \"Positive electrode LAM constant proportional term [s-1]\": 2.5112e-07,\n",
    "        \"Negative electrode LAM constant proportional term [s-1]\": 2.4741e-06,\n",
    "        \"Positive electrode LAM constant exponential term\": 1.1942,\n",
    "        \"Negative electrode LAM constant exponential term\": 1.1942,\n",
    "        \"Negative electrode active material volume fraction\": eps_n_data,\n",
    "        \"Positive electrode active material volume fraction\": eps_p_data,\n",
    "        \"Initial temperature [K]\": 273.15+Temp,\n",
    "        \"Ambient temperature [K]\": 273.15+Temp,\n",
    "        \"SEI kinetic rate constant [m.s-1]\": 1.08494281e-16,\n",
    "        \"EC diffusivity [m2.s-1]\": 8.30909086e-19,\n",
    "        \"SEI growth activation energy [J.mol-1]\": 1.58777981e+04,\n",
    "        # \"SEI kinetic rate constant [m.s-1]\": 1.6827e-16,\n",
    "        # \"EC diffusivity [m2.s-1]\": 2e-18,\n",
    "        # \"SEI growth activation energy [J.mol-1]\": 0,\n",
    "    },\n",
    "    check_already_exists=False,\n",
    ")\n"
   ]
  },
  {
   "cell_type": "code",
   "execution_count": 28,
   "id": "f97ddeb2",
   "metadata": {},
   "outputs": [],
   "source": [
    "# all_sumvars_dict1 = cycle_adaptive_simulation(spm, parameter_values, experiment,SOC_0, save_at_cycles=1)"
   ]
  },
  {
   "cell_type": "code",
   "execution_count": 32,
   "id": "b6cb18fe",
   "metadata": {},
   "outputs": [],
   "source": [
    "# sim_long = pybamm.Simulation(spm, experiment=Single_Pulse, parameter_values=parameter_values, \n",
    "#                             solver=pybamm.CasadiSolver(\"safe\"))\n",
    "# sol_long = sim_long.solve(initial_soc=0.5  )\n",
    "\n",
    "parameter_values[\"Current function [A]\"] = current_interpolant\n",
    "\n",
    "t_eval = np.arange(0, 1000, 1)\n",
    "\n",
    "sim = pybamm.Simulation(\n",
    "    spm, \n",
    "    parameter_values=parameter_values,\n",
    "    solver=pybamm.CasadiSolver(mode=\"safe\",\n",
    "                              dt_max=1)\n",
    "   \n",
    ")\n",
    "sol_0=sim.solve([0,1000],initial_soc=.5)"
   ]
  },
  {
   "cell_type": "code",
   "execution_count": 11,
   "id": "bde8407b",
   "metadata": {},
   "outputs": [
    {
     "ename": "NameError",
     "evalue": "name 'qwrqwf' is not defined",
     "output_type": "error",
     "traceback": [
      "\u001b[1;31m---------------------------------------------------------------------------\u001b[0m",
      "\u001b[1;31mNameError\u001b[0m                                 Traceback (most recent call last)",
      "Cell \u001b[1;32mIn [11], line 1\u001b[0m\n\u001b[1;32m----> 1\u001b[0m \u001b[43mqwrqwf\u001b[49m\n",
      "\u001b[1;31mNameError\u001b[0m: name 'qwrqwf' is not defined"
     ]
    }
   ],
   "source": [
    "qwrqwf"
   ]
  },
  {
   "cell_type": "code",
   "execution_count": null,
   "id": "1762dfe3",
   "metadata": {},
   "outputs": [],
   "source": [
    "#pybamm.plot_summary_variables(sol_long)"
   ]
  },
  {
   "cell_type": "code",
   "execution_count": 33,
   "id": "32c9f1b1",
   "metadata": {},
   "outputs": [
    {
     "data": {
      "application/vnd.jupyter.widget-view+json": {
       "model_id": "942cf1885d794a9eb53e146e7e8bcfe8",
       "version_major": 2,
       "version_minor": 0
      },
      "text/plain": [
       "interactive(children=(FloatSlider(value=0.0, description='t', max=1000.0, step=10.0), Output()), _dom_classes=…"
      ]
     },
     "metadata": {},
     "output_type": "display_data"
    },
    {
     "data": {
      "text/plain": [
       "<pybamm.plotting.quick_plot.QuickPlot at 0x2746b24faf0>"
      ]
     },
     "execution_count": 33,
     "metadata": {},
     "output_type": "execute_result"
    }
   ],
   "source": [
    "sim.plot(\n",
    "    [\n",
    "#         \"Negative particle surface concentration [mol.m-3]\",\n",
    "#         \"Electrolyte concentration [mol.m-3]\",\n",
    "#         \"Positive particle surface concentration [mol.m-3]\",\n",
    "        \"Current [A]\",\n",
    "#         \"Negative electrode potential [V]\",\n",
    "#         \"Electrolyte potential [V]\",\n",
    "#         \"Positive electrode potential [V]\",\n",
    "        \"Terminal voltage [V]\",\n",
    "#         \"X-averaged cell temperature\",\n",
    "        \"Negative electrode SOC\",\n",
    "        \"Positive electrode SOC\",\n",
    "#         \"SEI thickness [m]\",\n",
    "        \"Loss of capacity to SEI [A.h]\",\n",
    "        \"Negative electrode capacity [A.h]\",\n",
    "        \"Positive electrode capacity [A.h]\",\n",
    "        \"Discharge capacity [A.h]\"\n",
    "\n",
    "        \n",
    "    ]\n",
    ")"
   ]
  },
  {
   "cell_type": "code",
   "execution_count": 35,
   "id": "d6b7ce8a",
   "metadata": {},
   "outputs": [],
   "source": [
    "# print(list(sol_0.summary_variables.keys()))"
   ]
  },
  {
   "cell_type": "code",
   "execution_count": 37,
   "id": "9a110a6d",
   "metadata": {},
   "outputs": [],
   "source": [
    "# type(sol_long.summary_variables[list(sol_long.summary_variables.keys())[1]])"
   ]
  },
  {
   "cell_type": "code",
   "execution_count": null,
   "id": "be0c64be",
   "metadata": {},
   "outputs": [],
   "source": [
    "# mdic={}\n",
    "# for i in range (1):\n",
    "# # range(len(sol_long.summary_variables)):\n",
    "# #     stringing=''.join([list(sol_long.summary_variables.keys())[i]])\n",
    "#     mdic={f\"{i}\": sol_long.summary_variables[list(sol_long.summary_variables.keys())[i]]}\n",
    "# savemat(\"summary\",mdic)\n"
   ]
  },
  {
   "cell_type": "code",
   "execution_count": null,
   "id": "8f58f46d",
   "metadata": {},
   "outputs": [],
   "source": [
    "ident=\"\""
   ]
  },
  {
   "cell_type": "code",
   "execution_count": null,
   "id": "1f89c8fa",
   "metadata": {},
   "outputs": [],
   "source": [
    "x100=sol_long.summary_variables[\"x_100\"]\n",
    "y100=sol_long.summary_variables[\"y_100\"]\n",
    "x0=sol_long.summary_variables[\"x_0\"]\n",
    "y0=sol_long.summary_variables[\"y_0\"]\n",
    "Cap=sol_long.summary_variables[\"Capacity [A.h]\"]\n",
    "LoC_SEI_summ=sol_long.summary_variables[\"Loss of capacity to SEI [A.h]\"]\n",
    "LAM_P=sol_long.summary_variables[\"Loss of active material in positive electrode [%]\"]\n",
    "LAM_N=sol_long.summary_variables[\"Loss of active material in negative electrode [%]\"]\n",
    "C_Neg=sol_long.summary_variables[\"C_n\"]\n",
    "C_pos=sol_long.summary_variables[\"C_p\"]\n",
    "LLI=sol_long.summary_variables[\"Loss of lithium inventory [%]\"]\n",
    "cycle_num=sol_long.summary_variables[\"Cycle number\"]\n",
    "t = sol_long[\"Time [s]\"].entries\n",
    "I = sol_long[\"Current [A]\"].entries\n",
    "Q = sol_long['Discharge capacity [A.h]'].entries\n",
    "LoC_SEI = sol_long[\"Loss of capacity to SEI [A.h]\"].entries\n",
    "N_SoC = sol_long[\"Negative electrode SOC\"].entries\n",
    "P_SoC = sol_long[\"Positive electrode SOC\"].entries\n",
    "\n",
    "\n",
    "ECM_whole_res=sol_long[\"Local ECM resistance [Ohm]\"].entries\n",
    "ECM_sum_res=sol_long.summary_variables[\"Local ECM resistance [Ohm]\"]\n",
    "ECM_sum_res_change=sol_long.summary_variables['Change in local ECM resistance [Ohm]']\n",
    "cycle_time=sol_long.summary_variables['Time [s]']\n",
    "# exp = 30e6*sol_0[\"Cell thickness change [m]\"].entries\n",
    "# exp_n = 30e6*sol_0[\"Negative Electrode thickness change [m]\"].entries\n",
    "# exp_p = 30e6*sol_0[\"Positive Electrode thickness change [m]\"].entries\n",
    "# ee_p = sol_0[\"X-averaged positive electrode porosity\"].entries\n",
    "# ee_n = sol_0[\"X-averaged negative electrode porosity\"].entries\n",
    "# ee_s = sol_0[\"X-averaged separator porosity\"].entries\n",
    "# j_n = sol_0[\"X-averaged negative electrode total interfacial current density [A.m-2]\"].entries\n",
    "# j_p = sol_0[\"X-averaged positive electrode total interfacial current density [A.m-2]\"].entries\n",
    "\n",
    "# x = sol_0[\"x [m]\"].entries\n",
    "# c_e_0 = sol_0[\"Electrolyte concentration [mol.m-3]\"].entries"
   ]
  },
  {
   "cell_type": "code",
   "execution_count": null,
   "id": "fc31168f",
   "metadata": {},
   "outputs": [],
   "source": [
    "# mdic = {\"x100\"+ident: x100, \"y100\"+ident:y100, \"x0\"+ident:x0,\"y0\"+ident:y0,\"Cap\"+ident:Cap,\n",
    "#         \"LoC_SEI_summ\"+ident:LoC_SEI_summ,\n",
    "#         \"LAM_P\"+ident:LAM_P,\"LAM_N\"+ident:LAM_N,\"C_Neg\"+ident:C_Neg,\"C_pos\"+ident:C_pos,\n",
    "#         \"LLI\"+ident:LLI,\"cycle_num\"+ident:cycle_num,\n",
    "#         \"t\"+ident:t,\"LoC_SEI\"+ident:LoC_SEI,\"N_SoC\"+ident:N_SoC,\"P_SoC\"+ident:P_SoC,\n",
    "#         \"Q\"+ident:Q, \"I\"+ident:I,  \n",
    "#         \"ECM_whole_res\":ECM_whole_res,\"ECM_sum_res\":ECM_sum_res,\n",
    "#         \"ECM_sum_res_change\":ECM_sum_res_change,\"cycle_time\":cycle_time         \n",
    "#        }\n",
    "# savemat(\"Outputs_Oct23_default_RC_RC\",mdic)"
   ]
  },
  {
   "cell_type": "code",
   "execution_count": null,
   "id": "6466cbe2",
   "metadata": {},
   "outputs": [],
   "source": [
    "# savemat(\"x100_test\", mdic)\n"
   ]
  },
  {
   "cell_type": "code",
   "execution_count": null,
   "id": "e1818afb",
   "metadata": {},
   "outputs": [],
   "source": [
    "# print(x100)"
   ]
  },
  {
   "cell_type": "code",
   "execution_count": null,
   "id": "8992078a",
   "metadata": {},
   "outputs": [],
   "source": [
    "# import csv\n",
    "# with open(r\"F:\\Git Hub rep\\CRC\\neew\\PyBaMM\\Untitled Folder\\whatever.csv\", 'w') as f:\n",
    "#     # create the csv writer\n",
    "#     writer = csv.writer(f)\n",
    "\n",
    "# write a row to the csv file\n",
    "# i=1\n",
    "# for lines in sol_long.all_summary_variables:\n",
    "# #     writer.writerow(words)\n",
    "#     i=i+1\n",
    "#     savemat(f'{i:02d}', lines)\n"
   ]
  },
  {
   "cell_type": "code",
   "execution_count": null,
   "id": "8c334d32",
   "metadata": {},
   "outputs": [],
   "source": [
    "type(x100)"
   ]
  },
  {
   "cell_type": "code",
   "execution_count": null,
   "id": "8f95d85f",
   "metadata": {},
   "outputs": [],
   "source": [
    "sol_long.variables.search(\"charge\")"
   ]
  },
  {
   "cell_type": "code",
   "execution_count": null,
   "id": "199d2a08",
   "metadata": {},
   "outputs": [],
   "source": [
    "# plt.plot(sol_long[\"Time [s]\"].entries[1:15133], sol_long[\"Current [A]\"].entries[1:15133])"
   ]
  },
  {
   "cell_type": "code",
   "execution_count": null,
   "id": "f03978ff",
   "metadata": {},
   "outputs": [],
   "source": [
    "# plt.plot(sol_long[\"Time [s]\"].entries[1:15133], sol_long[\"Terminal voltage [V]\"].entries[1:15133])"
   ]
  },
  {
   "cell_type": "code",
   "execution_count": null,
   "id": "e198ca0f",
   "metadata": {},
   "outputs": [],
   "source": [
    " plt.plot(sol_long[\"Time [s]\"].entries, 1-sol_long[\"Discharge capacity [A.h]\"].entries/5)"
   ]
  },
  {
   "cell_type": "code",
   "execution_count": null,
   "id": "c3f20e05",
   "metadata": {},
   "outputs": [],
   "source": [
    "sol_long[\"Time [s]\"].entries"
   ]
  },
  {
   "cell_type": "code",
   "execution_count": 38,
   "id": "082b4e81",
   "metadata": {},
   "outputs": [
    {
     "name": "stdout",
     "output_type": "stream",
     "text": [
      "Local ECM resistance\n",
      "Local ECM resistance [Ohm]\n",
      "Resistance [Ohm]\n",
      "X-averaged negative electrode resistance [Ohm.m2]\n"
     ]
    }
   ],
   "source": [
    "spm.variables.search(\"resistance\")"
   ]
  },
  {
   "cell_type": "code",
   "execution_count": 40,
   "id": "ef4e2255",
   "metadata": {
    "scrolled": true
   },
   "outputs": [
    {
     "data": {
      "application/vnd.jupyter.widget-view+json": {
       "model_id": "ee1ca3fea3d44111a7d1222cf204f08f",
       "version_major": 2,
       "version_minor": 0
      },
      "text/plain": [
       "interactive(children=(FloatSlider(value=0.0, description='t', max=1000.0, step=10.0), Output()), _dom_classes=…"
      ]
     },
     "metadata": {},
     "output_type": "display_data"
    },
    {
     "data": {
      "text/plain": [
       "<pybamm.plotting.quick_plot.QuickPlot at 0x2746e1f0b20>"
      ]
     },
     "execution_count": 40,
     "metadata": {},
     "output_type": "execute_result"
    }
   ],
   "source": [
    "sim.plot([\"Local ECM resistance\",\n",
    "\"Local ECM resistance [Ohm]\",\n",
    "               \"Resistance [Ohm]\"])\n"
   ]
  },
  {
   "cell_type": "code",
   "execution_count": null,
   "id": "d2c0a693",
   "metadata": {},
   "outputs": [],
   "source": [
    " plt.plot(sol_long[\"Time [s]\"].entries, 1-sol_long[\"Discharge capacity [A.h]\"].entries/5)"
   ]
  },
  {
   "cell_type": "code",
   "execution_count": null,
   "id": "19bb085b",
   "metadata": {},
   "outputs": [],
   "source": [
    "sol_long.summary_variables "
   ]
  },
  {
   "cell_type": "code",
   "execution_count": null,
   "id": "af4a9ab5",
   "metadata": {},
   "outputs": [],
   "source": []
  }
 ],
 "metadata": {
  "kernelspec": {
   "display_name": "Python 3 (ipykernel)",
   "language": "python",
   "name": "python3"
  },
  "language_info": {
   "codemirror_mode": {
    "name": "ipython",
    "version": 3
   },
   "file_extension": ".py",
   "mimetype": "text/x-python",
   "name": "python",
   "nbconvert_exporter": "python",
   "pygments_lexer": "ipython3",
   "version": "3.9.13"
  }
 },
 "nbformat": 4,
 "nbformat_minor": 5
}
