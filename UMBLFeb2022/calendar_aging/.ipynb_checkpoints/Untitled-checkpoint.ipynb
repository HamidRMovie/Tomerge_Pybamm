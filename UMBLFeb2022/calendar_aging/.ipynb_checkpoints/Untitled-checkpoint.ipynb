{
 "cells": [
  {
   "cell_type": "code",
   "execution_count": null,
   "id": "2bad1d0a",
   "metadata": {},
   "outputs": [],
   "source": []
  },
  {
   "cell_type": "code",
   "execution_count": null,
   "id": "b0dc412b",
   "metadata": {},
   "outputs": [],
   "source": []
  },
  {
   "cell_type": "code",
   "execution_count": null,
   "id": "72226382",
   "metadata": {},
   "outputs": [],
   "source": [
    "            elif var.name == \"X-averaged negative electrode active material volume fraction\":\n",
    "                # end = start + model.variables[var.name].size\n",
    "                # ics[var.name] = y[start:end, np.newaxis]\n",
    "    #             end = start + 1\n",
    "                ics[var.name] = y[1] * np.ones((model.variables[var.name].size, 1))\n",
    "    #             start = end\n",
    "            elif var.name == \"X-averaged positive electrode active material volume fraction\":\n",
    "                ics[var.name] = y[2] * np.ones((model.variables[var.name].size, 1))\n",
    "            elif var.name == \"X-averaged positive electrode loss nickel dissolution\":\n",
    "                ics[var.name] = y[3] * np.ones((model.variables[var.name].size, 1))\n",
    "            elif var.name == \"X-averaged negative electrode loss nickel dissolution\":\n",
    "                ics[var.name] = 0 * np.ones((model.variables[var.name].size, 1))            \n",
    "\n",
    "            elif var.name == \"X-averaged outer SEI thickness\":\n",
    "                ics[var.name] = y[4] * np.ones((model.variables[var.name].size, 1))\n",
    "\n",
    "            elif var.name == \"X-averaged lithium plating concentration\":\n",
    "                ics[var.name] = y[5] * np.ones((model.variables[var.name].size, 1))            \n",
    "            elif var.name == \"X-averaged dead lithium concentration\":\n",
    "                ics[var.name] = y[6] * np.ones((model.variables[var.name].size, 1))            \n"
   ]
  }
 ],
 "metadata": {
  "kernelspec": {
   "display_name": "Python 3 (ipykernel)",
   "language": "python",
   "name": "python3"
  },
  "language_info": {
   "codemirror_mode": {
    "name": "ipython",
    "version": 3
   },
   "file_extension": ".py",
   "mimetype": "text/x-python",
   "name": "python",
   "nbconvert_exporter": "python",
   "pygments_lexer": "ipython3",
   "version": "3.9.13"
  }
 },
 "nbformat": 4,
 "nbformat_minor": 5
}
