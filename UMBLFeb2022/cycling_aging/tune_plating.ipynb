{
 "cells": [
  {
   "cell_type": "code",
   "execution_count": 1,
   "metadata": {},
   "outputs": [],
   "source": [
    "import pybamm\n",
    "import matplotlib.pyplot as plt\n",
    "import numpy as np\n",
    "import pandas as pd\n",
    "import math\n",
    "import dfols\n",
    "import signal\n",
    "from scipy.integrate import solve_ivp\n",
    "from scipy.fft import fft, fftfreq, fftshift\n",
    "from scipy.signal import savgol_filter\n",
    "from scipy.signal import find_peaks\n",
    "from scipy import interpolate\n",
    "from stopit import threading_timeoutable as timeoutable\n",
    "import os, sys\n",
    "sys.path.append(os.path.dirname(os.path.dirname(os.path.abspath(\"__file__\"))))\n",
    "from stopit import threading_timeoutable as timeoutable\n",
    "from batfuns import *\n",
    "plt.rcParams = set_rc_params(plt.rcParams)\n",
    "\n",
    "eSOH_DIR = \"../data/esoh/\"\n",
    "oCV_DIR = \"../data/ocv/\"\n",
    "fig_DIR = \"../figures/figures_fit/\"\n",
    "res_DIR = \"../data/results_fit/\"\n",
    "# %matplotlib widget"
   ]
  },
  {
   "cell_type": "code",
   "execution_count": 2,
   "metadata": {},
   "outputs": [],
   "source": [
    "# parameter_values = get_parameter_values()\n",
    "\n",
    "parameter_values = pybamm.ParameterValues(chemistry=pybamm.parameter_sets.Andrew2022)\n",
    "\n",
    "parameter_values.update(\n",
    "    {\n",
    "        # mechanical properties\n",
    "        \"Positive electrode Poisson's ratio\": 0.3,\n",
    "        \"Positive electrode Young's modulus [Pa]\": 375e9,\n",
    "        \"Positive electrode reference concentration for free of deformation [mol.m-3]\": 0,\n",
    "        \"Positive electrode partial molar volume [m3.mol-1]\": -7.28e-7,\n",
    "        \"Positive electrode volume change\": nmc_volume_change_mohtat,\n",
    "        # Loss of active materials (LAM) model\n",
    "        \"Positive electrode LAM constant exponential term\": 2,\n",
    "        \"Positive electrode critical stress [Pa]\": 375e6,\n",
    "        # mechanical properties\n",
    "        \"Negative electrode Poisson's ratio\": 0.2,\n",
    "        \"Negative electrode Young's modulus [Pa]\": 15e9,\n",
    "        \"Negative electrode reference concentration for free of deformation [mol.m-3]\": 0,\n",
    "        \"Negative electrode partial molar volume [m3.mol-1]\": 3.1e-6,\n",
    "        \"Negative electrode volume change\": graphite_volume_change_mohtat,\n",
    "        # Loss of active materials (LAM) model\n",
    "        \"Negative electrode LAM constant exponential term\": 2,\n",
    "        \"Negative electrode critical stress [Pa]\": 60e6,\n",
    "        # Other\n",
    "        \"Cell thermal expansion coefficient [m.K-1]\": 1.48E-6,\n",
    "        \"Lower voltage cut-off [V]\": 3.0,\n",
    "        # Initializing Particle Concentration\n",
    "        # \"Initial concentration in negative electrode [mol.m-3]\": x100*parameter_values[\"Maximum concentration in negative electrode [mol.m-3]\"],\n",
    "        # \"Initial concentration in positive electrode [mol.m-3]\": y100*parameter_values[\"Maximum concentration in positive electrode [mol.m-3]\"]\n",
    "    },\n",
    "    check_already_exists=False,\n",
    ")"
   ]
  },
  {
   "cell_type": "code",
   "execution_count": 3,
   "metadata": {},
   "outputs": [
    {
     "name": "stdout",
     "output_type": "stream",
     "text": [
      "Maximum concentration in negative electrode [mol.m-3]\t28746.0\n",
      "Maximum concentration in positive electrode [mol.m-3]\t35380.0\n"
     ]
    }
   ],
   "source": [
    "parameter_values.search(\"maximum con\")"
   ]
  },
  {
   "cell_type": "code",
   "execution_count": 4,
   "metadata": {},
   "outputs": [],
   "source": [
    "spm = pybamm.lithium_ion.SPM(\n",
    "    {\n",
    "        \"SEI\": \"ec reaction limited\",\n",
    "        # \"loss of active material\": (\"stress-driven\",\"none\"),\n",
    "        \"loss of active material\": \"stress-driven\",\n",
    "        # \"stress-induced diffusion\": \"true\",\n",
    "        \"lithium plating\": \"irreversible\",\n",
    "    }\n",
    ")\n",
    "# spm.print_parameter_info()\n",
    "param=spm.param"
   ]
  },
  {
   "cell_type": "code",
   "execution_count": 5,
   "metadata": {},
   "outputs": [],
   "source": [
    "parameter_values.update(\n",
    "    {\n",
    "    \"Electrode width [m]\":0.1,\n",
    "#     \"Maximum concentration in negative electrode [mol.m-3]\":30000,\n",
    "       \"Nominal cell capacity [A.h]\":2.5,\n",
    "        \"Maximum concentration in positive electrode [mol.m-3]\":37500,\n",
    "        \"Positive electrode thickness [m]\":5.45e-05,\n",
    "        \n",
    "    }\n",
    ")"
   ]
  },
  {
   "cell_type": "code",
   "execution_count": 6,
   "metadata": {},
   "outputs": [],
   "source": [
    "cell = 152002"
   ]
  },
  {
   "cell_type": "markdown",
   "metadata": {},
   "source": [
    "## Load eSOH Data and OCV Data"
   ]
  },
  {
   "cell_type": "code",
   "execution_count": 7,
   "metadata": {},
   "outputs": [
    {
     "data": {
      "text/plain": [
       "892"
      ]
     },
     "execution_count": 7,
     "metadata": {},
     "output_type": "execute_result"
    }
   ],
   "source": [
    "cell_no,dfe,dfe_0,dfo_0,N,N_0 = load_data(cell,eSOH_DIR,oCV_DIR)\n",
    "eps_n_data,eps_p_data,c_rate_c,c_rate_d,dis_set,Temp,SOC_0 = init_exp(cell_no,dfe,spm,parameter_values)\n",
    "\n",
    "Temp=45\n",
    "dfe.N.iloc[-1]"
   ]
  },
  {
   "cell_type": "code",
   "execution_count": 8,
   "metadata": {},
   "outputs": [
    {
     "data": {
      "text/plain": [
       "0.6571914969631569"
      ]
     },
     "execution_count": 8,
     "metadata": {},
     "output_type": "execute_result"
    }
   ],
   "source": [
    "pybamm.set_logging_level(\"WARNING\")\n",
    "# pybamm.set_logging_level(\"NOTICE\")\n",
    "experiment = pybamm.Experiment(\n",
    "    [\n",
    "        (\"Charge at 1C until 4.2V\", \n",
    "         \"Hold at 4.2V until C/50\",\n",
    "         \"Rest for 10 min\",\n",
    "         \"Discharge at 1C until 3V\",\n",
    "         \"Rest for 10 min\",)\n",
    "    ] *dfe.N.iloc[-1],\n",
    "    termination=\"50% capacity\",\n",
    "#     cccv_handling=\"ode\",\n",
    ")\n",
    "eps_n_data"
   ]
  },
  {
   "cell_type": "code",
   "execution_count": 9,
   "metadata": {},
   "outputs": [],
   "source": [
    "# parameter_values = get_parameter_values()\n",
    "parameter_values.update(\n",
    "    {\n",
    "        \"Negative electrode active material volume fraction\": eps_n_data,\n",
    "        \"Positive electrode active material volume fraction\": eps_p_data,\n",
    "        \"Initial temperature [K]\": 273.15+Temp,\n",
    "        \"Ambient temperature [K]\": 273.15+Temp,\n",
    "        \"Positive electrode LAM constant proportional term [s-1]\": 9.0638e-08,#1.27152e-07\n",
    "        \"Negative electrode LAM constant proportional term [s-1]\": 8.7257e-08,#1.27272e-06\n",
    "        \"Positive electrode LAM constant exponential term\": 1.02,\n",
    "        \"Negative electrode LAM constant exponential term\": 1.02,\n",
    "        \"SEI kinetic rate constant [m.s-1]\": 1.77e-15, #4.352126e-16, #4.196499e-16, #4.60788219e-16, 1.08494281e-16 , \n",
    "        \"EC diffusivity [m2.s-1]\": 3.07e-20, #3.6864e-19, #4.56607447e-19,8.30909086e-19,\n",
    "        \"SEI growth activation energy [J.mol-1]\": 0, #5997.629, #1.87422275e+04,1.58777981e+04,\n",
    "        \"Lithium plating kinetic rate constant [m.s-1]\": 4.543e-10,\n",
    "        \"Initial inner SEI thickness [m]\": 0e-09,\n",
    "        \"Initial outer SEI thickness [m]\": 5e-09,\n",
    "        \"SEI resistivity [Ohm.m]\": 1.3e02,\n",
    "        \n",
    "    #Cathode disolution\n",
    "        \"Positive electrode dissolution exchange current density\": 5.85309e-4,\n",
    "        \"Negative electrode dissolution exchange current density\": 0,\n",
    "                \n",
    "        \"Positive electrode dissolution nickel SEI coefficient\": 0,\n",
    "        \"Negative electrode dissolution nickel SEI coefficient\": 15.5,\n",
    "        \n",
    "        \"Positive electrode dissolution nickel intercalation coefficient\": 0,\n",
    "        \"Negative electrode dissolution nickel intercalation coefficient\": 0,\n",
    "             \n",
    "        \n",
    "        \n",
    "    },\n",
    "    check_already_exists=False,\n",
    ")\n"
   ]
  },
  {
   "cell_type": "code",
   "execution_count": 10,
   "metadata": {},
   "outputs": [],
   "source": [
    "SOC_0=0\n",
    "all_sumvars_dict = cycle_adaptive_simulation(spm, parameter_values, experiment,SOC_0, save_at_cycles=1)"
   ]
  },
  {
   "cell_type": "code",
   "execution_count": 11,
   "metadata": {
    "scrolled": true
   },
   "outputs": [
    {
     "data": {
      "image/png": "[encoded data removed]",
      "text/plain": [
       "<Figure size 1050x1050 with 8 Axes>"
      ]
     },
     "metadata": {},
     "output_type": "display_data"
    }
   ],
   "source": [
    "fig = plotc(all_sumvars_dict,dfe);\n",
    "# fig.savefig(fig_DIR +'fast_sim_'+cell_no+'_new.png')"
   ]
  },
  {
   "cell_type": "code",
   "execution_count": 12,
   "metadata": {},
   "outputs": [
    {
     "data": {
      "text/plain": [
       "['__class__',\n",
       " '__class_getitem__',\n",
       " '__contains__',\n",
       " '__delattr__',\n",
       " '__delitem__',\n",
       " '__dir__',\n",
       " '__doc__',\n",
       " '__eq__',\n",
       " '__format__',\n",
       " '__ge__',\n",
       " '__getattribute__',\n",
       " '__getitem__',\n",
       " '__gt__',\n",
       " '__hash__',\n",
       " '__init__',\n",
       " '__init_subclass__',\n",
       " '__ior__',\n",
       " '__iter__',\n",
       " '__le__',\n",
       " '__len__',\n",
       " '__lt__',\n",
       " '__ne__',\n",
       " '__new__',\n",
       " '__or__',\n",
       " '__reduce__',\n",
       " '__reduce_ex__',\n",
       " '__repr__',\n",
       " '__reversed__',\n",
       " '__ror__',\n",
       " '__setattr__',\n",
       " '__setitem__',\n",
       " '__sizeof__',\n",
       " '__str__',\n",
       " '__subclasshook__',\n",
       " 'clear',\n",
       " 'copy',\n",
       " 'fromkeys',\n",
       " 'get',\n",
       " 'items',\n",
       " 'keys',\n",
       " 'pop',\n",
       " 'popitem',\n",
       " 'setdefault',\n",
       " 'update',\n",
       " 'values']"
      ]
     },
     "execution_count": 12,
     "metadata": {},
     "output_type": "execute_result"
    }
   ],
   "source": [
    "dir(all_sumvars_dict)"
   ]
  },
  {
   "cell_type": "code",
   "execution_count": 13,
   "metadata": {},
   "outputs": [],
   "source": [
    "# gegsg"
   ]
  },
  {
   "cell_type": "markdown",
   "metadata": {},
   "source": [
    "# Parameter Fitting"
   ]
  },
  {
   "cell_type": "markdown",
   "metadata": {},
   "source": [
    "## List of Initial Conditions"
   ]
  },
  {
   "cell_type": "code",
   "execution_count": 14,
   "metadata": {},
   "outputs": [],
   "source": [
    "# pybamm.set_logging_level(\"NOTICE\")\n",
    "\n",
    "\n",
    "ic = 1\n",
    "blam_p = [1e-6,1e-7,1e-8]\n",
    "blam_n = [1e-6,1e-7,1e-8]\n",
    "# k_sei= [1*2e-16,1/5*2e-16,5*2e-16]\n",
    "k_pl = 1e-9\n",
    " # variables = [\"Capacity [A.h]\", \"Loss of lithium inventory [%]\",\"x_100\",\"y_0\"]\n",
    "    # weights = [1,1/20,5,5]"
   ]
  },
  {
   "cell_type": "code",
   "execution_count": 15,
   "metadata": {},
   "outputs": [],
   "source": [
    "def objective(model, data):\n",
    "    return np.array(model.loc[data['N_mod']][\"Capacity [A.h]\"]) - np.array(data[\"Capacity [A.h]\"])\n",
    "\n",
    "def multi_objective(model, data):\n",
    "    # variables = [\"C_n\",\"C_p\",\"x_100\",\"y_0\"]\n",
    "    # weights = [1,1,5,5]\n",
    "    # variables = [\"Capacity [A.h]\", \"Loss of lithium inventory [%]\"]\n",
    "    # # weights = [1,1/20]\n",
    "    variables = [\"Capacity [A.h]\", \"Loss of lithium inventory [%]\", \"C_n\", \"C_p\"]    \n",
    "    weights = [1/2.5,1/10,1,1]             \n",
    "    return np.concatenate([\n",
    "        (np.array(model.loc[data['N_mod']][var]) - np.array(data[var])) * w\n",
    "        for w,var in zip(weights,variables)\n",
    "    ]\n",
    "    )\n",
    "@timeoutable()\n",
    "def simulate(x,eps_n_data,eps_p_data,SOC_0,Temp,experiment):\n",
    "    parameter_values.update(\n",
    "        {\n",
    "            \"Positive electrode LAM constant proportional term [s-1]\": x[0]* blam_p[ic],\n",
    "            \"Negative electrode LAM constant proportional term [s-1]\": x[1]*blam_n[ic],\n",
    "            \"Positive electrode LAM constant exponential term\": x[2]*2,\n",
    "            \"Negative electrode LAM constant exponential term\": x[2]*2,\n",
    "            \"Lithium plating kinetic rate constant [m.s-1]\": x[3]*k_pl,\n",
    "            \"Negative electrode active material volume fraction\": eps_n_data,\n",
    "            \"Positive electrode active material volume fraction\": eps_p_data,\n",
    "            \"Initial temperature [K]\": 273.15+45,\n",
    "            \"Ambient temperature [K]\": 273.15+45,\n",
    "        },\n",
    "        check_already_exists=False,\n",
    "    )\n",
    "    summvvar=cycle_adaptive_simulation(spm, parameter_values, experiment, SOC_0,save_at_cycles=1)\n",
    "    return summvvar\n",
    "def prediction_error(x):\n",
    "#     try:\n",
    "    out=[]\n",
    "    cell=152002\n",
    "    cell_no,dfe,dfe_0,dfo_0,N,N_0 = load_data(cell,eSOH_DIR,oCV_DIR)\n",
    "    eps_n_data,eps_p_data,c_rate_c,c_rate_d,dis_set,Temp,SOC_0 = init_exp(cell_no,dfe,spm,parameter_values)\n",
    "    Temp=45 #Ha\n",
    "    SOC_0=0 #Ha\n",
    "    print(eps_n_data)\n",
    "    print(eps_p_data)\n",
    "    print(Temp)\n",
    "    print(SOC_0)\n",
    "    # print(f\"Cell: {cell_no}\")\n",
    "    experiment = pybamm.Experiment(\n",
    "        [\n",
    "          (\"Charge at 1C until 4.2V\", \n",
    "         \"Hold at 4.2V until C/50\",\n",
    "         \"Rest for 10 min\",\n",
    "         \"Discharge at 1C until 3V\",\n",
    "         \"Rest for 10 min\")\n",
    "        ] *dfe.N.iloc[-1],\n",
    "        termination=\"50% capacity\",\n",
    "    #     cccv_handling=\"ode\",\n",
    "    )\n",
    "    # print(f\"Model\")\n",
    "#     x15 = simulate(x,eps_n_data,eps_p_data,SOC_0,Temp,experiment,timeout=30)\n",
    "    model = simulate(x,eps_n_data,eps_p_data,SOC_0,Temp,experiment)\n",
    "\n",
    "#         plotc(model,dfe)\n",
    "\n",
    "    print(f\"Objective\")\n",
    "    out_t =   multi_objective(pd.DataFrame(model), dfe)\n",
    "    print(f\"Concat\")\n",
    "    out=np.concatenate([out,out_t])\n",
    "    print(f\"x={x}, norm={np.linalg.norm(out)}\")\n",
    "    # except pybamm.SolverError:\n",
    "#     except:\n",
    "#         out=[]\n",
    "#         for cell in [152002]:\n",
    "#             cell_no,dfe,dfe_0,dfo_0,N,N_0 = load_data(cell,eSOH_DIR,oCV_DIR)\n",
    "#             # out_t = np.concatenate([np.array(dfe['Cap'])]*2)\n",
    "#             out_t = np.concatenate([np.array(dfe['Cap'])]*4)\n",
    "#             out=np.concatenate([out, out_t])\n",
    "#         out = 2*np.ones_like(out)\n",
    "#         print(f\"Error\")\n",
    "#         print(f\"x={x}, norm={np.linalg.norm(out)}\")\n",
    "    return out\n",
    "\n",
    "def train_model():\n",
    "    timer = pybamm.Timer()\n",
    "    x0 = np.array([1.0,0.8,0.51,0.4])\n",
    "    # print(prediction_error(x0))\n",
    "    lower = np.array([1e-3, 1e-3, 0.51, 1e-2])\n",
    "    upper = np.array([1e+3, 1e+3, 2.0, 1e+2])\n",
    "    dfo_opts = {\n",
    "        \"init.random_initial_directions\":True,\n",
    "        \"init.run_in_parallel\": True,\n",
    "    }\n",
    "#     model, out= prediction_error(x0)\n",
    "    soln_dfols = dfols.solve(prediction_error, x0,bounds=(lower, upper), rhoend=1e-2, user_params=dfo_opts)\n",
    "    print(timer.time())\n",
    "#     solflag=soln_dfols.flag \n",
    "#     print(solflag)\n",
    "    return soln_dfols\n",
    "#     return model\n",
    "def sim_train(df):\n",
    "    soln_dfols = train_model()\n",
    "    xsol = soln_dfols.x\n",
    "#     solflag=soln_dfols.flag \n",
    "    # print(xsol[0]*2e-2/3600)\n",
    "    # print(xsol[1]*2e-1/3600)\n",
    "    # print(xsol[2]*1.6e-16)\n",
    "#     print(solflag)\n",
    "    df['x_0'][0]=round(xsol[0],4)*blam_p[ic]\n",
    "    df['x_1'][0]=round(xsol[1],4)*blam_n[ic]\n",
    "    df['x_2'][0]=round(xsol[2],4)*2\n",
    "    df['x_3'][0]=round(xsol[3],4)*k_pl\n",
    "    df['obj'][0]=soln_dfols.f\n",
    "#     return xsol\n",
    "    return xsol ,df"
   ]
  },
  {
   "cell_type": "code",
   "execution_count": 16,
   "metadata": {},
   "outputs": [],
   "source": [
    "df_x = pd.DataFrame(columns=['x_0','x_1','x_2','x_3','obj'], index=[0])"
   ]
  },
  {
   "cell_type": "code",
   "execution_count": 17,
   "metadata": {},
   "outputs": [
    {
     "name": "stdout",
     "output_type": "stream",
     "text": [
      "0.6571914969631569\n",
      "0.551193680545816\n",
      "45\n",
      "0\n",
      "Objective\n",
      "Concat\n",
      "x=[1.   0.8  0.51 0.4 ], norm=0.7345144901186007\n",
      "0.6571914969631569\n",
      "0.551193680545816\n",
      "45\n",
      "0\n",
      "Objective\n",
      "Concat\n",
      "x=[0.90358839 0.77374536 0.51       0.40393634], norm=0.617792642418872\n",
      "0.6571914969631569\n",
      "0.551193680545816\n",
      "45\n",
      "0\n",
      "Objective\n",
      "Concat\n",
      "x=[1.00169907 0.77910107 0.51       0.30222297], norm=0.5628481288924013\n",
      "0.6571914969631569\n",
      "0.551193680545816\n",
      "45\n",
      "0\n",
      "Objective\n",
      "Concat\n",
      "x=[1.02649366 0.70579847 0.51       0.42059508], norm=0.7654099019270509\n",
      "0.6571914969631569\n",
      "0.551193680545816\n",
      "45\n",
      "0\n",
      "Objective\n",
      "Concat\n",
      "x=[1.   0.8  0.61 0.4 ], norm=0.49735584288722884\n",
      "0.6571914969631569\n",
      "0.551193680545816\n",
      "45\n",
      "0\n",
      "Objective\n",
      "Concat\n",
      "x=[0.97534006 0.83843739 0.56516875 0.32315852], norm=0.45845084299170813\n",
      "0.6571914969631569\n",
      "0.551193680545816\n",
      "45\n",
      "0\n",
      "Objective\n",
      "Concat\n",
      "x=[0.79550446 0.93708113 0.51       0.27667206], norm=0.43911818220534526\n",
      "0.6571914969631569\n",
      "0.551193680545816\n",
      "45\n",
      "0\n",
      "Objective\n",
      "Concat\n",
      "x=[0.78182853 0.89749886 0.51       0.27615738], norm=0.43612057458333375\n",
      "0.6571914969631569\n",
      "0.551193680545816\n",
      "45\n",
      "0\n",
      "Objective\n",
      "Concat\n",
      "x=[0.78075795 0.89267666 0.51       0.27865351], norm=0.4361435679064659\n",
      "0.6571914969631569\n",
      "0.551193680545816\n",
      "45\n",
      "0\n",
      "Objective\n",
      "Concat\n",
      "x=[0.77921895 0.89839259 0.51959283 0.2767647 ], norm=0.4432715865447765\n",
      "0.6571914969631569\n",
      "0.551193680545816\n",
      "45\n",
      "0\n",
      "Objective\n",
      "Concat\n",
      "x=[0.79512314 0.89294572 0.51423668 0.27306336], norm=0.4371514448923218\n",
      "0.6571914969631569\n",
      "0.551193680545816\n",
      "45\n",
      "0\n",
      "Objective\n",
      "Concat\n",
      "x=[0.7854797  0.89924953 0.51       0.27436904], norm=0.4361033132521043\n",
      "6 minutes, 54 seconds\n"
     ]
    }
   ],
   "source": [
    "train_len = len(N)\n",
    "x12,df_x12 = sim_train(df_x)\n",
    "# x12 = sim_train(df_x)\n",
    "# len(N)"
   ]
  },
  {
   "cell_type": "code",
   "execution_count": 18,
   "metadata": {
    "scrolled": true
   },
   "outputs": [],
   "source": [
    "# # dfe\n",
    "# x13=pd.DataFrame(x12)\n",
    "# np.array(x13.loc[dfe['N_mod']][\"Capacity [A.h]\"]) "
   ]
  },
  {
   "cell_type": "code",
   "execution_count": null,
   "metadata": {},
   "outputs": [],
   "source": []
  },
  {
   "cell_type": "code",
   "execution_count": 19,
   "metadata": {},
   "outputs": [
    {
     "ename": "SyntaxError",
     "evalue": "invalid syntax (1374486524.py, line 1)",
     "output_type": "error",
     "traceback": [
      "\u001b[1;36m  Cell \u001b[1;32mIn [19], line 1\u001b[1;36m\u001b[0m\n\u001b[1;33m    .fgdfdfg\u001b[0m\n\u001b[1;37m    ^\u001b[0m\n\u001b[1;31mSyntaxError\u001b[0m\u001b[1;31m:\u001b[0m invalid syntax\n"
     ]
    }
   ],
   "source": [
    ".fgdfdfg"
   ]
  },
  {
   "cell_type": "code",
   "execution_count": null,
   "metadata": {},
   "outputs": [],
   "source": [
    "df_x12"
   ]
  },
  {
   "cell_type": "code",
   "execution_count": null,
   "metadata": {},
   "outputs": [],
   "source": [
    "sim_des=\"plating_Andrew_dissol_mar23\"\n",
    "df_x.to_csv(res_DIR + \"cycl_train_\"+sim_des+\".csv\")"
   ]
  },
  {
   "cell_type": "code",
   "execution_count": null,
   "metadata": {},
   "outputs": [],
   "source": [
    "def plotcn(all_sumvars_dict,esoh_data):\n",
    "    esoh_vars = [\"x_100\", \"y_0\", \"C_n_loss\", \"C_p_loss\", \"Capacity [A.h]\", \"Loss of lithium inventory [%]\"]\n",
    "    all_sumvars_dict[\"C_n_loss\"] = (all_sumvars_dict[\"C_n\"][0]-all_sumvars_dict[\"C_n\"])/all_sumvars_dict[\"C_n\"][0]*100\n",
    "    all_sumvars_dict[\"C_p_loss\"] = (all_sumvars_dict[\"C_p\"][0]-all_sumvars_dict[\"C_p\"])/all_sumvars_dict[\"C_p\"][0]*100\n",
    "    esoh_data[\"C_n_loss\"] = (esoh_data[\"C_n\"][0]-esoh_data[\"C_n\"])/esoh_data[\"C_n\"][0]*100\n",
    "    esoh_data[\"C_p_loss\"] = (esoh_data[\"C_p\"][0]-esoh_data[\"C_p\"])/esoh_data[\"C_p\"][0]*100\n",
    "    fig, axes = plt.subplots(3,2,figsize=(7,7))\n",
    "    for k, name in enumerate(esoh_vars):\n",
    "        ax = axes.flat[k]\n",
    "        ax.plot(all_sumvars_dict[\"Cycle number\"],all_sumvars_dict[name],\"ro\")\n",
    "        ax.plot(esoh_data[\"N\"],esoh_data[name],\"kx\")\n",
    "        ax.set_title(split_long_string(name))\n",
    "        # if k ==2 or k==3:\n",
    "        #     ax.set_ylim([3,6.2])\n",
    "        if k>3:\n",
    "            ax.set_xlabel(\"Cycle number\")\n",
    "    fig.legend([\"Sim\"] + [\"Data\"], \n",
    "           loc=\"lower center\",bbox_to_anchor=[0.5,-0.02], ncol=1, fontsize=11)\n",
    "    fig.tight_layout()\n",
    "    return fig"
   ]
  },
  {
   "cell_type": "code",
   "execution_count": null,
   "metadata": {},
   "outputs": [],
   "source": [
    "for cell in [152002]:\n",
    "    cell_no,dfe,dfe_0,dfo_0,N,N_0 = load_data(cell,eSOH_DIR,oCV_DIR)\n",
    "    eps_n_data,eps_p_data,c_rate_c,c_rate_d,dis_set,Temp,SOC_0 = init_exp(cell_no,dfe,spm,parameter_values)\n",
    "    # print(f\"Cell: {cell_no}\")\n",
    "    SOC_0=0\n",
    "    Temp=45\n",
    "    experiment = pybamm.Experiment(\n",
    "        [\n",
    "           ( \"Charge at 1C until 4.2V\", \n",
    "         \"Hold at 4.2V until C/50\",\n",
    "         \"Rest for 10 min\",\n",
    "         \"Discharge at 1C until 3V\",\n",
    "         \"Rest for 10 min\")\n",
    "        ] *dfe.N.iloc[-1],\n",
    "        termination=\"50% capacity\",\n",
    "    #     cccv_handling=\"ode\",\n",
    "    )\n",
    "    # print(f\"Model\")\n",
    "    sol_out = simulate(x12,eps_n_data,eps_p_data,SOC_0,Temp,experiment,timeout=30)\n",
    "    fig = plotcn(sol_out,dfe);\n",
    "#     plt.savefig(fig_DIR +'cycling_aging_cell_'+cell_no+'_'+sim_des+'.png')"
   ]
  },
  {
   "cell_type": "code",
   "execution_count": null,
   "metadata": {},
   "outputs": [],
   "source": [
    "df_x"
   ]
  },
  {
   "cell_type": "code",
   "execution_count": null,
   "metadata": {},
   "outputs": [],
   "source": [
    "Temp"
   ]
  },
  {
   "cell_type": "code",
   "execution_count": null,
   "metadata": {},
   "outputs": [],
   "source": [
    "x"
   ]
  },
  {
   "cell_type": "code",
   "execution_count": null,
   "metadata": {},
   "outputs": [],
   "source": [
    "parameter_values.search(\"\")"
   ]
  },
  {
   "cell_type": "code",
   "execution_count": null,
   "metadata": {},
   "outputs": [],
   "source": [
    "\n",
    "\n",
    "\n",
    "sim_long_Abdrew = pybamm.Simulation(spm, experiment=experiment, parameter_values=parameter_values, \n",
    "                            solver=pybamm.CasadiSolver(\"safe\",\n",
    "                            rtol=1e-6, \n",
    "                            atol=1e-6,\n",
    "                            dt_max=10,\n",
    "                                                      ))\n",
    "sol_long_Abdrew = sim_long_Abdrew.solve(initial_soc=0, save_at_cycles=20  )\n"
   ]
  },
  {
   "cell_type": "code",
   "execution_count": null,
   "metadata": {},
   "outputs": [],
   "source": [
    "pybamm.plot_summary_variables(sol_long_Abdrew)"
   ]
  },
  {
   "cell_type": "code",
   "execution_count": null,
   "metadata": {},
   "outputs": [],
   "source": [
    "sol_long=sol_long_Abdrew\n",
    "x100=sol_long.summary_variables[\"x_100\"]\n",
    "y100=sol_long.summary_variables[\"y_100\"]\n",
    "x0=sol_long.summary_variables[\"x_0\"]\n",
    "y0=sol_long.summary_variables[\"y_0\"]\n",
    "Cap=sol_long.summary_variables[\"Capacity [A.h]\"]\n",
    "LoC_SEI_summ=sol_long.summary_variables[\"Loss of capacity to SEI [A.h]\"]\n",
    "LAM_P=sol_long.summary_variables[\"Loss of active material in positive electrode [%]\"]\n",
    "LAM_N=sol_long.summary_variables[\"Loss of active material in negative electrode [%]\"]\n",
    "C_Neg=sol_long.summary_variables[\"C_n\"]\n",
    "C_pos=sol_long.summary_variables[\"C_p\"]\n",
    "LLI=sol_long.summary_variables[\"Loss of lithium inventory [%]\"]\n",
    "cycle_num=sol_long.summary_variables[\"Cycle number\"]\n",
    "t = sol_long[\"Time [s]\"].entries\n",
    "I = sol_long[\"Current [A]\"].entries\n",
    "Q = sol_long['Discharge capacity [A.h]'].entries\n",
    "LoC_SEI = sol_long[\"Loss of capacity to SEI [A.h]\"].entries\n",
    "N_SoC = sol_long[\"Negative electrode SOC\"].entries\n",
    "P_SoC = sol_long[\"Positive electrode SOC\"].entries\n",
    "Epsilon_n_s_cycled=sol_long[\"X-averaged negative electrode active material volume fraction\"].entries\n",
    "Epsilon_p_s_cycled=sol_long[\"X-averaged positive electrode active material volume fraction\"].entries\n",
    "cycle_time=sol_long.summary_variables['Time [s]'],\n",
    "Vt_t = sol_long[\"Terminal voltage [V]\"].entries,\n",
    "\n",
    "LLI_SEI_mol=sol_long[\"Loss of lithium to SEI [mol]\"].entries,\n",
    "LLI_plating_mol=sol_long[\"Loss of lithium to lithium plating [mol]\"].entries,"
   ]
  },
  {
   "cell_type": "code",
   "execution_count": null,
   "metadata": {},
   "outputs": [],
   "source": [
    "from scipy.io import savemat\n",
    "\n",
    "ident=\"\"\n",
    "mdic = {\n",
    "    \"x100\"+ident: x100, \"y100\"+ident:y100, \"x0\"+ident:x0,\"y0\"+ident:y0,\"Cap\"+ident:Cap,\n",
    "        \"LoC_SEI_summ\"+ident:LoC_SEI_summ,\n",
    "        \"LAM_P\"+ident:LAM_P,\"LAM_N\"+ident:LAM_N,\"C_Neg\"+ident:C_Neg,\"C_pos\"+ident:C_pos,\n",
    "        \"LLI\"+ident:LLI,\"cycle_num\"+ident:cycle_num,\n",
    "        \"t\"+ident:t,\"LoC_SEI\"+ident:LoC_SEI,\"N_SoC\"+ident:N_SoC,\"P_SoC\"+ident:P_SoC,\n",
    "        \"Q\"+ident:Q, \"I\"+ident:I,    \n",
    "#         \"ECM_whole_res\":ECM_whole_res,\"ECM_sum_res\":ECM_sum_res,\n",
    "#         \"ECM_sum_res_change\":ECM_sum_res_change,\"cycle_time\":cycle_time \n",
    "        \"Epsilon_n_s_cycled\"+ident:Epsilon_n_s_cycled,\n",
    "        \"Epsilon_p_s_cycled\"+ident:Epsilon_p_s_cycled,\n",
    "        \"cycle_time\":cycle_time, \"Vt_t\":Vt_t,\n",
    "        \"LLI_SEI_mol\":LLI_SEI_mol,\n",
    "        \"LLI_plating_mol\":LLI_plating_mol,\n",
    "    \n",
    "       }\n",
    "savemat(\"Andrew_experiment_feb13_2.mat\",mdic)"
   ]
  },
  {
   "cell_type": "code",
   "execution_count": null,
   "metadata": {},
   "outputs": [],
   "source": [
    "print(parameter_values.search(\"max\"))\n",
    "print(parameter_values.search(\"EC \"))\n",
    "print(parameter_values.search(\"plating\"))\n",
    "print(parameter_values.search(\"SEI\"))\n",
    "print(parameter_values.search(\"LAM\"))\n",
    "print(SOC_0)\n",
    "print(Temp)"
   ]
  },
  {
   "cell_type": "code",
   "execution_count": null,
   "metadata": {},
   "outputs": [],
   "source": [
    "print(eps_n_data)"
   ]
  },
  {
   "cell_type": "code",
   "execution_count": null,
   "metadata": {},
   "outputs": [],
   "source": [
    "print(eps_p_data)"
   ]
  },
  {
   "cell_type": "code",
   "execution_count": null,
   "metadata": {},
   "outputs": [],
   "source": [
    "parameter_values.search(\"\")"
   ]
  },
  {
   "cell_type": "code",
   "execution_count": null,
   "metadata": {},
   "outputs": [],
   "source": []
  }
 ],
 "metadata": {
  "kernelspec": {
   "display_name": "Python 3 (ipykernel)",
   "language": "python",
   "name": "python3"
  },
  "language_info": {
   "codemirror_mode": {
    "name": "ipython",
    "version": 3
   },
   "file_extension": ".py",
   "mimetype": "text/x-python",
   "name": "python",
   "nbconvert_exporter": "python",
   "pygments_lexer": "ipython3",
   "version": "3.9.0"
  },
  "vscode": {
   "interpreter": {
    "hash": "fe6e1a396f7757d05554318f98bb2d7e7d3785df9fdbcce0707f057fad4349a9"
   }
  }
 },
 "nbformat": 4,
 "nbformat_minor": 2
}
