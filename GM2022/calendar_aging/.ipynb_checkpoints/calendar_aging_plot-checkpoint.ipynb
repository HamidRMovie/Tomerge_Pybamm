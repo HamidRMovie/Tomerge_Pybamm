{
 "cells": [
  {
   "cell_type": "code",
   "execution_count": 1,
   "metadata": {},
   "outputs": [],
   "source": [
    "import pybamm\n",
    "import matplotlib.pyplot as plt\n",
    "import numpy as np\n",
    "import pandas as pd\n",
    "import math\n",
    "import dfols\n",
    "import signal\n",
    "from scipy.integrate import solve_ivp\n",
    "from scipy.fft import fft, fftfreq, fftshift\n",
    "from scipy.signal import savgol_filter\n",
    "from scipy.signal import find_peaks\n",
    "from scipy import interpolate\n",
    "from stopit import threading_timeoutable as timeoutable\n",
    "import os, sys\n",
    "sys.path.append(os.path.dirname(os.path.dirname(os.path.abspath(\"__file__\"))))\n",
    "from batfuns import *\n",
    "plt.rcParams = set_rc_params(plt.rcParams)\n",
    "\n",
    "eSOH_DIR = \"../data/esoh_R/\"\n",
    "oCV_DIR = \"../data/ocv/\"\n",
    "fig_DIR = \"../figures/figures_cal/\"\n",
    "res_DIR = \"../data/results_cal/\""
   ]
  },
  {
   "cell_type": "code",
   "execution_count": null,
   "metadata": {},
   "outputs": [],
   "source": [
    "parameter_values = get_parameter_values()"
   ]
  },
  {
   "cell_type": "code",
   "execution_count": null,
   "metadata": {},
   "outputs": [],
   "source": [
    "spm = pybamm.lithium_ion.SPM(\n",
    "    {\n",
    "        \"SEI\": \"ec reaction limited\",\n",
    "        # \"loss of active material\": (\"stress-driven\",\"none\"),\n",
    "        \"loss of active material\": \"stress-driven\",\n",
    "        # \"stress-induced diffusion\": \"true\",\n",
    "        # \"lithium plating\": \"reversible\",\n",
    "    }\n",
    ")\n",
    "# spm.print_parameter_info()\n",
    "param=spm.param"
   ]
  },
  {
   "cell_type": "code",
   "execution_count": null,
   "metadata": {},
   "outputs": [],
   "source": [
    "cell = 22\n",
    "# cell = 23"
   ]
  }
 ],
 "metadata": {
  "kernelspec": {
   "display_name": "Python 3 (ipykernel)",
   "language": "python",
   "name": "python3"
  },
  "language_info": {
   "codemirror_mode": {
    "name": "ipython",
    "version": 3
   },
   "file_extension": ".py",
   "mimetype": "text/x-python",
   "name": "python",
   "nbconvert_exporter": "python",
   "pygments_lexer": "ipython3",
   "version": "3.9.13"
  },
  "vscode": {
   "interpreter": {
    "hash": "fe6e1a396f7757d05554318f98bb2d7e7d3785df9fdbcce0707f057fad4349a9"
   }
  }
 },
 "nbformat": 4,
 "nbformat_minor": 2
}
