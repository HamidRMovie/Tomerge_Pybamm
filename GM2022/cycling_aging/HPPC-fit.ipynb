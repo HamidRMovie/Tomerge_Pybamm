{
 "cells": [
  {
   "cell_type": "code",
   "execution_count": 1,
   "id": "a37cfdd9",
   "metadata": {},
   "outputs": [],
   "source": [
    "import pybamm\n",
    "import matplotlib.pyplot as plt\n",
    "import numpy as np\n",
    "import pandas as pd\n",
    "import math\n",
    "import dfols\n",
    "import signal\n",
    "from scipy.integrate import solve_ivp\n",
    "from scipy.fft import fft, fftfreq, fftshift\n",
    "from scipy.signal import savgol_filter\n",
    "from scipy.signal import find_peaks\n",
    "from scipy import interpolate\n",
    "from stopit import threading_timeoutable as timeoutable\n",
    "import os, sys\n",
    "sys.path.append(os.path.dirname(os.path.dirname(os.path.abspath(\"__file__\"))))\n",
    "from stopit import threading_timeoutable as timeoutable\n",
    "from batfuns import *\n",
    "plt.rcParams = set_rc_params(plt.rcParams)\n",
    "\n",
    "eSOH_DIR = \"/Users/hamid/piibamm/PyBaMM/GM2022/data/esoh_R/\"\n",
    "oCV_DIR = \"/Users/hamid/piibamm/PyBaMM/GM2022/data/ocv/\"\n",
    "fig_DIR = \"../figures/figures_fit/\"\n",
    "res_DIR = \"../data/results_fit/\"\n",
    "# %matplotlib widget"
   ]
  },
  {
   "cell_type": "code",
   "execution_count": 2,
   "id": "8a19a14a",
   "metadata": {},
   "outputs": [],
   "source": [
    "# parameter_values = get_parameter_values()\n",
    "\n",
    "parameter_values = pybamm.ParameterValues(chemistry=pybamm.parameter_sets.Andrew2022)\n",
    "\n",
    "parameter_values.update(\n",
    "    {\n",
    "        # mechanical properties\n",
    "        \"Positive electrode Poisson's ratio\": 0.3,\n",
    "        \"Positive electrode Young's modulus [Pa]\": 375e9,\n",
    "        \"Positive electrode reference concentration for free of deformation [mol.m-3]\": 0,\n",
    "        \"Positive electrode partial molar volume [m3.mol-1]\": -7.28e-7,\n",
    "        \"Positive electrode volume change\": nmc_volume_change_mohtat,\n",
    "        # Loss of active materials (LAM) model\n",
    "        \"Positive electrode LAM constant exponential term\": 2,\n",
    "        \"Positive electrode critical stress [Pa]\": 375e6,\n",
    "        # mechanical properties\n",
    "        \"Negative electrode Poisson's ratio\": 0.2,\n",
    "        \"Negative electrode Young's modulus [Pa]\": 15e9,\n",
    "        \"Negative electrode reference concentration for free of deformation [mol.m-3]\": 0,\n",
    "        \"Negative electrode partial molar volume [m3.mol-1]\": 3.1e-6,\n",
    "        \"Negative electrode volume change\": graphite_volume_change_mohtat,\n",
    "        # Loss of active materials (LAM) model\n",
    "        \"Negative electrode LAM constant exponential term\": 2,\n",
    "        \"Negative electrode critical stress [Pa]\": 60e6,\n",
    "        # Other\n",
    "        \"Cell thermal expansion coefficient [m.K-1]\": 1.48e-6,\n",
    "        \"Lower voltage cut-off [V]\": 2.7,\n",
    "        # Initializing Particle Concentration\n",
    "        # \"Initial concentration in negative electrode [mol.m-3]\": x100*parameter_values[\"Maximum concentration in negative electrode [mol.m-3]\"],\n",
    "        # \"Initial concentration in positive electrode [mol.m-3]\": y100*parameter_values[\"Maximum concentration in positive electrode [mol.m-3]\"]\n",
    "    },\n",
    "    check_already_exists=False,\n",
    ")"
   ]
  },
  {
   "cell_type": "code",
   "execution_count": null,
   "id": "7d95ec3b",
   "metadata": {},
   "outputs": [],
   "source": []
  },
  {
   "cell_type": "code",
   "execution_count": 3,
   "id": "f81e3006",
   "metadata": {},
   "outputs": [
    {
     "name": "stdout",
     "output_type": "stream",
     "text": [
      "EC diffusivity [m2.s-1]\t2e-18\n",
      "Electrolyte diffusivity [m2.s-1]\t<function electrolyte_diffusivity_Siegel at 0x7f9232081b80>\n",
      "Inner SEI lithium interstitial diffusivity [m2.s-1]\t1e-20\n",
      "Negative electrode diffusion coefficient [m2.s-1]\t8e-14\n",
      "Negative electrode diffusivity [m2.s-1]\t<function graphite_diffusivity_AndrewMPM at 0x7f92320810d0>\n",
      "Outer SEI solvent diffusivity [m2.s-1]\t2.5000000000000002e-22\n",
      "Positive electrode diffusion coefficient [m2.s-1]\t8e-15\n",
      "Positive electrode diffusivity [m2.s-1]\t<function NMC_diffusivity_AndrewMPM at 0x7f9232081700>\n",
      "Typical lithium ion diffusivity [m2.s-1]\t5.34e-10\n"
     ]
    }
   ],
   "source": [
    "parameter_values.search(\"diffu\")"
   ]
  },
  {
   "cell_type": "code",
   "execution_count": null,
   "id": "ba39490b",
   "metadata": {},
   "outputs": [],
   "source": []
  },
  {
   "cell_type": "code",
   "execution_count": 4,
   "id": "00b99bc4",
   "metadata": {},
   "outputs": [],
   "source": [
    "spm = pybamm.lithium_ion.SPM(\n",
    "    {\n",
    "        \"SEI\": \"ec reaction limited\",\n",
    "        # \"loss of active material\": (\"stress-driven\",\"none\"),\n",
    "        \"loss of active material\": \"stress-driven\",\n",
    "        # \"stress-induced diffusion\": \"true\",\n",
    "        \"lithium plating\": \"irreversible\",\n",
    "    }\n",
    ")\n",
    "# spm.print_parameter_info()\n",
    "param=spm.param"
   ]
  },
  {
   "cell_type": "code",
   "execution_count": 5,
   "id": "219252da",
   "metadata": {},
   "outputs": [],
   "source": [
    "parameter_values.update(\n",
    "    {\n",
    "\"Electrode width [m]\":0.135,\n",
    "\"Nominal cell capacity [A.h]\":3.5,\n",
    "        \n",
    "# \"Maximum concentration in positive electrode [mol.m-3]\":37500,\n",
    "       \n",
    "# Updating since February 2022        \n",
    "\"Negative electrode porosity\":0.3,\n",
    "\"Positive electrode thickness [m]\":5.565e-05,\n",
    "\"Negative electrode thickness [m]\": 5.5605e-05,\n",
    "# \"Electrode width [m]\" : 0.11,      \n",
    "\"Negative particle radius [m]\":13.5e-06,\n",
    "\"Positive particle radius [m]\":2.1e-06,\n",
    "\"Maximum concentration in negative electrode [mol.m-3]\":27200,\n",
    "\"Maximum concentration in positive electrode [mol.m-3]\":33700,\n",
    "\n",
    "    }\n",
    ")\n"
   ]
  },
  {
   "cell_type": "code",
   "execution_count": 6,
   "id": "5b696ec0",
   "metadata": {},
   "outputs": [],
   "source": [
    "cell=41"
   ]
  },
  {
   "cell_type": "code",
   "execution_count": 7,
   "id": "fee36777",
   "metadata": {},
   "outputs": [
    {
     "data": {
      "text/plain": [
       "144"
      ]
     },
     "execution_count": 7,
     "metadata": {},
     "output_type": "execute_result"
    }
   ],
   "source": [
    "cell_no,dfe,dfe_0,dfo_0,N,N_0 = load_data(cell,eSOH_DIR,oCV_DIR)\n",
    "eps_n_data,eps_p_data,c_rate_c,c_rate_d,dis_set,Temp,SOC_0 = init_exp(cell_no,dfe,spm,parameter_values)\n",
    "\n",
    "Temp=25\n",
    "dfe.N.iloc[-1]"
   ]
  },
  {
   "cell_type": "code",
   "execution_count": 8,
   "id": "95539382",
   "metadata": {},
   "outputs": [
    {
     "data": {
      "text/plain": [
       "array([  0,  39,  66,  93, 144])"
      ]
     },
     "execution_count": 8,
     "metadata": {},
     "output_type": "execute_result"
    }
   ],
   "source": [
    "cycles = np.array(dfe['N'].astype('int'))\n",
    "cycles"
   ]
  },
  {
   "cell_type": "code",
   "execution_count": 9,
   "id": "58db5472",
   "metadata": {},
   "outputs": [
    {
     "data": {
      "text/plain": [
       "0.765529259661426"
      ]
     },
     "execution_count": 9,
     "metadata": {},
     "output_type": "execute_result"
    }
   ],
   "source": [
    "HPPC_093 = pd.read_csv(\"/Users/hamid/Drive Cycle/HPPC_current_cell093_shortened.csv\", comment=\"#\", header=None).to_numpy()\n",
    "\n",
    "pybamm.set_logging_level(\"NOTICE\")\n",
    "\n",
    "\n",
    "HPPC= pybamm.Experiment(\n",
    "    [\n",
    "        (\"Run HPPC_093 (A)\")\n",
    "    ] *1,\n",
    "    termination=\"50% capacity\",\n",
    "    drive_cycles={\"HPPC_093\": HPPC_093},\n",
    "#     cccv_handling=\"ode\",\n",
    ")\n",
    "\n",
    "\n",
    "\n",
    "eps_n_data"
   ]
  },
  {
   "cell_type": "code",
   "execution_count": 10,
   "id": "820ec101",
   "metadata": {},
   "outputs": [],
   "source": [
    "# parameter_values = get_parameter_values()\n",
    "parameter_values.update(\n",
    "    {\n",
    "        \"Negative electrode active material volume fraction\": eps_n_data,\n",
    "        \"Positive electrode active material volume fraction\": eps_p_data,\n",
    "        \"Initial temperature [K]\": 273.15+Temp,\n",
    "        \"Ambient temperature [K]\": 273.15+Temp,\n",
    "#         \"Positive electrode LAM constant proportional term [s-1]\": 9.0638e-08,#1.27152e-07\n",
    "        \"Positive electrode LAM constant proportional term [s-1]\": 3.43e-07,\n",
    "#         \"Negative electrode LAM constant proportional term [s-1]\": 8.7257e-08,#1.27272e-06\n",
    "        \"Negative electrode LAM constant proportional term [s-1]\": 1.47e-07,#1.27272e-06\n",
    "\n",
    "        \"Positive electrode LAM constant exponential term\": 1.02,\n",
    "        \"Negative electrode LAM constant exponential term\": 1.02,\n",
    "#         \"SEI kinetic rate constant [m.s-1]\": 6.08e-16, #4.352126e-16, #4.196499e-16, #4.60788219e-16, 1.08494281e-16 ,\n",
    "        \"SEI kinetic rate constant [m.s-1]\": 2.76e-16,\n",
    "#         \"EC diffusivity [m2.s-1]\": 4.55e-20, #3.6864e-19, #4.56607447e-19,8.30909086e-19,\n",
    "        \"EC diffusivity [m2.s-1]\": 1.75e-19,        \n",
    "#         \"SEI growth activation energy [J.mol-1]\": 0.0740062164072284, #5997.629, #1.87422275e+04,1.58777981e+04,\n",
    "        \"SEI growth activation energy [J.mol-1]\": 0,\n",
    "#         \"Lithium plating kinetic rate constant [m.s-1]\": 4.543e-10,\n",
    "        \"Lithium plating kinetic rate constant [m.s-1]\": 5.48e-10,\n",
    "        \n",
    "        \"Initial inner SEI thickness [m]\": 0e-09,\n",
    "        \"Initial outer SEI thickness [m]\": 5e-09,\n",
    "        \"SEI resistivity [Ohm.m]\": 1.3e3,\n",
    "        \n",
    "    #Cathode disolution\n",
    "#         \"Positive electrode dissolution exchange current density\": 0.0000863673282791135,\n",
    "        \"Positive electrode dissolution exchange current density\": 0,\n",
    "        \n",
    "        \"Negative electrode dissolution exchange current density\": 0,\n",
    "                \n",
    "        \"Positive electrode dissolution nickel SEI coefficient\": 0,\n",
    "        \"Negative electrode dissolution nickel SEI coefficient\": 0,\n",
    "        \n",
    "        \"Positive electrode dissolution nickel intercalation coefficient\": 0,\n",
    "        \"Negative electrode dissolution nickel intercalation coefficient\": 0,\n",
    "             \n",
    "        \n",
    "        \n",
    "    },\n",
    "    check_already_exists=False,\n",
    ")\n"
   ]
  },
  {
   "cell_type": "code",
   "execution_count": 11,
   "id": "cfad01fa",
   "metadata": {},
   "outputs": [
    {
     "data": {
      "text/plain": [
       "25"
      ]
     },
     "execution_count": 11,
     "metadata": {},
     "output_type": "execute_result"
    }
   ],
   "source": [
    "Temp"
   ]
  },
  {
   "cell_type": "code",
   "execution_count": 12,
   "id": "b9b1d9b9",
   "metadata": {},
   "outputs": [],
   "source": [
    "D_n=[8e-13,8e-14,8e-15,8e-16,8e-17]\n",
    "D_p=[8e-14,8e-15,8e-16,8e-17,8e-18]\n",
    "i0_n=[5e-5,4.244e-06,1e-6,5e-7]\n",
    "i0_p=[5e-5,4.824e-06,1e-6,5e-7]"
   ]
  },
  {
   "cell_type": "code",
   "execution_count": null,
   "id": "c5e5e0f0",
   "metadata": {},
   "outputs": [],
   "source": []
  },
  {
   "cell_type": "code",
   "execution_count": null,
   "id": "c6746a7e",
   "metadata": {},
   "outputs": [],
   "source": []
  },
  {
   "cell_type": "code",
   "execution_count": 13,
   "id": "addd70bf",
   "metadata": {},
   "outputs": [
    {
     "name": "stderr",
     "output_type": "stream",
     "text": [
      "2023-07-15 18:07:35.942 - [NOTICE] callbacks.on_cycle_start(174): Cycle 1/1 (14.604 ms elapsed) --------------------\n",
      "2023-07-15 18:07:35.943 - [NOTICE] callbacks.on_step_start(182): Cycle 1/1, step 1/1: Run HPPC_093 (A)\n",
      "CasADi - 2023-07-15 18:07:36 WARNING(\"The options 't0', 'tf', 'grid' and 'output_t0' have been deprecated.\n",
      "The same functionality is provided by providing additional input arguments to the 'integrator' function, in particular:\n",
      " * Call integrator(..., t0, tf, options) for a single output time, or\n",
      " * Call integrator(..., t0, grid, options) for multiple grid points.\n",
      "The legacy 'output_t0' option can be emulated by including or excluding 't0' in 'grid'.\n",
      "Backwards compatibility is provided in this release only.\") [.../casadi/core/integrator.cpp:521]\n",
      "2023-07-15 18:07:49.808 - [NOTICE] callbacks.on_cycle_end(196): Capacity is now 3.540 Ah (originally 3.540 Ah, will stop at 1.770 Ah)\n",
      "2023-07-15 18:07:49.808 - [NOTICE] callbacks.on_experiment_end(222): Finish experiment simulation, took 13.879 s\n",
      "2023-07-15 18:07:50.353 - [NOTICE] callbacks.on_cycle_start(174): Cycle 1/1 (14.173 ms elapsed) --------------------\n",
      "2023-07-15 18:07:50.353 - [NOTICE] callbacks.on_step_start(182): Cycle 1/1, step 1/1: Run HPPC_093 (A)\n",
      "2023-07-15 18:08:02.917 - [NOTICE] callbacks.on_cycle_end(196): Capacity is now 3.540 Ah (originally 3.540 Ah, will stop at 1.770 Ah)\n",
      "2023-07-15 18:08:02.918 - [NOTICE] callbacks.on_experiment_end(222): Finish experiment simulation, took 12.579 s\n",
      "2023-07-15 18:08:03.623 - [NOTICE] callbacks.on_cycle_start(174): Cycle 1/1 (23.073 ms elapsed) --------------------\n",
      "2023-07-15 18:08:03.624 - [NOTICE] callbacks.on_step_start(182): Cycle 1/1, step 1/1: Run HPPC_093 (A)\n",
      "2023-07-15 18:08:16.542 - [NOTICE] callbacks.on_cycle_end(196): Capacity is now 3.541 Ah (originally 3.541 Ah, will stop at 1.770 Ah)\n",
      "2023-07-15 18:08:16.543 - [NOTICE] callbacks.on_experiment_end(222): Finish experiment simulation, took 12.943 s\n",
      "2023-07-15 18:08:17.088 - [NOTICE] callbacks.on_cycle_start(174): Cycle 1/1 (14.142 ms elapsed) --------------------\n",
      "2023-07-15 18:08:17.088 - [NOTICE] callbacks.on_step_start(182): Cycle 1/1, step 1/1: Run HPPC_093 (A)\n",
      "2023-07-15 18:08:24.508 - [WARNING] callbacks.on_experiment_infeasible(233): \n",
      "\n",
      "\tExperiment is infeasible: 'event: Minimum voltage' was triggered during 'Run HPPC_093 (A)'. The returned solution only contains up to step 1 of cycle 1. \n",
      "2023-07-15 18:08:27.807 - [NOTICE] callbacks.on_cycle_end(196): Capacity is now 3.541 Ah (originally 3.541 Ah, will stop at 1.770 Ah)\n",
      "2023-07-15 18:08:27.808 - [NOTICE] callbacks.on_experiment_end(222): Finish experiment simulation, took 10.733 s\n",
      "2023-07-15 18:08:28.337 - [NOTICE] callbacks.on_cycle_start(174): Cycle 1/1 (14.215 ms elapsed) --------------------\n",
      "2023-07-15 18:08:28.338 - [NOTICE] callbacks.on_step_start(182): Cycle 1/1, step 1/1: Run HPPC_093 (A)\n",
      "2023-07-15 18:08:30.219 - [WARNING] callbacks.on_experiment_infeasible(233): \n",
      "\n",
      "\tExperiment is infeasible: 'event: Minimum voltage' was triggered during 'Run HPPC_093 (A)'. The returned solution only contains up to step 1 of cycle 1. \n",
      "2023-07-15 18:08:31.204 - [NOTICE] callbacks.on_cycle_end(196): Capacity is now 3.531 Ah (originally 3.531 Ah, will stop at 1.765 Ah)\n",
      "2023-07-15 18:08:31.204 - [NOTICE] callbacks.on_experiment_end(222): Finish experiment simulation, took 2.881 s\n"
     ]
    }
   ],
   "source": [
    "SOLUTIONS_LIST=[]\n",
    "for  i in range(len(D_n)):\n",
    "    parameter_values.update(\n",
    "    {\"Negative electrode diffusion coefficient [m2.s-1]\": D_n[i]\n",
    "    },\n",
    "         check_already_exists=False,\n",
    "    )\n",
    "    sim_long = pybamm.Simulation(spm, experiment=HPPC, parameter_values=parameter_values, \n",
    "                            solver=pybamm.CasadiSolver(\"safe\",\n",
    "                            rtol=1e-6, \n",
    "                            atol=1e-6,\n",
    "                            dt_max=10,                                                      ))\n",
    "    sol_long= sim_long.solve(initial_soc=1, save_at_cycles=1  )\n",
    "    SOLUTIONS_LIST.append(sol_long)"
   ]
  },
  {
   "cell_type": "code",
   "execution_count": 14,
   "id": "45e49e89",
   "metadata": {},
   "outputs": [
    {
     "data": {
      "application/vnd.jupyter.widget-view+json": {
       "model_id": "916f9a1f4b0b47fd8df918d7e31a4e54",
       "version_major": 2,
       "version_minor": 0
      },
      "text/plain": [
       "interactive(children=(FloatSlider(value=0.0, description='t', max=16.66638888888889, step=0.1666638888888889),…"
      ]
     },
     "metadata": {},
     "output_type": "display_data"
    },
    {
     "data": {
      "text/plain": [
       "<pybamm.plotting.quick_plot.QuickPlot at 0x7f92324cfac0>"
      ]
     },
     "execution_count": 14,
     "metadata": {},
     "output_type": "execute_result"
    }
   ],
   "source": [
    "SOLUTIONS_LIST[0].plot(\n",
    "    [\n",
    "#         \"Negative particle surface concentration [mol.m-3]\",\n",
    "#,\n",
    "        \"Terminal voltage [V]\",\n",
    "\n",
    "    ]\n",
    ")"
   ]
  },
  {
   "cell_type": "markdown",
   "id": "6b937851",
   "metadata": {},
   "source": [
    "#optimization"
   ]
  },
  {
   "cell_type": "code",
   "execution_count": 22,
   "id": "0006d9b9",
   "metadata": {},
   "outputs": [
    {
     "data": {
      "text/plain": [
       "(60000,)"
      ]
     },
     "execution_count": 22,
     "metadata": {},
     "output_type": "execute_result"
    }
   ],
   "source": [
    "SOLUTIONS_LIST[2][\"Terminal voltage [V]\"].entries.shape"
   ]
  },
  {
   "cell_type": "code",
   "execution_count": 29,
   "id": "265dee98",
   "metadata": {},
   "outputs": [],
   "source": [
    "voltage_HPPC_data = pd.read_csv(\"/Users/hamid/piibamm/PyBaMM/GM2022/cycling_aging/HPPC_voltage_cell093.csv\");\n",
    "vvHPPC=voltage_HPPC_data.to_numpy()"
   ]
  },
  {
   "cell_type": "code",
   "execution_count": 32,
   "id": "fbf2d402",
   "metadata": {},
   "outputs": [
    {
     "data": {
      "text/plain": [
       "(60000, 1)"
      ]
     },
     "execution_count": 32,
     "metadata": {},
     "output_type": "execute_result"
    }
   ],
   "source": [
    "vvHPPC.shape"
   ]
  },
  {
   "cell_type": "code",
   "execution_count": 35,
   "id": "9d818685",
   "metadata": {},
   "outputs": [],
   "source": [
    "aa=SOLUTIONS_LIST[2][\"Terminal voltage [V]\"].entries - np.transpose(vvHPPC)"
   ]
  },
  {
   "cell_type": "code",
   "execution_count": 37,
   "id": "a0750f0d",
   "metadata": {},
   "outputs": [
    {
     "data": {
      "text/plain": [
       "(1, 60000)"
      ]
     },
     "execution_count": 37,
     "metadata": {},
     "output_type": "execute_result"
    }
   ],
   "source": [
    "aa.shape"
   ]
  },
  {
   "cell_type": "code",
   "execution_count": 71,
   "id": "ca2bbc7e",
   "metadata": {},
   "outputs": [
    {
     "ename": "ValueError",
     "evalue": "Unable to coerce to Series, length must be 1: given 60000",
     "output_type": "error",
     "traceback": [
      "\u001b[0;31m---------------------------------------------------------------------------\u001b[0m",
      "\u001b[0;31mValueError\u001b[0m                                Traceback (most recent call last)",
      "Cell \u001b[0;32mIn[71], line 1\u001b[0m\n\u001b[0;32m----> 1\u001b[0m \u001b[43mobjective\u001b[49m\u001b[43m(\u001b[49m\u001b[43mSOLUTIONS_LIST\u001b[49m\u001b[43m[\u001b[49m\u001b[38;5;241;43m2\u001b[39;49m\u001b[43m]\u001b[49m\u001b[43m,\u001b[49m\u001b[43mvoltage_HPPC_data\u001b[49m\u001b[43m)\u001b[49m\n",
      "Cell \u001b[0;32mIn[70], line 2\u001b[0m, in \u001b[0;36mobjective\u001b[0;34m(solution, data)\u001b[0m\n\u001b[1;32m      1\u001b[0m \u001b[38;5;28;01mdef\u001b[39;00m \u001b[38;5;21mobjective\u001b[39m(solution, data):\n\u001b[0;32m----> 2\u001b[0m     \u001b[38;5;28;01mreturn\u001b[39;00m (\u001b[43msolution\u001b[49m\u001b[43m[\u001b[49m\u001b[38;5;124;43m\"\u001b[39;49m\u001b[38;5;124;43mTerminal voltage [V]\u001b[39;49m\u001b[38;5;124;43m\"\u001b[39;49m\u001b[43m]\u001b[49m\u001b[38;5;241;43m.\u001b[39;49m\u001b[43mentries\u001b[49m\u001b[43m \u001b[49m\u001b[38;5;241;43m-\u001b[39;49m\u001b[43m \u001b[49m\u001b[43mdata\u001b[49m)\n",
      "File \u001b[0;32m/Library/Frameworks/Python.framework/Versions/3.9/lib/python3.9/site-packages/pandas/core/generic.py:2016\u001b[0m, in \u001b[0;36mNDFrame.__array_ufunc__\u001b[0;34m(self, ufunc, method, *inputs, **kwargs)\u001b[0m\n\u001b[1;32m   2012\u001b[0m \u001b[38;5;129m@final\u001b[39m\n\u001b[1;32m   2013\u001b[0m \u001b[38;5;28;01mdef\u001b[39;00m \u001b[38;5;21m__array_ufunc__\u001b[39m(\n\u001b[1;32m   2014\u001b[0m     \u001b[38;5;28mself\u001b[39m, ufunc: np\u001b[38;5;241m.\u001b[39mufunc, method: \u001b[38;5;28mstr\u001b[39m, \u001b[38;5;241m*\u001b[39minputs: Any, \u001b[38;5;241m*\u001b[39m\u001b[38;5;241m*\u001b[39mkwargs: Any\n\u001b[1;32m   2015\u001b[0m ):\n\u001b[0;32m-> 2016\u001b[0m     \u001b[38;5;28;01mreturn\u001b[39;00m \u001b[43marraylike\u001b[49m\u001b[38;5;241;43m.\u001b[39;49m\u001b[43marray_ufunc\u001b[49m\u001b[43m(\u001b[49m\u001b[38;5;28;43mself\u001b[39;49m\u001b[43m,\u001b[49m\u001b[43m \u001b[49m\u001b[43mufunc\u001b[49m\u001b[43m,\u001b[49m\u001b[43m \u001b[49m\u001b[43mmethod\u001b[49m\u001b[43m,\u001b[49m\u001b[43m \u001b[49m\u001b[38;5;241;43m*\u001b[39;49m\u001b[43minputs\u001b[49m\u001b[43m,\u001b[49m\u001b[43m \u001b[49m\u001b[38;5;241;43m*\u001b[39;49m\u001b[38;5;241;43m*\u001b[39;49m\u001b[43mkwargs\u001b[49m\u001b[43m)\u001b[49m\n",
      "File \u001b[0;32m/Library/Frameworks/Python.framework/Versions/3.9/lib/python3.9/site-packages/pandas/core/arraylike.py:273\u001b[0m, in \u001b[0;36marray_ufunc\u001b[0;34m(self, ufunc, method, *inputs, **kwargs)\u001b[0m\n\u001b[1;32m    270\u001b[0m kwargs \u001b[38;5;241m=\u001b[39m _standardize_out_kwarg(\u001b[38;5;241m*\u001b[39m\u001b[38;5;241m*\u001b[39mkwargs)\n\u001b[1;32m    272\u001b[0m \u001b[38;5;66;03m# for binary ops, use our custom dunder methods\u001b[39;00m\n\u001b[0;32m--> 273\u001b[0m result \u001b[38;5;241m=\u001b[39m \u001b[43mmaybe_dispatch_ufunc_to_dunder_op\u001b[49m\u001b[43m(\u001b[49m\u001b[38;5;28;43mself\u001b[39;49m\u001b[43m,\u001b[49m\u001b[43m \u001b[49m\u001b[43mufunc\u001b[49m\u001b[43m,\u001b[49m\u001b[43m \u001b[49m\u001b[43mmethod\u001b[49m\u001b[43m,\u001b[49m\u001b[43m \u001b[49m\u001b[38;5;241;43m*\u001b[39;49m\u001b[43minputs\u001b[49m\u001b[43m,\u001b[49m\u001b[43m \u001b[49m\u001b[38;5;241;43m*\u001b[39;49m\u001b[38;5;241;43m*\u001b[39;49m\u001b[43mkwargs\u001b[49m\u001b[43m)\u001b[49m\n\u001b[1;32m    274\u001b[0m \u001b[38;5;28;01mif\u001b[39;00m result \u001b[38;5;129;01mis\u001b[39;00m \u001b[38;5;129;01mnot\u001b[39;00m \u001b[38;5;28mNotImplemented\u001b[39m:\n\u001b[1;32m    275\u001b[0m     \u001b[38;5;28;01mreturn\u001b[39;00m result\n",
      "File \u001b[0;32m/Library/Frameworks/Python.framework/Versions/3.9/lib/python3.9/site-packages/pandas/_libs/ops_dispatch.pyx:113\u001b[0m, in \u001b[0;36mpandas._libs.ops_dispatch.maybe_dispatch_ufunc_to_dunder_op\u001b[0;34m()\u001b[0m\n",
      "File \u001b[0;32m/Library/Frameworks/Python.framework/Versions/3.9/lib/python3.9/site-packages/pandas/core/ops/common.py:81\u001b[0m, in \u001b[0;36m_unpack_zerodim_and_defer.<locals>.new_method\u001b[0;34m(self, other)\u001b[0m\n\u001b[1;32m     77\u001b[0m             \u001b[38;5;28;01mreturn\u001b[39;00m \u001b[38;5;28mNotImplemented\u001b[39m\n\u001b[1;32m     79\u001b[0m other \u001b[38;5;241m=\u001b[39m item_from_zerodim(other)\n\u001b[0;32m---> 81\u001b[0m \u001b[38;5;28;01mreturn\u001b[39;00m \u001b[43mmethod\u001b[49m\u001b[43m(\u001b[49m\u001b[38;5;28;43mself\u001b[39;49m\u001b[43m,\u001b[49m\u001b[43m \u001b[49m\u001b[43mother\u001b[49m\u001b[43m)\u001b[49m\n",
      "File \u001b[0;32m/Library/Frameworks/Python.framework/Versions/3.9/lib/python3.9/site-packages/pandas/core/arraylike.py:198\u001b[0m, in \u001b[0;36mOpsMixin.__rsub__\u001b[0;34m(self, other)\u001b[0m\n\u001b[1;32m    196\u001b[0m \u001b[38;5;129m@unpack_zerodim_and_defer\u001b[39m(\u001b[38;5;124m\"\u001b[39m\u001b[38;5;124m__rsub__\u001b[39m\u001b[38;5;124m\"\u001b[39m)\n\u001b[1;32m    197\u001b[0m \u001b[38;5;28;01mdef\u001b[39;00m \u001b[38;5;21m__rsub__\u001b[39m(\u001b[38;5;28mself\u001b[39m, other):\n\u001b[0;32m--> 198\u001b[0m     \u001b[38;5;28;01mreturn\u001b[39;00m \u001b[38;5;28;43mself\u001b[39;49m\u001b[38;5;241;43m.\u001b[39;49m\u001b[43m_arith_method\u001b[49m\u001b[43m(\u001b[49m\u001b[43mother\u001b[49m\u001b[43m,\u001b[49m\u001b[43m \u001b[49m\u001b[43mroperator\u001b[49m\u001b[38;5;241;43m.\u001b[39;49m\u001b[43mrsub\u001b[49m\u001b[43m)\u001b[49m\n",
      "File \u001b[0;32m/Library/Frameworks/Python.framework/Versions/3.9/lib/python3.9/site-packages/pandas/core/frame.py:7455\u001b[0m, in \u001b[0;36mDataFrame._arith_method\u001b[0;34m(self, other, op)\u001b[0m\n\u001b[1;32m   7452\u001b[0m axis: Literal[\u001b[38;5;241m1\u001b[39m] \u001b[38;5;241m=\u001b[39m \u001b[38;5;241m1\u001b[39m  \u001b[38;5;66;03m# only relevant for Series other case\u001b[39;00m\n\u001b[1;32m   7453\u001b[0m other \u001b[38;5;241m=\u001b[39m ops\u001b[38;5;241m.\u001b[39mmaybe_prepare_scalar_for_op(other, (\u001b[38;5;28mself\u001b[39m\u001b[38;5;241m.\u001b[39mshape[axis],))\n\u001b[0;32m-> 7455\u001b[0m \u001b[38;5;28mself\u001b[39m, other \u001b[38;5;241m=\u001b[39m \u001b[43mops\u001b[49m\u001b[38;5;241;43m.\u001b[39;49m\u001b[43malign_method_FRAME\u001b[49m\u001b[43m(\u001b[49m\u001b[38;5;28;43mself\u001b[39;49m\u001b[43m,\u001b[49m\u001b[43m \u001b[49m\u001b[43mother\u001b[49m\u001b[43m,\u001b[49m\u001b[43m \u001b[49m\u001b[43maxis\u001b[49m\u001b[43m,\u001b[49m\u001b[43m \u001b[49m\u001b[43mflex\u001b[49m\u001b[38;5;241;43m=\u001b[39;49m\u001b[38;5;28;43;01mTrue\u001b[39;49;00m\u001b[43m,\u001b[49m\u001b[43m \u001b[49m\u001b[43mlevel\u001b[49m\u001b[38;5;241;43m=\u001b[39;49m\u001b[38;5;28;43;01mNone\u001b[39;49;00m\u001b[43m)\u001b[49m\n\u001b[1;32m   7457\u001b[0m new_data \u001b[38;5;241m=\u001b[39m \u001b[38;5;28mself\u001b[39m\u001b[38;5;241m.\u001b[39m_dispatch_frame_op(other, op, axis\u001b[38;5;241m=\u001b[39maxis)\n\u001b[1;32m   7458\u001b[0m \u001b[38;5;28;01mreturn\u001b[39;00m \u001b[38;5;28mself\u001b[39m\u001b[38;5;241m.\u001b[39m_construct_result(new_data)\n",
      "File \u001b[0;32m/Library/Frameworks/Python.framework/Versions/3.9/lib/python3.9/site-packages/pandas/core/ops/__init__.py:260\u001b[0m, in \u001b[0;36malign_method_FRAME\u001b[0;34m(left, right, axis, flex, level)\u001b[0m\n\u001b[1;32m    258\u001b[0m \u001b[38;5;28;01mif\u001b[39;00m \u001b[38;5;28misinstance\u001b[39m(right, np\u001b[38;5;241m.\u001b[39mndarray):\n\u001b[1;32m    259\u001b[0m     \u001b[38;5;28;01mif\u001b[39;00m right\u001b[38;5;241m.\u001b[39mndim \u001b[38;5;241m==\u001b[39m \u001b[38;5;241m1\u001b[39m:\n\u001b[0;32m--> 260\u001b[0m         right \u001b[38;5;241m=\u001b[39m \u001b[43mto_series\u001b[49m\u001b[43m(\u001b[49m\u001b[43mright\u001b[49m\u001b[43m)\u001b[49m\n\u001b[1;32m    262\u001b[0m     \u001b[38;5;28;01melif\u001b[39;00m right\u001b[38;5;241m.\u001b[39mndim \u001b[38;5;241m==\u001b[39m \u001b[38;5;241m2\u001b[39m:\n\u001b[1;32m    263\u001b[0m         \u001b[38;5;66;03m# We need to pass dtype=right.dtype to retain object dtype\u001b[39;00m\n\u001b[1;32m    264\u001b[0m         \u001b[38;5;66;03m#  otherwise we lose consistency with Index and array ops\u001b[39;00m\n\u001b[1;32m    265\u001b[0m         dtype \u001b[38;5;241m=\u001b[39m \u001b[38;5;28;01mNone\u001b[39;00m\n",
      "File \u001b[0;32m/Library/Frameworks/Python.framework/Versions/3.9/lib/python3.9/site-packages/pandas/core/ops/__init__.py:252\u001b[0m, in \u001b[0;36malign_method_FRAME.<locals>.to_series\u001b[0;34m(right)\u001b[0m\n\u001b[1;32m    250\u001b[0m \u001b[38;5;28;01melse\u001b[39;00m:\n\u001b[1;32m    251\u001b[0m     \u001b[38;5;28;01mif\u001b[39;00m \u001b[38;5;28mlen\u001b[39m(left\u001b[38;5;241m.\u001b[39mcolumns) \u001b[38;5;241m!=\u001b[39m \u001b[38;5;28mlen\u001b[39m(right):\n\u001b[0;32m--> 252\u001b[0m         \u001b[38;5;28;01mraise\u001b[39;00m \u001b[38;5;167;01mValueError\u001b[39;00m(\n\u001b[1;32m    253\u001b[0m             msg\u001b[38;5;241m.\u001b[39mformat(req_len\u001b[38;5;241m=\u001b[39m\u001b[38;5;28mlen\u001b[39m(left\u001b[38;5;241m.\u001b[39mcolumns), given_len\u001b[38;5;241m=\u001b[39m\u001b[38;5;28mlen\u001b[39m(right))\n\u001b[1;32m    254\u001b[0m         )\n\u001b[1;32m    255\u001b[0m     right \u001b[38;5;241m=\u001b[39m left\u001b[38;5;241m.\u001b[39m_constructor_sliced(right, index\u001b[38;5;241m=\u001b[39mleft\u001b[38;5;241m.\u001b[39mcolumns, dtype\u001b[38;5;241m=\u001b[39mdtype)\n\u001b[1;32m    256\u001b[0m \u001b[38;5;28;01mreturn\u001b[39;00m right\n",
      "\u001b[0;31mValueError\u001b[0m: Unable to coerce to Series, length must be 1: given 60000"
     ]
    }
   ],
   "source": [
    "objective(SOLUTIONS_LIST[2],voltage_HPPC_data)"
   ]
  },
  {
   "cell_type": "code",
   "execution_count": null,
   "id": "fbf9499c",
   "metadata": {},
   "outputs": [],
   "source": []
  }
 ],
 "metadata": {
  "kernelspec": {
   "display_name": "Python 3 (ipykernel)",
   "language": "python",
   "name": "python3"
  },
  "language_info": {
   "codemirror_mode": {
    "name": "ipython",
    "version": 3
   },
   "file_extension": ".py",
   "mimetype": "text/x-python",
   "name": "python",
   "nbconvert_exporter": "python",
   "pygments_lexer": "ipython3",
   "version": "3.9.0"
  }
 },
 "nbformat": 4,
 "nbformat_minor": 5
}
