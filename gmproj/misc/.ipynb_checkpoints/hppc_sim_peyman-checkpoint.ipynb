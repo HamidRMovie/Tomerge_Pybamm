{
 "cells": [
  {
   "cell_type": "code",
   "execution_count": 1,
   "metadata": {},
   "outputs": [
    {
     "ename": "ModuleNotFoundError",
     "evalue": "No module named 'ipympl'",
     "output_type": "error",
     "traceback": [
      "\u001b[1;31m---------------------------------------------------------------------------\u001b[0m",
      "\u001b[1;31mModuleNotFoundError\u001b[0m                       Traceback (most recent call last)",
      "Cell \u001b[1;32mIn [1], line 27\u001b[0m\n\u001b[0;32m     24\u001b[0m fig_DIR \u001b[38;5;241m=\u001b[39m \u001b[38;5;124m\"\u001b[39m\u001b[38;5;124m../figures/figures_cycling/\u001b[39m\u001b[38;5;124m\"\u001b[39m\n\u001b[0;32m     25\u001b[0m res_DIR \u001b[38;5;241m=\u001b[39m \u001b[38;5;124m\"\u001b[39m\u001b[38;5;124m../data/results/\u001b[39m\u001b[38;5;124m\"\u001b[39m\n\u001b[1;32m---> 27\u001b[0m \u001b[43mget_ipython\u001b[49m\u001b[43m(\u001b[49m\u001b[43m)\u001b[49m\u001b[38;5;241;43m.\u001b[39;49m\u001b[43mrun_line_magic\u001b[49m\u001b[43m(\u001b[49m\u001b[38;5;124;43m'\u001b[39;49m\u001b[38;5;124;43mmatplotlib\u001b[39;49m\u001b[38;5;124;43m'\u001b[39;49m\u001b[43m,\u001b[49m\u001b[43m \u001b[49m\u001b[38;5;124;43m'\u001b[39;49m\u001b[38;5;124;43mwidget\u001b[39;49m\u001b[38;5;124;43m'\u001b[39;49m\u001b[43m)\u001b[49m\n",
      "File \u001b[1;32mF:\\Git Hub rep\\PyBaMM\\.tox\\windows-dev\\lib\\site-packages\\IPython\\core\\interactiveshell.py:2364\u001b[0m, in \u001b[0;36mInteractiveShell.run_line_magic\u001b[1;34m(self, magic_name, line, _stack_depth)\u001b[0m\n\u001b[0;32m   2362\u001b[0m     kwargs[\u001b[38;5;124m'\u001b[39m\u001b[38;5;124mlocal_ns\u001b[39m\u001b[38;5;124m'\u001b[39m] \u001b[38;5;241m=\u001b[39m \u001b[38;5;28mself\u001b[39m\u001b[38;5;241m.\u001b[39mget_local_scope(stack_depth)\n\u001b[0;32m   2363\u001b[0m \u001b[38;5;28;01mwith\u001b[39;00m \u001b[38;5;28mself\u001b[39m\u001b[38;5;241m.\u001b[39mbuiltin_trap:\n\u001b[1;32m-> 2364\u001b[0m     result \u001b[38;5;241m=\u001b[39m fn(\u001b[38;5;241m*\u001b[39margs, \u001b[38;5;241m*\u001b[39m\u001b[38;5;241m*\u001b[39mkwargs)\n\u001b[0;32m   2365\u001b[0m \u001b[38;5;28;01mreturn\u001b[39;00m result\n",
      "File \u001b[1;32mF:\\Git Hub rep\\PyBaMM\\.tox\\windows-dev\\lib\\site-packages\\IPython\\core\\magics\\pylab.py:99\u001b[0m, in \u001b[0;36mPylabMagics.matplotlib\u001b[1;34m(self, line)\u001b[0m\n\u001b[0;32m     97\u001b[0m     \u001b[38;5;28mprint\u001b[39m(\u001b[38;5;124m\"\u001b[39m\u001b[38;5;124mAvailable matplotlib backends: \u001b[39m\u001b[38;5;132;01m%s\u001b[39;00m\u001b[38;5;124m\"\u001b[39m \u001b[38;5;241m%\u001b[39m backends_list)\n\u001b[0;32m     98\u001b[0m \u001b[38;5;28;01melse\u001b[39;00m:\n\u001b[1;32m---> 99\u001b[0m     gui, backend \u001b[38;5;241m=\u001b[39m \u001b[38;5;28;43mself\u001b[39;49m\u001b[38;5;241;43m.\u001b[39;49m\u001b[43mshell\u001b[49m\u001b[38;5;241;43m.\u001b[39;49m\u001b[43menable_matplotlib\u001b[49m\u001b[43m(\u001b[49m\u001b[43margs\u001b[49m\u001b[38;5;241;43m.\u001b[39;49m\u001b[43mgui\u001b[49m\u001b[38;5;241;43m.\u001b[39;49m\u001b[43mlower\u001b[49m\u001b[43m(\u001b[49m\u001b[43m)\u001b[49m\u001b[43m \u001b[49m\u001b[38;5;28;43;01mif\u001b[39;49;00m\u001b[43m \u001b[49m\u001b[38;5;28;43misinstance\u001b[39;49m\u001b[43m(\u001b[49m\u001b[43margs\u001b[49m\u001b[38;5;241;43m.\u001b[39;49m\u001b[43mgui\u001b[49m\u001b[43m,\u001b[49m\u001b[43m \u001b[49m\u001b[38;5;28;43mstr\u001b[39;49m\u001b[43m)\u001b[49m\u001b[43m \u001b[49m\u001b[38;5;28;43;01melse\u001b[39;49;00m\u001b[43m \u001b[49m\u001b[43margs\u001b[49m\u001b[38;5;241;43m.\u001b[39;49m\u001b[43mgui\u001b[49m\u001b[43m)\u001b[49m\n\u001b[0;32m    100\u001b[0m     \u001b[38;5;28mself\u001b[39m\u001b[38;5;241m.\u001b[39m_show_matplotlib_backend(args\u001b[38;5;241m.\u001b[39mgui, backend)\n",
      "File \u001b[1;32mF:\\Git Hub rep\\PyBaMM\\.tox\\windows-dev\\lib\\site-packages\\IPython\\core\\interactiveshell.py:3528\u001b[0m, in \u001b[0;36mInteractiveShell.enable_matplotlib\u001b[1;34m(self, gui)\u001b[0m\n\u001b[0;32m   3524\u001b[0m         \u001b[38;5;28mprint\u001b[39m(\u001b[38;5;124m'\u001b[39m\u001b[38;5;124mWarning: Cannot change to a different GUI toolkit: \u001b[39m\u001b[38;5;132;01m%s\u001b[39;00m\u001b[38;5;124m.\u001b[39m\u001b[38;5;124m'\u001b[39m\n\u001b[0;32m   3525\u001b[0m                 \u001b[38;5;124m'\u001b[39m\u001b[38;5;124m Using \u001b[39m\u001b[38;5;132;01m%s\u001b[39;00m\u001b[38;5;124m instead.\u001b[39m\u001b[38;5;124m'\u001b[39m \u001b[38;5;241m%\u001b[39m (gui, \u001b[38;5;28mself\u001b[39m\u001b[38;5;241m.\u001b[39mpylab_gui_select))\n\u001b[0;32m   3526\u001b[0m         gui, backend \u001b[38;5;241m=\u001b[39m pt\u001b[38;5;241m.\u001b[39mfind_gui_and_backend(\u001b[38;5;28mself\u001b[39m\u001b[38;5;241m.\u001b[39mpylab_gui_select)\n\u001b[1;32m-> 3528\u001b[0m \u001b[43mpt\u001b[49m\u001b[38;5;241;43m.\u001b[39;49m\u001b[43mactivate_matplotlib\u001b[49m\u001b[43m(\u001b[49m\u001b[43mbackend\u001b[49m\u001b[43m)\u001b[49m\n\u001b[0;32m   3529\u001b[0m configure_inline_support(\u001b[38;5;28mself\u001b[39m, backend)\n\u001b[0;32m   3531\u001b[0m \u001b[38;5;66;03m# Now we must activate the gui pylab wants to use, and fix %run to take\u001b[39;00m\n\u001b[0;32m   3532\u001b[0m \u001b[38;5;66;03m# plot updates into account\u001b[39;00m\n",
      "File \u001b[1;32mF:\\Git Hub rep\\PyBaMM\\.tox\\windows-dev\\lib\\site-packages\\IPython\\core\\pylabtools.py:360\u001b[0m, in \u001b[0;36mactivate_matplotlib\u001b[1;34m(backend)\u001b[0m\n\u001b[0;32m    355\u001b[0m \u001b[38;5;66;03m# Due to circular imports, pyplot may be only partially initialised\u001b[39;00m\n\u001b[0;32m    356\u001b[0m \u001b[38;5;66;03m# when this function runs.\u001b[39;00m\n\u001b[0;32m    357\u001b[0m \u001b[38;5;66;03m# So avoid needing matplotlib attribute-lookup to access pyplot.\u001b[39;00m\n\u001b[0;32m    358\u001b[0m \u001b[38;5;28;01mfrom\u001b[39;00m \u001b[38;5;21;01mmatplotlib\u001b[39;00m \u001b[38;5;28;01mimport\u001b[39;00m pyplot \u001b[38;5;28;01mas\u001b[39;00m plt\n\u001b[1;32m--> 360\u001b[0m \u001b[43mplt\u001b[49m\u001b[38;5;241;43m.\u001b[39;49m\u001b[43mswitch_backend\u001b[49m\u001b[43m(\u001b[49m\u001b[43mbackend\u001b[49m\u001b[43m)\u001b[49m\n\u001b[0;32m    362\u001b[0m plt\u001b[38;5;241m.\u001b[39mshow\u001b[38;5;241m.\u001b[39m_needmain \u001b[38;5;241m=\u001b[39m \u001b[38;5;28;01mFalse\u001b[39;00m\n\u001b[0;32m    363\u001b[0m \u001b[38;5;66;03m# We need to detect at runtime whether show() is called by the user.\u001b[39;00m\n\u001b[0;32m    364\u001b[0m \u001b[38;5;66;03m# For this, we wrap it into a decorator which adds a 'called' flag.\u001b[39;00m\n",
      "File \u001b[1;32mF:\\Git Hub rep\\PyBaMM\\.tox\\windows-dev\\lib\\site-packages\\matplotlib\\pyplot.py:265\u001b[0m, in \u001b[0;36mswitch_backend\u001b[1;34m(newbackend)\u001b[0m\n\u001b[0;32m    262\u001b[0m         rcParamsOrig[\u001b[38;5;124m\"\u001b[39m\u001b[38;5;124mbackend\u001b[39m\u001b[38;5;124m\"\u001b[39m] \u001b[38;5;241m=\u001b[39m \u001b[38;5;124m\"\u001b[39m\u001b[38;5;124magg\u001b[39m\u001b[38;5;124m\"\u001b[39m\n\u001b[0;32m    263\u001b[0m         \u001b[38;5;28;01mreturn\u001b[39;00m\n\u001b[1;32m--> 265\u001b[0m backend_mod \u001b[38;5;241m=\u001b[39m \u001b[43mimportlib\u001b[49m\u001b[38;5;241;43m.\u001b[39;49m\u001b[43mimport_module\u001b[49m\u001b[43m(\u001b[49m\n\u001b[0;32m    266\u001b[0m \u001b[43m    \u001b[49m\u001b[43mcbook\u001b[49m\u001b[38;5;241;43m.\u001b[39;49m\u001b[43m_backend_module_name\u001b[49m\u001b[43m(\u001b[49m\u001b[43mnewbackend\u001b[49m\u001b[43m)\u001b[49m\u001b[43m)\u001b[49m\n\u001b[0;32m    268\u001b[0m required_framework \u001b[38;5;241m=\u001b[39m _get_required_interactive_framework(backend_mod)\n\u001b[0;32m    269\u001b[0m \u001b[38;5;28;01mif\u001b[39;00m required_framework \u001b[38;5;129;01mis\u001b[39;00m \u001b[38;5;129;01mnot\u001b[39;00m \u001b[38;5;28;01mNone\u001b[39;00m:\n",
      "File \u001b[1;32m~\\AppData\\Local\\Programs\\Python\\Python39\\lib\\importlib\\__init__.py:127\u001b[0m, in \u001b[0;36mimport_module\u001b[1;34m(name, package)\u001b[0m\n\u001b[0;32m    125\u001b[0m             \u001b[38;5;28;01mbreak\u001b[39;00m\n\u001b[0;32m    126\u001b[0m         level \u001b[38;5;241m+\u001b[39m\u001b[38;5;241m=\u001b[39m \u001b[38;5;241m1\u001b[39m\n\u001b[1;32m--> 127\u001b[0m \u001b[38;5;28;01mreturn\u001b[39;00m \u001b[43m_bootstrap\u001b[49m\u001b[38;5;241;43m.\u001b[39;49m\u001b[43m_gcd_import\u001b[49m\u001b[43m(\u001b[49m\u001b[43mname\u001b[49m\u001b[43m[\u001b[49m\u001b[43mlevel\u001b[49m\u001b[43m:\u001b[49m\u001b[43m]\u001b[49m\u001b[43m,\u001b[49m\u001b[43m \u001b[49m\u001b[43mpackage\u001b[49m\u001b[43m,\u001b[49m\u001b[43m \u001b[49m\u001b[43mlevel\u001b[49m\u001b[43m)\u001b[49m\n",
      "File \u001b[1;32m<frozen importlib._bootstrap>:1030\u001b[0m, in \u001b[0;36m_gcd_import\u001b[1;34m(name, package, level)\u001b[0m\n",
      "File \u001b[1;32m<frozen importlib._bootstrap>:1007\u001b[0m, in \u001b[0;36m_find_and_load\u001b[1;34m(name, import_)\u001b[0m\n",
      "File \u001b[1;32m<frozen importlib._bootstrap>:972\u001b[0m, in \u001b[0;36m_find_and_load_unlocked\u001b[1;34m(name, import_)\u001b[0m\n",
      "File \u001b[1;32m<frozen importlib._bootstrap>:228\u001b[0m, in \u001b[0;36m_call_with_frames_removed\u001b[1;34m(f, *args, **kwds)\u001b[0m\n",
      "File \u001b[1;32m<frozen importlib._bootstrap>:1030\u001b[0m, in \u001b[0;36m_gcd_import\u001b[1;34m(name, package, level)\u001b[0m\n",
      "File \u001b[1;32m<frozen importlib._bootstrap>:1007\u001b[0m, in \u001b[0;36m_find_and_load\u001b[1;34m(name, import_)\u001b[0m\n",
      "File \u001b[1;32m<frozen importlib._bootstrap>:984\u001b[0m, in \u001b[0;36m_find_and_load_unlocked\u001b[1;34m(name, import_)\u001b[0m\n",
      "\u001b[1;31mModuleNotFoundError\u001b[0m: No module named 'ipympl'"
     ]
    }
   ],
   "source": [
    "import pybamm\n",
    "import matplotlib.pyplot as plt\n",
    "import numpy as np\n",
    "import pandas as pd\n",
    "import math\n",
    "import dfols\n",
    "import signal\n",
    "from scipy.integrate import solve_ivp\n",
    "from scipy.fft import fft, fftfreq, fftshift\n",
    "from scipy.signal import savgol_filter\n",
    "from scipy.signal import find_peaks\n",
    "from scipy import interpolate\n",
    "from stopit import threading_timeoutable as timeoutable\n",
    "import os, sys\n",
    "sys.path.append(os.path.dirname(os.path.dirname(os.path.abspath(\"__file__\"))))\n",
    "from batfuns import *\n",
    "plt.rcParams = set_rc_params(plt.rcParams)\n",
    "\n",
    "eSOH_DIR = \"../data/esoh/\"\n",
    "oCV_DIR = \"../data/ocv/\"\n",
    "hppc_DIR = \"../data/hppc/\"\n",
    "crate_DIR = \"../data/crate/\"\n",
    "cyc_DIR = \"../data/cycling/\"\n",
    "fig_DIR = \"../figures/figures_cycling/\"\n",
    "res_DIR = \"../data/results/\"\n",
    "\n",
    "%matplotlib widget"
   ]
  },
  {
   "cell_type": "code",
   "execution_count": null,
   "metadata": {},
   "outputs": [],
   "source": [
    "spm = pybamm.lithium_ion.SPMe(\n",
    "    {\n",
    "        # \"SEI\": \"ec reaction limited\",\n",
    "        # # \"loss of active material\": (\"stress-driven\",\"none\"),\n",
    "        # \"loss of active material\": \"stress-driven\",\n",
    "        # \"stress-induced diffusion\": \"true\",\n",
    "        # \"lithium plating\": \"reversible\",\n",
    "    }\n",
    ")\n",
    "# spm.print_parameter_info()\n",
    "param=spm.param"
   ]
  },
  {
   "cell_type": "code",
   "execution_count": null,
   "metadata": {},
   "outputs": [],
   "source": [
    "parameter_values = get_parameter_values()"
   ]
  },
  {
   "cell_type": "code",
   "execution_count": null,
   "metadata": {},
   "outputs": [],
   "source": [
    "cell = 1\n",
    "cell_no,dfe,dfe_0,dfo_0,N,N_0 = load_data(cell,eSOH_DIR,oCV_DIR)\n",
    "eps_n_data,eps_p_data,c_rate_c,c_rate_d,dis_set,Temp,SOC_0 = init_exp(cell_no,dfe,spm,parameter_values)\n",
    "pybamm.set_logging_level(\"WARNING\")\n",
    "# pybamm.set_logging_level(\"NOTICE\")"
   ]
  },
  {
   "cell_type": "code",
   "execution_count": null,
   "metadata": {},
   "outputs": [],
   "source": [
    "parameter_values = get_parameter_values()\n",
    "parameter_values.update(\n",
    "    {\n",
    "        \"Positive electrode LAM constant proportional term [s-1]\": 1.2676e-07,#2.7081e-07, #4.1759e-07,#2.7081e-07, #2.5112e-07,\n",
    "        \"Negative electrode LAM constant proportional term [s-1]\": 1.2713e-06,#3.7576e-06, #3.2693e-06,#3.7576e-06, #2.4741e-06,\n",
    "        \"Positive electrode LAM constant exponential term\": 1.1998,#1.2446,#1.2232,#1.1942,\n",
    "        \"Negative electrode LAM constant exponential term\": 1.1998,#1.2446,#1.2232,#1.1942,\n",
    "        \"Negative electrode active material volume fraction\": eps_n_data,\n",
    "        \"Positive electrode active material volume fraction\": eps_p_data,\n",
    "        \"Initial temperature [K]\": 273.15+Temp,\n",
    "        \"Ambient temperature [K]\": 273.15+Temp,\n",
    "        \"SEI kinetic rate constant [m.s-1]\": 1.08494281e-16,\n",
    "        \"EC diffusivity [m2.s-1]\": 8.30909086e-19,\n",
    "        \"SEI growth activation energy [J.mol-1]\": 1.58777981e+04,\n",
    "        # \"SEI kinetic rate constant [m.s-1]\": 1.6827e-16,\n",
    "        # \"EC diffusivity [m2.s-1]\": 2e-18,\n",
    "        # \"SEI growth activation energy [J.mol-1]\": 0,\n",
    "    },\n",
    "    check_already_exists=False,\n",
    ")"
   ]
  },
  {
   "cell_type": "code",
   "execution_count": null,
   "metadata": {},
   "outputs": [],
   "source": [
    "hppc_data_raw = pd.read_csv(hppc_DIR+'hppc_data_cell_'+cell_no+'.csv')\n",
    "hppc_data_raw = hppc_data_raw[ hppc_data_raw['Cycle number'] == 0 ]"
   ]
  },
  {
   "cell_type": "code",
   "execution_count": null,
   "metadata": {},
   "outputs": [],
   "source": [
    "idx_hppc = hppc_data_raw['Current [mA]'].lt(0).idxmax()\n",
    "hppc_data = hppc_data_raw.iloc[idx_hppc:,:]\n",
    "hppc_data = hppc_data.reset_index(drop=True)"
   ]
  },
  {
   "cell_type": "code",
   "execution_count": null,
   "metadata": {},
   "outputs": [],
   "source": [
    "data_time = hppc_data['Time [s]']-hppc_data['Time [s]'][0]\n",
    "data_time = data_time.values\n",
    "data_current = hppc_data['Current [mA]']/1000\n",
    "data_current = data_current.values\n",
    "data_voltage = hppc_data['Voltage [V]']\n",
    "data_voltage = data_voltage.values"
   ]
  },
  {
   "cell_type": "code",
   "execution_count": null,
   "metadata": {},
   "outputs": [],
   "source": [
    "t_sim = np.arange(0,data_time[-1],1)\n",
    "timescale = parameter_values.evaluate(spm.timescale)\n",
    "current_interpolant = pybamm.Interpolant(\n",
    "  #  drive_cycle[:, 0], drive_cycle[:, 1], timescale * pybamm.t\n",
    "  data_time, -data_current, timescale * pybamm.t\n",
    ")"
   ]
  },
  {
   "cell_type": "code",
   "execution_count": null,
   "metadata": {},
   "outputs": [],
   "source": [
    "pybamm.set_logging_level(\"NOTICE\")\n",
    "parameter_values[\"Current function [A]\"] = current_interpolant\n",
    "# var_pts=var_pts,\n",
    "sim = pybamm.Simulation(spm, \n",
    "                        parameter_values=parameter_values, \n",
    "                        solver=pybamm.CasadiSolver(\n",
    "                            mode=\"safe\", \n",
    "                            rtol=1e-6, \n",
    "                            atol=1e-6,\n",
    "                            dt_max=10,\n",
    "                            )\n",
    "                        )\n",
    "sim.solve(t_eval=data_time,initial_soc =1)\n",
    "# sim.solve(t_eval=data_time,initial_soc =1)\n",
    "solution = sim.solution"
   ]
  },
  {
   "cell_type": "code",
   "execution_count": null,
   "metadata": {},
   "outputs": [],
   "source": [
    "t = solution[\"Time [s]\"].entries\n",
    "V = solution[\"Terminal voltage [V]\"].entries\n",
    "I = solution[\"Current [A]\"].entries\n",
    "Q = -solution['Discharge capacity [A.h]'].entries"
   ]
  },
  {
   "cell_type": "code",
   "execution_count": null,
   "metadata": {},
   "outputs": [],
   "source": [
    "fig, ax1 = plt.subplots(1, 1, figsize=(8, 6), sharex=True)\n",
    "ax1.plot(data_time, data_voltage, 'k')\n",
    "ax1.plot(t, V, 'b--')\n",
    "# ax1.plot(t1, V1, 'r-.')\n",
    "ax1.set_ylabel(\"Voltage [V]\")\n",
    "ax1.set_title(\"Cell 01 Fresh HPPC\")\n",
    "ax1.set_ylim([2.7,4.2])\n",
    "ax1.set_xlabel(\"Time [s]\")\n",
    "# ax1.set_xlim([20370,20470])\n",
    "ax1.legend(['data','sim'])\n",
    "fig.tight_layout()\n",
    "plt.show()\n",
    "plt.savefig('cell_01_hppc_fit_new.png')"
   ]
  },
  {
   "cell_type": "code",
   "execution_count": null,
   "metadata": {},
   "outputs": [],
   "source": [
    "len(data_voltage[:14202])\n",
    "len(V)"
   ]
  },
  {
   "cell_type": "code",
   "execution_count": null,
   "metadata": {},
   "outputs": [],
   "source": [
    "fig, ax1 = plt.subplots(1, 1, figsize=(8, 6), sharex=True)\n",
    "ax1.plot(t, data_voltage[:14202]-V, 'k')\n",
    "# ax1.plot(t, V, 'b--')\n",
    "# ax1.plot(t1, V1, 'r-.')\n",
    "ax1.set_ylabel(\"Voltage [V]\")\n",
    "ax1.set_title(\"Cell 01 Fresh HPPC\")\n",
    "ax1.set_ylim([-0.05,0.05])\n",
    "ax1.set_xlabel(\"Time [s]\")\n",
    "# ax1.set_xlim([20370,20470])\n",
    "ax1.legend(['data','sim'])\n",
    "fig.tight_layout()\n",
    "plt.show()\n",
    "plt.savefig('cell_01_hppc_fit_diff.png')"
   ]
  },
  {
   "cell_type": "code",
   "execution_count": null,
   "metadata": {},
   "outputs": [],
   "source": [
    "dfsdfsdfs"
   ]
  },
  {
   "cell_type": "code",
   "execution_count": null,
   "metadata": {},
   "outputs": [],
   "source": [
    "# spm.default_var_pts"
   ]
  },
  {
   "cell_type": "code",
   "execution_count": null,
   "metadata": {},
   "outputs": [],
   "source": [
    "var_pts = {\n",
    "    'x_n': 30,\n",
    "    'x_s': 30,\n",
    "    'x_p': 30,\n",
    "    'r_n': 60,\n",
    "    'r_p': 60,\n",
    "    'r_n_prim': 60,\n",
    "    'r_p_prim': 60,\n",
    "    'r_n_sec': 60,\n",
    "    'r_p_sec': 60,\n",
    "    'y': 20,\n",
    "    'z': 20,\n",
    "    'R_n': 60,\n",
    "    'R_p': 60,\n",
    " }"
   ]
  },
  {
   "cell_type": "code",
   "execution_count": null,
   "metadata": {},
   "outputs": [],
   "source": [
    "# def graphite_diffusivity(sto, T):\n",
    "#     from pybamm import exp, constants\n",
    "#     # D_ref = 5.0 * 10 ** (-15)\n",
    "#     D_ref = 5.0/2* 10 ** (-15)\n",
    "#     E_D_s = 42770\n",
    "#     arrhenius = exp(E_D_s / constants.R * (1 / 298.15 - 1 / T))\n",
    "\n",
    "#     return D_ref * arrhenius\n",
    "\n",
    "# def NMC_diffusivity(sto, T):\n",
    "#     from pybamm import exp, constants\n",
    "#     # D_ref = 8 * 10 ** (-15)\n",
    "#     D_ref = 1.5 * 10 ** (-15)\n",
    "#     E_D_s = 18550\n",
    "#     arrhenius = exp(E_D_s / constants.R * (1 / 298.15 - 1 / T))\n",
    "\n",
    "#     return D_ref * arrhenius"
   ]
  },
  {
   "cell_type": "code",
   "execution_count": null,
   "metadata": {},
   "outputs": [],
   "source": [
    "# parameter_values.update(\n",
    "#     {\n",
    "#         \"Negative electrode diffusivity [m2.s-1]\": graphite_diffusivity,\n",
    "#         \"Positive electrode diffusivity [m2.s-1]\": NMC_diffusivity,\n",
    "\n",
    "#     },\n",
    "#     check_already_exists=False,\n",
    "# )"
   ]
  },
  {
   "cell_type": "code",
   "execution_count": null,
   "metadata": {},
   "outputs": [],
   "source": [
    "# sim = pybamm.Simulation(spm, parameter_values=parameter_values, solver=pybamm.CasadiSolver(mode=\"safe\", rtol=1e-6, atol=1e-6,dt_max=0.1))\n",
    "# sim.solve(t_eval=data_time,initial_soc =1)\n",
    "# solution1 = sim.solution"
   ]
  },
  {
   "cell_type": "code",
   "execution_count": null,
   "metadata": {},
   "outputs": [],
   "source": [
    "# t1 =  solution1[\"Time [s]\"].entries\n",
    "# V1 =  solution1[\"Terminal voltage [V]\"].entries\n",
    "# I1 =  solution1[\"Current [A]\"].entries\n",
    "# Q1 = -solution1['Discharge capacity [A.h]'].entries"
   ]
  },
  {
   "cell_type": "code",
   "execution_count": null,
   "metadata": {},
   "outputs": [],
   "source": [
    "fig, ax1 = plt.subplots(1, 1, figsize=(8, 6), sharex=True)\n",
    "ax1.plot(data_time, data_voltage, 'k')\n",
    "ax1.plot(t, V, 'b--')\n",
    "# ax1.plot(t1, V1, 'r-.')\n",
    "ax1.set_ylabel(\"Voltage [V]\")\n",
    "ax1.set_title(\"Cell 01 Fresh HPPC\")\n",
    "ax1.set_ylim([2.7,4.2])\n",
    "ax1.set_xlabel(\"Time [s]\")\n",
    "# ax1.set_xlim([20370,20470])\n",
    "ax1.legend(['data','sim'])\n",
    "# ax1.legend(['data','sim','sim new'])\n",
    "fig.tight_layout()\n",
    "plt.show()\n",
    "# plt.savefig('cell_01_hppc_fit.png')"
   ]
  },
  {
   "cell_type": "code",
   "execution_count": null,
   "metadata": {},
   "outputs": [],
   "source": [
    "fig, ax1 = plt.subplots(1, 1, figsize=(4, 4), sharex=True)\n",
    "ax1.plot(data_time, -data_current, 'k', t, I, 'r--')\n",
    "ax1.set_title(\"Current [A]\")\n",
    "# ax1.set_ylim([3.9,4.12])\n",
    "ax1.set_xlabel(\"Time [s]\")\n",
    "# ax1.set_xlim([20370,20470])\n",
    "ax1.legend(['data','sim'])\n",
    "fig.tight_layout()\n",
    "plt.show()\n",
    "# plt.savefig('cell_01_hppc_fit.png')"
   ]
  },
  {
   "cell_type": "code",
   "execution_count": null,
   "metadata": {},
   "outputs": [],
   "source": [
    "asdasdasdasd"
   ]
  },
  {
   "cell_type": "markdown",
   "metadata": {},
   "source": [
    "# Crate Simulations"
   ]
  },
  {
   "cell_type": "code",
   "execution_count": null,
   "metadata": {},
   "outputs": [],
   "source": [
    "crate_data_raw = pd.read_csv(crate_DIR+'crate_data_cell_'+cell_no+'.csv')\n",
    "crate_data_raw = crate_data_raw[ crate_data_raw['Cycle number'] == 0 ]"
   ]
  },
  {
   "cell_type": "code",
   "execution_count": null,
   "metadata": {},
   "outputs": [],
   "source": [
    "# idx_crate = crate_data_raw['Current [mA]'].gt(0).idxmax()\n",
    "# crate_data = crate_data_raw.iloc[idx_crate:,:]\n",
    "# crate_data = crate_data.reset_index(drop=True)"
   ]
  },
  {
   "cell_type": "code",
   "execution_count": null,
   "metadata": {},
   "outputs": [],
   "source": [
    "crate_data = crate_data_raw"
   ]
  },
  {
   "cell_type": "code",
   "execution_count": null,
   "metadata": {},
   "outputs": [],
   "source": [
    "t_d1 = crate_data['Time [s]']-crate_data['Time [s]'][0]\n",
    "t_d1 = t_d1.values\n",
    "I_d1 = crate_data['Current [mA]']/1000\n",
    "I_d1 = I_d1.values\n",
    "V_d1 = crate_data['Voltage [V]']\n",
    "V_d1 = V_d1.values"
   ]
  },
  {
   "cell_type": "code",
   "execution_count": null,
   "metadata": {},
   "outputs": [],
   "source": [
    "idx_I = np.where(np.sign(I_d1[:-1]) != np.sign(I_d1[1:]))[0] + 1\n",
    "idx_I = idx_I[idx_I>50]"
   ]
  },
  {
   "cell_type": "code",
   "execution_count": null,
   "metadata": {},
   "outputs": [],
   "source": [
    "# C/10\n",
    "nn = 0\n",
    "t_d1_c10 = t_d1[idx_I[nn+0]:idx_I[nn+1]]-t_d1[idx_I[nn+0]]\n",
    "I_d1_c10 = I_d1[idx_I[nn+0]:idx_I[nn+1]]\n",
    "V_d1_c10 = V_d1[idx_I[nn+0]:idx_I[nn+1]]\n",
    "# C/5\n",
    "nn = 4\n",
    "t_d1_c5 = t_d1[idx_I[nn+0]:idx_I[nn+1]]-t_d1[idx_I[nn+0]]\n",
    "I_d1_c5 = I_d1[idx_I[nn+0]:idx_I[nn+1]]\n",
    "V_d1_c5 = V_d1[idx_I[nn+0]:idx_I[nn+1]]\n",
    "# C/2\n",
    "nn = 8\n",
    "t_d1_c2 = t_d1[idx_I[nn+0]:idx_I[nn+1]]-t_d1[idx_I[nn+0]]\n",
    "I_d1_c2 = I_d1[idx_I[nn+0]:idx_I[nn+1]]\n",
    "V_d1_c2 = V_d1[idx_I[nn+0]:idx_I[nn+1]]\n",
    "# 1C\n",
    "nn = 12\n",
    "t_d1_c1 = t_d1[idx_I[nn+0]:idx_I[nn+1]]-t_d1[idx_I[nn+0]]\n",
    "I_d1_c1 = I_d1[idx_I[nn+0]:idx_I[nn+1]]\n",
    "V_d1_c1 = V_d1[idx_I[nn+0]:idx_I[nn+1]]"
   ]
  },
  {
   "cell_type": "code",
   "execution_count": null,
   "metadata": {},
   "outputs": [],
   "source": [
    "# fig, axes = plt.subplots(2, 1, figsize=(6, 6), sharex=True)\n",
    "# ax1 = axes.flat[0]\n",
    "# # ax1.plot(crate_data['Time [s]'],crate_data['Voltage [V]'])\n",
    "# ax1.plot(t_d1_c10,V_d1_c10)\n",
    "# ax1.plot(t_d1_c5,V_d1_c5)\n",
    "# ax1.plot(t_d1_c2,V_d1_c2)\n",
    "# ax1.plot(t_d1_c1,V_d1_c1)\n",
    "# ax1.set_title(\"Voltage [V]\")\n",
    "# ax1.set_xlabel(\"Time [s]\")\n",
    "# ax2 = axes.flat[1]\n",
    "# # ax2.plot(crate_data['Time [s]'],crate_data['Current [mA]'])\n",
    "# ax2.plot(t_d1_c10,I_d1_c10)\n",
    "# ax2.plot(t_d1_c5,I_d1_c5)\n",
    "# ax2.plot(t_d1_c2,I_d1_c2)\n",
    "# ax2.plot(t_d1_c1,I_d1_c1)\n",
    "# ax2.set_title(\"Current [mA]'\")\n",
    "# ax2.set_xlabel(\"Time [s]\")\n",
    "# fig.tight_layout()\n",
    "# plt.show()"
   ]
  },
  {
   "cell_type": "code",
   "execution_count": null,
   "metadata": {},
   "outputs": [],
   "source": [
    "# fig, axes = plt.subplots(2, 1, figsize=(6, 6), sharex=True)\n",
    "# ax1 = axes.flat[0]\n",
    "# # ax1.plot(crate_data['Time [s]'],crate_data['Voltage [V]'])\n",
    "# ax1.plot(t_d1,V_d1)\n",
    "# ax1.set_title(\"Voltage [V]\")\n",
    "# ax1.set_xlabel(\"Time [s]\")\n",
    "# ax2 = axes.flat[1]\n",
    "# # ax2.plot(crate_data['Time [s]'],crate_data['Current [mA]'])\n",
    "# ax2.plot(t_d1,I_d1)\n",
    "# ax2.plot(t_d1[idx_I],I_d1[idx_I],'x')\n",
    "# ax2.set_title(\"Current [mA]'\")\n",
    "# ax2.set_xlabel(\"Time [s]\")\n",
    "# fig.tight_layout()\n",
    "# plt.show()\n",
    "# # plt.savefig('cell_01_hppc_fit.png')"
   ]
  },
  {
   "cell_type": "code",
   "execution_count": null,
   "metadata": {},
   "outputs": [],
   "source": [
    "experiment = pybamm.Experiment(\n",
    "    [\n",
    "        \"Charge at \"+\"C/10\"+\" until 4.2V\", \n",
    "         \n",
    "    ],\n",
    ")\n",
    "sim = pybamm.Simulation(spm,experiment=experiment ,parameter_values=parameter_values, solver=pybamm.CasadiSolver(mode=\"safe\"))\n",
    "sim.solve(t_eval=data_time,initial_soc =0)\n",
    "solution1 = sim.solution"
   ]
  },
  {
   "cell_type": "code",
   "execution_count": null,
   "metadata": {},
   "outputs": [],
   "source": [
    "experiment = pybamm.Experiment(\n",
    "    [\n",
    "        \"Charge at \"+\"C/5\"+\" until 4.2V\", \n",
    "         \n",
    "    ],\n",
    ")\n",
    "sim = pybamm.Simulation(spm,experiment=experiment ,parameter_values=parameter_values, solver=pybamm.CasadiSolver(mode=\"safe\"))\n",
    "sim.solve(t_eval=data_time,initial_soc =0)\n",
    "solution2 = sim.solution"
   ]
  },
  {
   "cell_type": "code",
   "execution_count": null,
   "metadata": {},
   "outputs": [],
   "source": [
    "experiment = pybamm.Experiment(\n",
    "    [\n",
    "        \"Charge at \"+\"C/2\"+\" until 4.2V\", \n",
    "         \n",
    "    ],\n",
    ")\n",
    "sim = pybamm.Simulation(spm,experiment=experiment ,parameter_values=parameter_values, solver=pybamm.CasadiSolver(mode=\"safe\"))\n",
    "sim.solve(t_eval=data_time,initial_soc =0)\n",
    "solution3 = sim.solution"
   ]
  },
  {
   "cell_type": "code",
   "execution_count": null,
   "metadata": {},
   "outputs": [],
   "source": [
    "experiment = pybamm.Experiment(\n",
    "    [\n",
    "        \"Charge at \"+\"1C\"+\" until 4.2V\", \n",
    "         \n",
    "    ],\n",
    ")\n",
    "sim = pybamm.Simulation(spm,experiment=experiment ,parameter_values=parameter_values, solver=pybamm.CasadiSolver(mode=\"safe\"))\n",
    "sim.solve(t_eval=data_time,initial_soc =0)\n",
    "solution4 = sim.solution"
   ]
  },
  {
   "cell_type": "code",
   "execution_count": null,
   "metadata": {},
   "outputs": [],
   "source": [
    "t1 =  solution1[\"Time [s]\"].entries\n",
    "V1 =  solution1[\"Terminal voltage [V]\"].entries\n",
    "I1 =  solution1[\"Current [A]\"].entries\n",
    "Q1 = -solution1['Discharge capacity [A.h]'].entries\n",
    "\n",
    "t2 =  solution2[\"Time [s]\"].entries\n",
    "V2 =  solution2[\"Terminal voltage [V]\"].entries\n",
    "I2 =  solution2[\"Current [A]\"].entries\n",
    "Q2 = -solution2['Discharge capacity [A.h]'].entries\n",
    "\n",
    "t3 =  solution3[\"Time [s]\"].entries\n",
    "V3 =  solution3[\"Terminal voltage [V]\"].entries\n",
    "I3 =  solution3[\"Current [A]\"].entries\n",
    "Q3 = -solution3['Discharge capacity [A.h]'].entries\n",
    "\n",
    "t4 =  solution4[\"Time [s]\"].entries\n",
    "V4 =  solution4[\"Terminal voltage [V]\"].entries\n",
    "I4 =  solution4[\"Current [A]\"].entries\n",
    "Q4 = -solution4['Discharge capacity [A.h]'].entries"
   ]
  },
  {
   "cell_type": "code",
   "execution_count": null,
   "metadata": {},
   "outputs": [],
   "source": [
    "fig, axes = plt.subplots(2, 2, figsize=(6, 6))\n",
    "ax1 = axes.flat[0]\n",
    "ax2 = axes.flat[1]\n",
    "ax3 = axes.flat[2]\n",
    "ax4 = axes.flat[3]\n",
    "ax1.plot(t_d1_c10, V_d1_c10, 'k', t1, V1, 'r--')\n",
    "ax2.plot(t_d1_c5, V_d1_c5, 'k', t2, V2, 'r--')\n",
    "ax3.plot(t_d1_c2, V_d1_c2, 'k', t3, V3, 'r--')\n",
    "ax4.plot(t_d1_c1, V_d1_c1, 'k', t4, V4, 'r--')\n",
    "ax1.set_title('C/10')\n",
    "ax2.set_title('C/5')\n",
    "ax3.set_title('C/2')\n",
    "ax4.set_title('1C')\n",
    "ax1.set_ylabel(\"Voltage [V]\")\n",
    "ax3.set_ylabel(\"Voltage [V]\")\n",
    "# ax1.set_ylim([3.9,4.12])\n",
    "ax3.set_xlabel(\"Time [s]\")\n",
    "ax4.set_xlabel(\"Time [s]\")\n",
    "# ax1.set_xlim([20370,20470])\n",
    "ax1.legend(['data','sim'])\n",
    "fig.tight_layout()\n",
    "plt.show()\n",
    "plt.savefig('cell_01_crate_fit.png')"
   ]
  },
  {
   "cell_type": "code",
   "execution_count": null,
   "metadata": {},
   "outputs": [],
   "source": [
    "dfasddasdasdas"
   ]
  },
  {
   "cell_type": "markdown",
   "metadata": {},
   "source": [
    "# Simulate Pulse"
   ]
  },
  {
   "cell_type": "code",
   "execution_count": null,
   "metadata": {},
   "outputs": [],
   "source": [
    "experiment = pybamm.Experiment(\n",
    "    [\n",
    "        (\n",
    "         \"Rest for 300 sec\",\n",
    "         \"Discharge at \"+ \"5A\"+ \" for 10 sec\", \n",
    "         \"Rest for 300 sec\",\n",
    "         \"Charge at \"+ \"5A\"+ \" for 10 sec\", \n",
    "         \"Rest for 300 sec\",\n",
    "         )\n",
    "    ],\n",
    "#     cccv_handling=\"ode\",\n",
    ")"
   ]
  },
  {
   "cell_type": "code",
   "execution_count": null,
   "metadata": {},
   "outputs": [],
   "source": [
    "# t_in0 = 2\n",
    "# t_in1 = 2\n",
    "# t_in2 = 2\n",
    "# t_in3 = 2\n",
    "# t_in4 = 2\n",
    "\n",
    "t_in0 = 300\n",
    "t_in1 = 10\n",
    "t_in2 = 300\n",
    "t_in3 = 10\n",
    "t_in4 = 300\n",
    "\n",
    "t_inf = t_in0+t_in1+t_in2+t_in3+t_in4\n",
    "t_in = np.arange(0,t_inf,0.1)\n",
    "t_in = np.arange(0,t_inf,1)\n",
    "# t_sim = np.arange(0,t_inf,0.01)\n",
    "I_in = []\n",
    "for tt in t_in:\n",
    "    if tt<t_in0:\n",
    "        I_in = np.append(I_in,0)\n",
    "    elif tt>=t_in0 and tt<t_in0+t_in1:\n",
    "        I_in = np.append(I_in,5)\n",
    "    elif tt>=t_in0+t_in1 and tt<t_in0+t_in1+t_in2:\n",
    "        I_in = np.append(I_in,0)\n",
    "    elif tt>=t_in0+t_in1+t_in2 and tt<t_in0+t_in1+t_in2+t_in3:\n",
    "        I_in = np.append(I_in,-5)\n",
    "    elif tt>=t_in0+t_in1+t_in2+t_in3:\n",
    "        I_in = np.append(I_in,0)\n",
    "# I_in = np.array([0,0,5,5,0,0,-5,-5,0,0])"
   ]
  },
  {
   "cell_type": "code",
   "execution_count": null,
   "metadata": {},
   "outputs": [],
   "source": [
    "timescale = parameter_values.evaluate(spm.timescale)\n",
    "current_interpolant = pybamm.Interpolant(\n",
    "  #  drive_cycle[:, 0], drive_cycle[:, 1], timescale * pybamm.t\n",
    "  t_in, -I_in, timescale * pybamm.t\n",
    ")"
   ]
  },
  {
   "cell_type": "code",
   "execution_count": null,
   "metadata": {},
   "outputs": [],
   "source": [
    "parameter_values[\"Current function [A]\"] = current_interpolant\n",
    "pybamm.set_logging_level(\"WARNING\")\n",
    "sim = pybamm.Simulation(spm, \n",
    "                        parameter_values=parameter_values, \n",
    "                        # experiment=experiment,\n",
    "                        solver=pybamm.CasadiSolver(mode=\"safe\", rtol=1e-6, atol=1e-6,dt_max=10),\n",
    "                        )\n",
    "# sim.solve(initial_soc =0.9)\n",
    "sim.solve(t_eval=t_in,initial_soc =0.9)\n",
    "solution5 = sim.solution"
   ]
  },
  {
   "cell_type": "code",
   "execution_count": null,
   "metadata": {},
   "outputs": [],
   "source": [
    "t5 =  solution5[\"Time [s]\"].entries\n",
    "V5 =  solution5[\"Terminal voltage [V]\"].entries\n",
    "I5 =  solution5[\"Current [A]\"].entries\n",
    "Q5 = -solution5['Discharge capacity [A.h]'].entries\n",
    "\n",
    "cs_sur_n_5 =   solution5[\"X-averaged negative particle surface concentration\"].entries\n",
    "cs_sur_p_5 =   solution5[\"X-averaged positive particle surface concentration\"].entries\n",
    "cs_ave_n_5 =   solution5[\"Negative electrode volume-averaged concentration\"].entries\n",
    "cs_ave_p_5 =   solution5[\"Positive electrode volume-averaged concentration\"].entries"
   ]
  },
  {
   "cell_type": "code",
   "execution_count": null,
   "metadata": {},
   "outputs": [],
   "source": [
    "fig, axes = plt.subplots(4, 1, figsize=(6, 8))\n",
    "ax1 = axes.flat[0]\n",
    "ax2 = axes.flat[1]\n",
    "ax3 = axes.flat[2]\n",
    "ax4 = axes.flat[3]\n",
    "ax1.plot(t5, V5)\n",
    "ax1.set_ylabel('Voltage [V]')\n",
    "ax2.plot(t5, I5)\n",
    "ax2.set_ylabel('Current [A]')\n",
    "ax3.plot(t5,cs_sur_n_5,'m--',t5,cs_ave_n_5,'m')\n",
    "ax3.set_ylabel('Concentration [normalized]')\n",
    "ax3.legend(['Surface','Average'])\n",
    "ax3.set_title('Negative Particle Stoichiometry')\n",
    "ax4.plot(t5,cs_sur_p_5,'g--',t5,cs_ave_p_5,'g')\n",
    "\n",
    "ax4.set_ylabel('Concentration [normalized]')\n",
    "ax4.set_title('Positive Particle Stoichiometry')\n",
    "ax4.legend(['Surface','Average'])\n",
    "ax4.axvline(x = t_in0, color = 'k', linestyle='--',linewidth=0.5,clip_on=False,ymin=0,ymax=5.5)\n",
    "ax4.axvline(x = t_in0+t_in1+t_in2, color = 'k', linestyle='--',linewidth=0.5,clip_on=False,ymin=0,ymax=5.5)\n",
    "# ax1.set_xlim([20370,20470])\n",
    "# ax1.legend(['data','sim'])\n",
    "fig.tight_layout()\n",
    "plt.savefig('cell_01_pulse_V_sam.png')"
   ]
  },
  {
   "cell_type": "code",
   "execution_count": null,
   "metadata": {},
   "outputs": [],
   "source": [
    "plt.figure()\n",
    "plt.plot(t5,cs_sur_n_5-cs_ave_n_5,'b')\n",
    "plt.plot(t5,cs_sur_p_5-cs_ave_p_5,'r')\n",
    "plt.xlim(left=0)\n",
    "plt.xlabel('Time [s]')\n",
    "plt.ylabel('Concentration [normalized]')\n",
    "plt.title('Difference between Surface and Average Particle Concentration')\n",
    "plt.legend(['Negative','Positive'])\n",
    "# plt.savefig('cell_01_conc_V.png')"
   ]
  },
  {
   "cell_type": "markdown",
   "metadata": {},
   "source": [
    "# Cycling Simulations"
   ]
  },
  {
   "cell_type": "code",
   "execution_count": null,
   "metadata": {},
   "outputs": [],
   "source": [
    "cell = 13\n",
    "cell_no,dfe,dfe_0,dfo_0,N,N_0 = load_data(cell,eSOH_DIR,oCV_DIR)\n",
    "print(cell_no)\n",
    "eps_n_data,eps_p_data,c_rate_c,c_rate_d,dis_set,Temp,SOC_0 = init_exp(cell_no,dfe,spm,parameter_values)\n",
    "cyc_data_raw = pd.read_csv(cyc_DIR+'cycling_data_cell_'+cell_no+'.csv')\n",
    "cyc_data_raw = cyc_data_raw[ cyc_data_raw['Cycle number'] == 1 ]\n",
    "cyc_data = cyc_data_raw.reset_index(drop=True)\n",
    "# cyc_data = cyc_data_raw\n",
    "t_c1 = cyc_data['Time [s]']-cyc_data['Time [s]'][0]\n",
    "t_c1 = t_c1.values\n",
    "I_c1 = cyc_data['Current [mA]']/1000\n",
    "I_c1 = I_c1.values\n",
    "V_c1 = cyc_data['Voltage [V]']\n",
    "V_c1 = V_c1.values\n",
    "T_c1 = cyc_data['Temperature [C]']\n",
    "T_c1 = T_c1.values\n",
    "T_c1"
   ]
  },
  {
   "cell_type": "code",
   "execution_count": null,
   "metadata": {},
   "outputs": [],
   "source": [
    "# for cell in range(1,22,3):\n",
    "for cell in range(3,22,3):\n",
    "# for cell in [20]:\n",
    "  cell_no,dfe,dfe_0,dfo_0,N,N_0 = load_data(cell,eSOH_DIR,oCV_DIR)\n",
    "  print(cell_no)\n",
    "  eps_n_data,eps_p_data,c_rate_c,c_rate_d,dis_set,Temp,SOC_0 = init_exp(cell_no,dfe,spm,parameter_values)\n",
    "  cyc_data_raw = pd.read_csv(cyc_DIR+'cycling_data_cell_'+cell_no+'.csv')\n",
    "  if int(cell_no)%3 == 1:\n",
    "    cyc_data_raw = cyc_data_raw[ cyc_data_raw['Cycle number'] == 1 ]\n",
    "  else:\n",
    "    cyc_data_raw = cyc_data_raw[ cyc_data_raw['Cycle number'] == 1 ]\n",
    "  cyc_data = cyc_data_raw.reset_index(drop=True)\n",
    "  t_c1 = cyc_data['Time [s]']-cyc_data['Time [s]'][0]\n",
    "  t_c1 = t_c1.values\n",
    "  I_c1 = cyc_data['Current [mA]']/1000\n",
    "  I_c1 = I_c1.values\n",
    "  V_c1 = cyc_data['Voltage [V]']\n",
    "  V_c1 = V_c1.values\n",
    "  parameter_values = get_parameter_values()\n",
    "  parameter_values.update(\n",
    "      {\n",
    "          \"Positive electrode LAM constant proportional term [s-1]\": 1.2676e-07,#2.7081e-07, #4.1759e-07,#2.7081e-07, #2.5112e-07,\n",
    "          \"Negative electrode LAM constant proportional term [s-1]\": 1.2713e-06,#3.7576e-06, #3.2693e-06,#3.7576e-06, #2.4741e-06,\n",
    "          \"Positive electrode LAM constant exponential term\": 1.1998,#1.2446,#1.2232,#1.1942,\n",
    "          \"Negative electrode LAM constant exponential term\": 1.1998,#1.2446,#1.2232,#1.1942,\n",
    "          \"Negative electrode active material volume fraction\": eps_n_data,\n",
    "          \"Positive electrode active material volume fraction\": eps_p_data,\n",
    "          \"Initial temperature [K]\": 273.15+Temp,\n",
    "          \"Ambient temperature [K]\": 273.15+Temp,\n",
    "          \"SEI kinetic rate constant [m.s-1]\": 1.08494281e-16,\n",
    "          \"EC diffusivity [m2.s-1]\": 8.30909086e-19,\n",
    "          \"SEI growth activation energy [J.mol-1]\": 1.58777981e+04,\n",
    "          # \"SEI kinetic rate constant [m.s-1]\": 1.6827e-16,\n",
    "          # \"EC diffusivity [m2.s-1]\": 2e-18,\n",
    "          # \"SEI growth activation energy [J.mol-1]\": 0,\n",
    "          \"Upper voltage cut-off [V]\": 4.22,\n",
    "      },\n",
    "      check_already_exists=False,\n",
    "  )\n",
    "  t_sim = np.arange(0,t_c1[-1],1)\n",
    "  timescale = parameter_values.evaluate(spm.timescale)\n",
    "  current_interpolant = pybamm.Interpolant(\n",
    "    #  drive_cycle[:, 0], drive_cycle[:, 1], timescale * pybamm.t\n",
    "    t_c1, -I_c1, timescale * pybamm.t\n",
    "  )\n",
    "  pybamm.set_logging_level(\"NOTICE\")\n",
    "  parameter_values[\"Current function [A]\"] = current_interpolant\n",
    "  # var_pts=var_pts,\n",
    "  sim = pybamm.Simulation(spm, \n",
    "                          parameter_values=parameter_values, \n",
    "                          solver=pybamm.CasadiSolver(\n",
    "                              mode=\"safe\", \n",
    "                              rtol=1e-6, \n",
    "                              atol=1e-6,\n",
    "                              dt_max=10,\n",
    "                              )\n",
    "                          )\n",
    "  SOC_0 = 0.003\n",
    "  if cell>12:\n",
    "    SOC_0 = 0.5\n",
    "  if cell==15:\n",
    "    SOC_0 = 0.48\n",
    "  if cell==21:\n",
    "    SOC_0 = 0.51\n",
    "  if cell in [13,16,19]:\n",
    "    SOC_0 = 0.48\n",
    "  if cell==10:\n",
    "    SOC_0 = 0.04\n",
    "  if cell in [14,17]:\n",
    "    SOC_0 = 0.45\n",
    "  if cell==20:\n",
    "    SOC_0 = 0.39\n",
    "  sim.solve(t_eval=t_sim,initial_soc =SOC_0)\n",
    "  # sim.solve(t_eval=data_time,initial_soc =1)\n",
    "  solution6 = sim.solution\n",
    "  t6 =  solution6[\"Time [s]\"].entries\n",
    "  V6 =  solution6[\"Terminal voltage [V]\"].entries\n",
    "  I6 =  solution6[\"Current [A]\"].entries\n",
    "  Q6 = -solution6['Discharge capacity [A.h]'].entries\n",
    "  fig, axes = plt.subplots(2, 1, figsize=(6, 6), sharex=True)\n",
    "  ax1 = axes.flat[0]\n",
    "  # ax1.plot(crate_data['Time [s]'],crate_data['Voltage [V]'])\n",
    "  ax1.plot(t_c1,V_c1,'k')\n",
    "  ax1.plot(t6,V6,'r--')\n",
    "  ax1.set_title(\"Voltage [V]\")\n",
    "  ax1.set_xlabel(\"Time [s]\")\n",
    "  ax1.legend([\"data\",\"sim\"])\n",
    "  ax2 = axes.flat[1]\n",
    "  # ax2.plot(crate_data['Time [s]'],crate_data['Current [mA]'])\n",
    "  ax2.plot(t_c1,-I_c1,'k')\n",
    "  ax2.plot(t6,I6,'r--')\n",
    "  ax2.set_title(\"Current [mA]'\")\n",
    "  ax2.set_xlabel(\"Time [s]\")\n",
    "  fig.suptitle(\"Cell = \"+cell_no)\n",
    "  fig.tight_layout()\n",
    "  plt.show()\n",
    "  plt.savefig(fig_DIR + 'cell_'+cell_no+'_cycling_data_fit.png')"
   ]
  },
  {
   "cell_type": "code",
   "execution_count": null,
   "metadata": {},
   "outputs": [],
   "source": [
    "# for cell in range(1,22,3):\n",
    "for cell in range(1,22,3):\n",
    "# for cell in [20]:\n",
    "  cell_no,dfe,dfe_0,dfo_0,N,N_0 = load_data(cell,eSOH_DIR,oCV_DIR)\n",
    "  print(cell_no)\n",
    "  eps_n_data,eps_p_data,c_rate_c,c_rate_d,dis_set,Temp,SOC_0 = init_exp(cell_no,dfe,spm,parameter_values)\n",
    "  cyc_data_raw = pd.read_csv(cyc_DIR+'cycling_data_cell_'+cell_no+'.csv')\n",
    "  if int(cell_no)%3 == 1:\n",
    "    cyc_data_raw = cyc_data_raw[ cyc_data_raw['Cycle number'] <= 10 ]\n",
    "  else:\n",
    "    cyc_data_raw = cyc_data_raw[ cyc_data_raw['Cycle number'] <= 10 ]\n",
    "  cyc_data = cyc_data_raw.reset_index(drop=True)\n",
    "  t_c1 = cyc_data['Time [s]']-cyc_data['Time [s]'][0]\n",
    "  t_c1 = t_c1.values\n",
    "  I_c1 = cyc_data['Current [mA]']/1000\n",
    "  I_c1 = I_c1.values\n",
    "  V_c1 = cyc_data['Voltage [V]']\n",
    "  V_c1 = V_c1.values\n",
    "  T_c1 = cyc_data['Temperature [C]']\n",
    "  T_c1 = T_c1.values\n",
    "  fig, axes = plt.subplots(3, 1, figsize=(6, 8), sharex=True)\n",
    "  ax1 = axes.flat[0]\n",
    "  ax2 = axes.flat[1]\n",
    "  ax3 = axes.flat[2]\n",
    "  # ax1.plot(crate_data['Time [s]'],crate_data['Voltage [V]'])\n",
    "  ax1.plot(t_c1,V_c1,'k')\n",
    "  ax1.set_title(\"Voltage [V]\")\n",
    "  ax1.set_xlabel(\"Time [s]\")\n",
    "  ax1.legend([\"data\",\"sim\"])\n",
    "  # ax2.plot(crate_data['Time [s]'],crate_data['Current [mA]'])\n",
    "  ax2.plot(t_c1,-I_c1,'k')\n",
    "  ax2.set_title(\"Current [mA]'\")\n",
    "  ax2.set_xlabel(\"Time [s]\")\n",
    "  ax3.plot(t_c1,T_c1,'k')\n",
    "  ax3.set_title(\"Temperature [Cel]\")\n",
    "  ax3.set_xlabel(\"Time [s]\")\n",
    "  fig.suptitle(\"Cell = \"+cell_no)\n",
    "  fig.tight_layout()\n",
    "  plt.show()\n",
    "#   plt.savefig(fig_DIR + 'cell_'+cell_no+'_cycling_data_fit.png')"
   ]
  }
 ],
 "metadata": {
  "kernelspec": {
   "display_name": "Python 3 (ipykernel)",
   "language": "python",
   "name": "python3"
  },
  "language_info": {
   "codemirror_mode": {
    "name": "ipython",
    "version": 3
   },
   "file_extension": ".py",
   "mimetype": "text/x-python",
   "name": "python",
   "nbconvert_exporter": "python",
   "pygments_lexer": "ipython3",
   "version": "3.9.13"
  },
  "vscode": {
   "interpreter": {
    "hash": "fe6e1a396f7757d05554318f98bb2d7e7d3785df9fdbcce0707f057fad4349a9"
   }
  }
 },
 "nbformat": 4,
 "nbformat_minor": 2
}
