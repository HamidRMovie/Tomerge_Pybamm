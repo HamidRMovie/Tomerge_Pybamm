{
 "cells": [
  {
   "cell_type": "code",
   "execution_count": null,
   "metadata": {},
   "outputs": [],
   "source": [
    "import pybamm\n",
    "import matplotlib.pyplot as plt\n",
    "import numpy as np\n",
    "import pandas as pd\n",
    "import math\n",
    "import dfols\n",
    "import signal\n",
    "from scipy.integrate import solve_ivp\n",
    "from scipy.fft import fft, fftfreq, fftshift\n",
    "from scipy.signal import savgol_filter\n",
    "from scipy.signal import find_peaks\n",
    "from scipy import interpolate\n",
    "from stopit import threading_timeoutable as timeoutable\n",
    "from batfuns import *\n",
    "plt.rcParams = set_rc_params(plt.rcParams)\n",
    "\n",
    "eSOH_DIR = \"./data/esoh_V/\"\n",
    "oCV_DIR = \"./data/ocv/\"\n",
    "fig_DIR = \"./figures/figures_sens/\"\n",
    "res_DIR = \"./data/results_sens/\""
   ]
  },
  {
   "cell_type": "code",
   "execution_count": null,
   "metadata": {},
   "outputs": [],
   "source": [
    "parameter_values = get_parameter_values()"
   ]
  },
  {
   "cell_type": "code",
   "execution_count": null,
   "metadata": {},
   "outputs": [],
   "source": [
    "cell = 22\n",
    "# cell = 23"
   ]
  },
  {
   "cell_type": "code",
   "execution_count": null,
   "metadata": {},
   "outputs": [],
   "source": [
    "def load_data(cell): \n",
    "    cell_no = f'{cell:02d}'\n",
    "    dfe=pd.read_csv(eSOH_DIR+\"aging_param_cell_\"+cell_no+\".csv\")\n",
    "    dfe_0=pd.read_csv(eSOH_DIR+\"aging_param_cell_\"+cell_no+\".csv\")\n",
    "    # dfo_0=pd.read_csv(oCV_DIR+\"ocv_data_cell_\"+cell_no+\".csv\")\n",
    "    # if cell_no=='13':\n",
    "    #     dfo_d=dfo_0[dfo_0['N']==dfe['N'].iloc[-5]]\n",
    "    #     dfo_0=dfo_0.drop(dfo_d.index.values)\n",
    "    #     dfo_0=dfo_0.reset_index(drop=True)\n",
    "    #     dfe = dfe.drop(dfe.index[-5])\n",
    "    #     dfe = dfe.reset_index(drop=True)\n",
    "    # Remove first RPT\n",
    "    # dfe = dfe.drop(dfe.index[0])\n",
    "    # dfe = dfe.reset_index(drop=True)\n",
    "    # dfo_d=dfo_0[dfo_0['N']==0]\n",
    "    # dfo_0=dfo_0.drop(dfo_d.index.values)\n",
    "    # if cell_no=='13':\n",
    "    #     dfe = dfe.drop(dfe.index[-1])\n",
    "    #     dfe = dfe.reset_index(drop=True)\n",
    "    #     dfe_0 = dfe_0.drop(dfe_0.index[-1])\n",
    "    #     dfe_0 = dfe_0.reset_index(drop=True)\n",
    "    # dfe['N']=dfe['N']-dfe['N'][0]\n",
    "    dfe['N']=dfe['Time']\n",
    "    N =dfe.N.unique()\n",
    "\n",
    "    print(\"Cycle Numbers:\")\n",
    "    print(*N, sep = \", \") \n",
    "    # print(len(N_0))\n",
    "    # print(len(dfo_0))\n",
    "    # rev_exp = []\n",
    "    # irrev_exp = []\n",
    "\n",
    "    return cell_no,dfe,N"
   ]
  },
  {
   "cell_type": "code",
   "execution_count": null,
   "metadata": {},
   "outputs": [],
   "source": [
    "cell_no,dfe,N = load_data(cell)"
   ]
  },
  {
   "cell_type": "code",
   "execution_count": null,
   "metadata": {},
   "outputs": [],
   "source": [
    "def init_exp(cell_no,dfe):\n",
    "    # dfe_0 = dfe[dfe['N']==N[0]]\n",
    "    C_n_init = dfe['C_n'][0]\n",
    "    C_p_init = dfe['C_p'][0]\n",
    "    y_0_init = dfe['y_0'][0] \n",
    "    if cell_no=='22':\n",
    "        SOC_0 = 1\n",
    "    #     x_init = esoh_sol[\"x_100\"].data[0] \n",
    "    #     y_init = esoh_sol[\"y_100\"].data[0] \n",
    "    elif cell_no=='23':\n",
    "        SOC_0 = 0.5\n",
    "    #     x_init = 0.5*(esoh_sol[\"x_100\"].data[0]-esoh_sol[\"x_0\"].data[0])\n",
    "    #     y_init = 0.5*(esoh_sol[\"y_0\"].data[0]-esoh_sol[\"y_100\"].data[0])\n",
    "\n",
    "    return C_n_init,C_p_init,SOC_0#,x_init,y_init,c_rate_c,c_rate_d,dis_set"
   ]
  },
  {
   "cell_type": "code",
   "execution_count": null,
   "metadata": {},
   "outputs": [],
   "source": [
    "C_n_init,C_p_init,SOC_0 = init_exp(cell_no,dfe)"
   ]
  },
  {
   "cell_type": "code",
   "execution_count": null,
   "metadata": {},
   "outputs": [],
   "source": [
    "pybamm.set_logging_level(\"WARNING\")\n",
    "# pybamm.set_logging_level(\"NOTICE\")\n",
    "calendar_time = 24\n",
    "experiment = pybamm.Experiment(\n",
    "    [\n",
    "        (\"Rest for \"+f'{calendar_time}'+\" hours\",)\n",
    "    ]*250 ,\n",
    "    termination=\"50% capacity\",\n",
    "#     cccv_handling=\"ode\",\n",
    ")\n",
    "spm = pybamm.lithium_ion.SPM(\n",
    "    {\n",
    "        \"SEI\": \"ec reaction limited\",\n",
    "        # \"loss of active material\": (\"stress-driven\",\"none\"),\n",
    "        \"loss of active material\": \"stress-driven\",\n",
    "        # \"stress-induced diffusion\": \"true\",\n",
    "        # \"lithium plating\": \"reversible\",\n",
    "    }\n",
    ")\n",
    "# spm.print_parameter_info()"
   ]
  },
  {
   "cell_type": "code",
   "execution_count": null,
   "metadata": {},
   "outputs": [],
   "source": [
    "param = spm.param\n",
    "eps_n_data = parameter_values.evaluate(C_n_init*3600/(param.n.L * param.n.c_max * param.F* param.A_cc))\n",
    "eps_p_data = parameter_values.evaluate(C_p_init*3600/(param.p.L * param.p.c_max * param.F* param.A_cc))\n",
    "# cs_p_init = parameter_values.evaluate(y_0_init* param.c_p_max)"
   ]
  },
  {
   "cell_type": "code",
   "execution_count": null,
   "metadata": {},
   "outputs": [],
   "source": [
    "param = spm.param\n",
    "eps_n_data = parameter_values.evaluate(C_n_init*3600/(param.n.L * param.n.c_max * param.F* param.A_cc))\n",
    "eps_p_data = parameter_values.evaluate(C_p_init*3600/(param.p.L * param.p.c_max * param.F* param.A_cc))\n",
    "# cs_p_init = parameter_values.evaluate(y_0_init* param.c_p_max)"
   ]
  },
  {
   "cell_type": "code",
   "execution_count": null,
   "metadata": {},
   "outputs": [],
   "source": [
    "Temp = [25,45,-5]\n",
    "k_sei = [1,1/1.5,1.5,1/2,2,1/3,3,1/10,10]\n",
    "# d_sei = [1,1/1.5,1.5,1/2,2,1/3,3,1/10,100]\n",
    "d_sei = [1,1e-1,1e1,1e-2,1e2,1e-3,1e3,1e-4,1e4]\n"
   ]
  },
  {
   "cell_type": "code",
   "execution_count": null,
   "metadata": {},
   "outputs": [],
   "source": [
    "ksei_idx = 0\n",
    "dsei_idx = 0\n",
    "Temp_idx = 0"
   ]
  },
  {
   "cell_type": "code",
   "execution_count": null,
   "metadata": {},
   "outputs": [],
   "source": [
    "parameter_values = get_parameter_values()\n",
    "\n",
    "parameter_values.update(\n",
    "    {\n",
    "        \"SEI kinetic rate constant [m.s-1]\": 1.6827e-16*k_sei[ksei_idx], #1.6827e-16\n",
    "        # \"Positive electrode LAM constant proportional term [s-1]\": 4.20e-06, #4.03536e-06\n",
    "        # \"Negative electrode LAM constant proportional term [s-1]\": 5.38e-05, #5.24755e-05\n",
    "        \"Positive electrode LAM constant proportional term [s-1]\": 5e-3/3600,\n",
    "        \"Negative electrode LAM constant proportional term [s-1]\": 4.3e-2/3600,\n",
    "        \"EC diffusivity [m2.s-1]\": 2e-18*d_sei[dsei_idx],\n",
    "        \"Positive electrode LAM constant exponential term\": 2,\n",
    "        \"Negative electrode LAM constant exponential term\": 2,\n",
    "        \"Negative electrode active material volume fraction\": eps_n_data,\n",
    "        \"Positive electrode active material volume fraction\": eps_p_data,\n",
    "        # \"Initial concentration in positive electrode [mol.m-3]\": y_init*c_p_max,\n",
    "        # \"Initial concentration in negative electrode [mol.m-3]\": x_init*c_n_max,\n",
    "        \"Initial temperature [K]\": 273.15+Temp[Temp_idx],\n",
    "        \"Ambient temperature [K]\": 273.15+Temp[Temp_idx],\n",
    "    },\n",
    "    check_already_exists=False,\n",
    ")"
   ]
  },
  {
   "cell_type": "code",
   "execution_count": null,
   "metadata": {},
   "outputs": [],
   "source": [
    "all_sumvars_dict = cycle_adaptive_simulation(spm, parameter_values, experiment,SOC_0, save_at_cycles=1)"
   ]
  },
  {
   "cell_type": "code",
   "execution_count": null,
   "metadata": {},
   "outputs": [],
   "source": [
    "fig = plotc(all_sumvars_dict,dfe);"
   ]
  }
 ],
 "metadata": {
  "kernelspec": {
   "display_name": "Python 3",
   "language": "python",
   "name": "python3"
  },
  "language_info": {
   "codemirror_mode": {
    "name": "ipython",
    "version": 3
   },
   "file_extension": ".py",
   "mimetype": "text/x-python",
   "name": "python",
   "nbconvert_exporter": "python",
   "pygments_lexer": "ipython3",
   "version": "3.9.7 (tags/v3.9.7:1016ef3, Aug 30 2021, 20:19:38) [MSC v.1929 64 bit (AMD64)]"
  },
  "orig_nbformat": 4,
  "vscode": {
   "interpreter": {
    "hash": "f09d3dac03808011dce2708ac4743ff9bfbc3811517b446239dd0644e1df0f4f"
   }
  }
 },
 "nbformat": 4,
 "nbformat_minor": 2
}
