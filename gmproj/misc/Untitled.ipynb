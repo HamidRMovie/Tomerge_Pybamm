{
 "cells": [
  {
   "cell_type": "code",
   "execution_count": 5,
   "id": "27225fdf",
   "metadata": {},
   "outputs": [],
   "source": [
    "import pybamm\n",
    "import matplotlib.pyplot as plt\n",
    "import numpy as np\n",
    "import pandas as pd\n",
    "import math\n",
    "import dfols\n",
    "import signal\n",
    "from scipy.integrate import solve_ivp\n",
    "from scipy.fft import fft, fftfreq, fftshift\n",
    "from scipy.signal import savgol_filter\n",
    "from scipy.signal import find_peaks\n",
    "from scipy import interpolate\n",
    "from stopit import threading_timeoutable as timeoutable\n",
    "import os, sys\n",
    "sys.path.append(os.path.dirname(os.path.dirname(os.path.abspath(\"__file__\"))))\n",
    "from batfuns import *\n",
    "plt.rcParams = set_rc_params(plt.rcParams)\n",
    "\n",
    "eSOH_DIR = \"F:/Git Hub rep/PyBaMM/V2G/data/esoh/\"\n",
    "oCV_DIR = \"F:/Git Hub rep/PyBaMM/V2G/data/ocv/\"\n",
    "hppc_DIR = \"F:/Stefanapolu application/RC sys ID/Peyman2020/hppc/\"\n",
    "crate_DIR = \"F:/Stefanapolu application/RC sys ID/Peyman2020/crate/\"\n",
    "cyc_DIR = \"F:/Stefanapolu application/RC sys ID/Peyman2020/cycling/\"\n",
    "fig_DIR = \"../Untitled Folder/figures/figures_cycling/\"\n",
    "res_DIR = \"../Untitled Folder/data/results/\"\n",
    "\n",
    "# %matplotlib widget"
   ]
  },
  {
   "cell_type": "code",
   "execution_count": 6,
   "id": "e9d8f8df",
   "metadata": {},
   "outputs": [],
   "source": [
    "DFN = pybamm.lithium_ion.DFN(\n",
    "    {\n",
    "        # \"SEI\": \"ec reaction limited\",\n",
    "        # # \"loss of active material\": (\"stress-driven\",\"none\"),\n",
    "        # \"loss of active material\": \"stress-driven\",\n",
    "        # \"stress-induced diffusion\": \"true\",\n",
    "        # \"lithium plating\": \"reversible\",\n",
    "    }\n",
    ")\n",
    "# spm.print_parameter_info()\n",
    "param=DFN.param"
   ]
  },
  {
   "cell_type": "code",
   "execution_count": 7,
   "id": "7d1d83aa",
   "metadata": {},
   "outputs": [],
   "source": [
    "parameter_values = get_parameter_values()"
   ]
  },
  {
   "cell_type": "code",
   "execution_count": 8,
   "id": "7f18f3ba",
   "metadata": {},
   "outputs": [],
   "source": [
    "cell = 1\n",
    "cell_no,dfe,dfe_0,dfo_0,N,N_0 = load_data(cell,eSOH_DIR,oCV_DIR)\n",
    "# eps_n_data,eps_p_data,c_rate_c,c_rate_d,dis_set,Temp,SOC_0 = init_exp(cell_no,dfe,spm,parameter_values)\n",
    "# pybamm.set_logging_level(\"WARNING\")\n",
    "pybamm.set_logging_level(\"NOTICE\")"
   ]
  },
  {
   "cell_type": "code",
   "execution_count": 9,
   "id": "fd40b8aa",
   "metadata": {},
   "outputs": [],
   "source": [
    "Temp=25\n",
    "parameter_values = get_parameter_values()\n",
    "parameter_values.update(\n",
    "    {\n",
    "        \"Positive electrode LAM constant proportional term [s-1]\": 1.2676e-07,#2.7081e-07, #4.1759e-07,#2.7081e-07, #2.5112e-07,\n",
    "        \"Negative electrode LAM constant proportional term [s-1]\": 1.2713e-06,#3.7576e-06, #3.2693e-06,#3.7576e-06, #2.4741e-06,\n",
    "        \"Positive electrode LAM constant exponential term\": 1.1998,#1.2446,#1.2232,#1.1942,\n",
    "        \"Negative electrode LAM constant exponential term\": 1.1998,#1.2446,#1.2232,#1.1942,\n",
    "        \"Negative electrode active material volume fraction\": 0.6155,\n",
    "        \"Positive electrode active material volume fraction\": 0.4475,\n",
    "        \"Initial temperature [K]\": 273.15+Temp,\n",
    "        \"Ambient temperature [K]\": 273.15+Temp,\n",
    "        \"SEI kinetic rate constant [m.s-1]\": 1.08494281e-16,\n",
    "        \"EC diffusivity [m2.s-1]\": 8.30909086e-19,\n",
    "        \"SEI growth activation energy [J.mol-1]\": 1.58777981e+04,\n",
    "        # \"SEI kinetic rate constant [m.s-1]\": 1.6827e-16,\n",
    "        # \"EC diffusivity [m2.s-1]\": 2e-18,\n",
    "        # \"SEI growth activation energy [J.mol-1]\": 0,\n",
    "    },\n",
    "    check_already_exists=False,\n",
    ")"
   ]
  },
  {
   "cell_type": "code",
   "execution_count": 10,
   "id": "00c005b9",
   "metadata": {},
   "outputs": [
    {
     "name": "stderr",
     "output_type": "stream",
     "text": [
      "2022-12-16 14:37:43.474 - [WARNING] simulation.solve(721): Ignoring t_eval as solution times are specified by the experiment\n",
      "2022-12-16 14:37:43.505 - [NOTICE] callbacks.on_cycle_start(174): Cycle 1/1 (21.659 ms elapsed) --------------------\n",
      "2022-12-16 14:37:43.506 - [NOTICE] callbacks.on_step_start(182): Cycle 1/1, step 1/1: Charge at 1.5C until 4.2V\n",
      "The linesearch algorithm failed with too small a step.\n",
      "2022-12-16 14:37:45.035 - [NOTICE] callbacks.on_experiment_end(222): Finish experiment simulation, took 1.560 s\n"
     ]
    }
   ],
   "source": [
    "experiment = pybamm.Experiment(\n",
    "    [\n",
    "        \"Charge at \"+\"1.5C\"+\" until 4.2V\", \n",
    "         \n",
    "    ],\n",
    ")\n",
    "sim = pybamm.Simulation(DFN,experiment=experiment ,parameter_values=parameter_values, solver=pybamm.CasadiSolver(mode=\"safe\"))\n",
    "sim.solve(t_eval=[60,600,1200,1800,2400,3000] ,initial_soc =0)\n",
    "solution1 = sim.solution"
   ]
  },
  {
   "cell_type": "code",
   "execution_count": 15,
   "id": "7f20bb72",
   "metadata": {},
   "outputs": [
    {
     "data": {
      "application/vnd.jupyter.widget-view+json": {
       "model_id": "71e31f00578241d88fe1176b84e8bf94",
       "version_major": 2,
       "version_minor": 0
      },
      "text/plain": [
       "interactive(children=(FloatSlider(value=0.0, description='t', max=2141.500200621899, step=21.415002006218987),…"
      ]
     },
     "metadata": {},
     "output_type": "display_data"
    },
    {
     "data": {
      "text/plain": [
       "<pybamm.plotting.quick_plot.QuickPlot at 0x261eb40cbb0>"
      ]
     },
     "execution_count": 15,
     "metadata": {},
     "output_type": "execute_result"
    }
   ],
   "source": [
    "solution1.plot([\n",
    "        \"Negative electrolyte concentration [mol.m-3]\",\n",
    "#         \"Gradient of negative electrolyte potential\",\n",
    "        \"Negative electrolyte potential [V]\",\n",
    "        \"X-averaged negative particle concentration [mol.m-3]\",\n",
    "        \"R-averaged negative particle concentration [mol.m-3]\",\n",
    "        \"X-averaged negative particle surface concentration [mol.m-3]\",\n",
    "        \"X-averaged negative electrode reaction overpotential [V]\"\n",
    "\n",
    "\n",
    "]\n",
    ")"
   ]
  },
  {
   "cell_type": "code",
   "execution_count": 20,
   "id": "2c47a374",
   "metadata": {},
   "outputs": [
    {
     "name": "stdout",
     "output_type": "stream",
     "text": [
      "Average negative particle concentration\n",
      "Average negative particle concentration [mol.m-3]\n",
      "Average positive particle concentration\n",
      "Average positive particle concentration [mol.m-3]\n",
      "Dead lithium concentration\n",
      "Dead lithium concentration [mol.m-3]\n",
      "Electrolyte concentration\n",
      "Electrolyte concentration [Molar]\n",
      "Electrolyte concentration [mol.m-3]\n",
      "Inner SEI concentration [mol.m-3]\n",
      "Inner SEI on cracks concentration [mol.m-3]\n",
      "Lithium plating concentration\n",
      "Lithium plating concentration [mol.m-3]\n",
      "Maximum negative particle concentration\n",
      "Maximum negative particle concentration [mol.m-3]\n",
      "Maximum negative particle surface concentration\n",
      "Maximum negative particle surface concentration [mol.m-3]\n",
      "Maximum positive particle concentration\n",
      "Maximum positive particle concentration [mol.m-3]\n",
      "Maximum positive particle surface concentration\n",
      "Maximum positive particle surface concentration [mol.m-3]\n",
      "Minimum negative particle concentration\n",
      "Minimum negative particle concentration [mol.m-3]\n",
      "Minimum negative particle surface concentration\n",
      "Minimum negative particle surface concentration [mol.m-3]\n",
      "Minimum positive particle concentration\n",
      "Minimum positive particle concentration [mol.m-3]\n",
      "Minimum positive particle surface concentration\n",
      "Minimum positive particle surface concentration [mol.m-3]\n",
      "Negative electrode porosity times concentration\n",
      "Negative electrode volume-averaged concentration\n",
      "Negative electrode volume-averaged concentration [mol.m-3]\n",
      "Negative electrolyte concentration\n",
      "Negative electrolyte concentration [Molar]\n",
      "Negative electrolyte concentration [mol.m-3]\n",
      "Negative particle concentration\n",
      "Negative particle concentration [mol.m-3]\n",
      "Negative particle surface concentration\n",
      "Negative particle surface concentration [mol.m-3]\n",
      "Outer SEI concentration [mol.m-3]\n",
      "Outer SEI on cracks concentration [mol.m-3]\n",
      "Porosity times concentration\n",
      "Positive electrode porosity times concentration\n",
      "Positive electrode volume-averaged concentration\n",
      "Positive electrode volume-averaged concentration [mol.m-3]\n",
      "Positive electrolyte concentration\n",
      "Positive electrolyte concentration [Molar]\n",
      "Positive electrolyte concentration [mol.m-3]\n",
      "Positive particle concentration\n",
      "Positive particle concentration [mol.m-3]\n",
      "Positive particle surface concentration\n",
      "Positive particle surface concentration [mol.m-3]\n",
      "R-averaged negative particle concentration\n",
      "R-averaged negative particle concentration [mol.m-3]\n",
      "R-averaged positive particle concentration\n",
      "R-averaged positive particle concentration [mol.m-3]\n",
      "SEI concentration [mol.m-3]\n",
      "SEI on cracks concentration [mol.m-3]\n",
      "Separator electrolyte concentration\n",
      "Separator electrolyte concentration [Molar]\n",
      "Separator electrolyte concentration [mol.m-3]\n",
      "Separator porosity times concentration\n",
      "X-averaged SEI concentration [mol.m-3]\n",
      "X-averaged SEI on cracks concentration [mol.m-3]\n",
      "X-averaged battery concentration overpotential [V]\n",
      "X-averaged concentration overpotential\n",
      "X-averaged concentration overpotential [V]\n",
      "X-averaged dead lithium concentration\n",
      "X-averaged dead lithium concentration [mol.m-3]\n",
      "X-averaged electrolyte concentration\n",
      "X-averaged electrolyte concentration [Molar]\n",
      "X-averaged electrolyte concentration [mol.m-3]\n",
      "X-averaged inner SEI concentration [mol.m-3]\n",
      "X-averaged inner SEI on cracks concentration [mol.m-3]\n",
      "X-averaged lithium plating concentration\n",
      "X-averaged lithium plating concentration [mol.m-3]\n",
      "X-averaged negative electrolyte concentration\n",
      "X-averaged negative electrolyte concentration [mol.m-3]\n",
      "X-averaged negative particle concentration\n",
      "X-averaged negative particle concentration [mol.m-3]\n",
      "X-averaged negative particle surface concentration\n",
      "X-averaged negative particle surface concentration [mol.m-3]\n",
      "X-averaged outer SEI concentration [mol.m-3]\n",
      "X-averaged outer SEI on cracks concentration [mol.m-3]\n",
      "X-averaged positive electrolyte concentration\n",
      "X-averaged positive electrolyte concentration [mol.m-3]\n",
      "X-averaged positive particle concentration\n",
      "X-averaged positive particle concentration [mol.m-3]\n",
      "X-averaged positive particle surface concentration\n",
      "X-averaged positive particle surface concentration [mol.m-3]\n",
      "X-averaged separator electrolyte concentration\n",
      "X-averaged separator electrolyte concentration [mol.m-3]\n"
     ]
    }
   ],
   "source": [
    "DFN.variables.search(\"concentration\")"
   ]
  },
  {
   "cell_type": "code",
   "execution_count": 22,
   "id": "d9f1ea3c",
   "metadata": {},
   "outputs": [],
   "source": [
    "\n",
    "from scipy.io import savemat\n",
    "\n",
    "c_n_e = solution1[\"Negative electrolyte concentration [mol.m-3]\"].entries\n",
    "t = solution1[\"Time [s]\"].entries\n",
    "eta_n_e=solution1[\"Negative electrolyte potential [V]\"].entries\n",
    "C_r=solution1[\"X-averaged negative particle concentration [mol.m-3]\"].entries\n",
    "C_x=solution1[\"R-averaged negative particle concentration [mol.m-3]\"].entries\n",
    "\n",
    "\n",
    "mdic = {\"c_n_e\": c_n_e, \n",
    "        \"t\":t,\n",
    "#         \"eta\":eta_n_e,\n",
    "        \"C_r\":C_r,\n",
    "        \"C_x\":C_x\n",
    "        \n",
    "       }\n",
    "savemat(\"DFN_Cell01_halfcycle_1_5C.mat\",mdic)"
   ]
  },
  {
   "cell_type": "code",
   "execution_count": null,
   "id": "362f266c",
   "metadata": {},
   "outputs": [],
   "source": []
  }
 ],
 "metadata": {
  "kernelspec": {
   "display_name": "Python 3 (ipykernel)",
   "language": "python",
   "name": "python3"
  },
  "language_info": {
   "codemirror_mode": {
    "name": "ipython",
    "version": 3
   },
   "file_extension": ".py",
   "mimetype": "text/x-python",
   "name": "python",
   "nbconvert_exporter": "python",
   "pygments_lexer": "ipython3",
   "version": "3.9.13"
  }
 },
 "nbformat": 4,
 "nbformat_minor": 5
}
