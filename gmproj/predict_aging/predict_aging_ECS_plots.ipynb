{
 "cells": [
  {
   "cell_type": "markdown",
   "metadata": {},
   "source": [
    "# Plots for ECS 2022 Submission"
   ]
  },
  {
   "cell_type": "code",
   "execution_count": null,
   "metadata": {},
   "outputs": [],
   "source": [
    "import pybamm\n",
    "import matplotlib.pyplot as plt\n",
    "import numpy as np\n",
    "import pandas as pd\n",
    "import math\n",
    "import dfols\n",
    "import signal\n",
    "from scipy.integrate import solve_ivp\n",
    "from scipy.fft import fft, fftfreq, fftshift\n",
    "from scipy.signal import savgol_filter\n",
    "from scipy.signal import find_peaks\n",
    "from scipy import interpolate\n",
    "from stopit import threading_timeoutable as timeoutable\n",
    "import os, sys\n",
    "sys.path.append(os.path.dirname(os.path.dirname(os.path.abspath(\"__file__\"))))\n",
    "from batfuns import *\n",
    "plt.rcParams = set_rc_params(plt.rcParams)\n",
    "from joblib import Parallel, delayed, parallel_backend\n",
    "\n",
    "eSOH_DIR = \"../data/esoh/\"\n",
    "oCV_DIR = \"../data/ocv/\"\n",
    "fig_DIR = \"../figures/figures_fit/\"\n",
    "res_DIR = \"../data/results_fit/\"\n",
    "# %matplotlib widget"
   ]
  },
  {
   "cell_type": "code",
   "execution_count": null,
   "metadata": {},
   "outputs": [],
   "source": [
    "parameter_values = get_parameter_values()"
   ]
  },
  {
   "cell_type": "code",
   "execution_count": null,
   "metadata": {},
   "outputs": [],
   "source": [
    "parameter_values.search(\"Li\")"
   ]
  },
  {
   "cell_type": "code",
   "execution_count": null,
   "metadata": {},
   "outputs": [],
   "source": [
    "cell = 1"
   ]
  },
  {
   "cell_type": "markdown",
   "metadata": {},
   "source": [
    "## Load eSOH Data and OCV Data"
   ]
  },
  {
   "cell_type": "code",
   "execution_count": null,
   "metadata": {},
   "outputs": [],
   "source": [
    "cell_no = f'{cell:02d}'\n",
    "dfe=pd.read_csv(eSOH_DIR+\"aging_param_cell_\"+cell_no+\".csv\")\n",
    "dfe_0=pd.read_csv(eSOH_DIR+\"aging_param_cell_\"+cell_no+\".csv\")\n",
    "# Remove first RPT\n",
    "dfe = dfe.drop(dfe.index[0])\n",
    "dfe = dfe.reset_index(drop=True)\n",
    "dfe['N']=dfe['N']-dfe['N'][0]\n",
    "N =dfe.N.unique()\n",
    "N_0 = dfe_0.N.unique()\n",
    "dfo_0=pd.read_csv(oCV_DIR+\"ocv_data_cell_\"+cell_no+\".csv\")\n",
    "print(\"Cycle Numbers:\")\n",
    "print(*N, sep = \", \") "
   ]
  },
  {
   "cell_type": "code",
   "execution_count": null,
   "metadata": {},
   "outputs": [],
   "source": [
    "irr_exp = []\n",
    "# print('Irreversible Expansion')\n",
    "for i in range(len(N_0)):\n",
    "    dfo = dfo_0[dfo_0['N']==N_0[i]]\n",
    "    # print(min(dfo['E']))\n",
    "    irr_exp.append(min(dfo['E']))\n",
    "dfe_0['irr_exp']=irr_exp\n",
    "\n",
    "rev_exp = []\n",
    "print('Reversible Expansion')\n",
    "for i in range(len(N_0)):\n",
    "    dfo = dfo_0[dfo_0['N']==N_0[i]]\n",
    "    # print(max(dfo['E'])-min(dfo['E']))\n",
    "    rev_exp.append(max(dfo['E'])-min(dfo['E']))\n",
    "dfe_0['rev_exp']=rev_exp\n",
    "print(dfe_0['rev_exp'].iloc[-1])\n",
    "print(dfe_0['Cap'].iloc[-1])"
   ]
  },
  {
   "cell_type": "code",
   "execution_count": null,
   "metadata": {},
   "outputs": [],
   "source": [
    "dfo = dfo_0[dfo_0['N']==N[0]]\n",
    "# dfe_0 = dfe[dfe['N']==N[0]]\n",
    "C_n_init = dfe['C_n'][0]\n",
    "C_p_init = dfe['C_p'][0]\n",
    "y_0_init = dfe['y_0'][0] \n",
    "if cell_no=='01':\n",
    "    c_rate_c = 'C/5'\n",
    "    c_rate_d = 'C/5'\n",
    "    dis_set = \" until 3V\"\n",
    "    # eps_n_data = 0.6234\n",
    "    # eps_p_data = 0.4542\n",
    "elif cell_no=='13':\n",
    "    c_rate_c = 'C/5'\n",
    "    c_rate_d = 'C/5'\n",
    "    dis_set = \" for 150 min\""
   ]
  },
  {
   "cell_type": "code",
   "execution_count": null,
   "metadata": {},
   "outputs": [],
   "source": [
    "dfe.N.iloc[-1]"
   ]
  },
  {
   "cell_type": "code",
   "execution_count": null,
   "metadata": {},
   "outputs": [],
   "source": [
    "pybamm.set_logging_level(\"WARNING\")\n",
    "# pybamm.set_logging_level(\"NOTICE\")\n",
    "experiment = pybamm.Experiment(\n",
    "    [\n",
    "        (\"Discharge at \"+c_rate_d+dis_set,\n",
    "         \"Rest for 5 min\",\n",
    "         \"Charge at \"+c_rate_c+\" until 4.2V\", \n",
    "         \"Hold at 4.2V until C/50\")\n",
    "    ] *dfe.N.iloc[-1],\n",
    "    termination=\"50% capacity\",\n",
    "#     cccv_handling=\"ode\",\n",
    ")\n",
    "spm = pybamm.lithium_ion.SPM(\n",
    "    {\n",
    "        \"SEI\": \"ec reaction limited\",\n",
    "        # \"loss of active material\": (\"stress-driven\",\"none\"),\n",
    "        \"loss of active material\": \"stress-driven\",\n",
    "        \"stress-induced diffusion\": \"true\",\n",
    "        # \"lithium plating\": \"reversible\",\n",
    "    }\n",
    ")\n",
    "# spm.print_parameter_info()"
   ]
  },
  {
   "cell_type": "code",
   "execution_count": null,
   "metadata": {},
   "outputs": [],
   "source": [
    "param = spm.param\n",
    "eps_n_data = parameter_values.evaluate(C_n_init*3600/(param.n.L * param.n.c_max * param.F* param.A_cc))\n",
    "eps_p_data = parameter_values.evaluate(C_p_init*3600/(param.p.L * param.p.c_max * param.F* param.A_cc))\n",
    "cs_p_init = parameter_values.evaluate(y_0_init* param.p.c_max)"
   ]
  },
  {
   "cell_type": "code",
   "execution_count": null,
   "metadata": {},
   "outputs": [],
   "source": [
    "parameter_values = get_parameter_values()\n",
    "\n",
    "parameter_values.update(\n",
    "    {\n",
    "        # ACC\n",
    "        # \"Positive electrode LAM constant proportional term [s-1]\": 8.3569e-6,\n",
    "        # \"Negative electrode LAM constant proportional term [s-1]\": 5.8032e-5,\n",
    "        \"SEI kinetic rate constant [m.s-1]\": 1.6827e-16,\n",
    "        # ECS\n",
    "        \"Positive electrode LAM constant proportional term [s-1]\": 4.815555555555556e-06,\n",
    "        \"Negative electrode LAM constant proportional term [s-1]\": 5.360555555555556e-05,\n",
    "        # \"SEI kinetic rate constant [m.s-1]\": 2.33728e-16,\n",
    "        \"EC diffusivity [m2.s-1]\": 2e-18,\n",
    "        \"Positive electrode LAM constant exponential term\": 2,\n",
    "        \"Negative electrode LAM constant exponential term\": 2,\n",
    "        \"Negative electrode active material volume fraction\": eps_n_data,\n",
    "        \"Positive electrode active material volume fraction\": eps_p_data,\n",
    "    },\n",
    "    check_already_exists=False,\n",
    ")\n",
    "all_sumvars_dict = cycle_adaptive_simulation(spm, parameter_values, experiment, save_at_cycles=2)"
   ]
  },
  {
   "cell_type": "code",
   "execution_count": null,
   "metadata": {},
   "outputs": [],
   "source": [
    "sim_des = '_ECS_sei'\n",
    "# sim_des = '_ACC'\n",
    "d = all_sumvars_dict\n",
    "df = pd.DataFrame.from_dict(d, )\n",
    "df.to_csv(res_DIR + \"cell_\"+ cell_no + sim_des+\"_accl.csv\")"
   ]
  },
  {
   "cell_type": "code",
   "execution_count": null,
   "metadata": {},
   "outputs": [],
   "source": [
    "# fig = plot(all_sumvars_dict,dfe);\n",
    "# fig.savefig(fig_DIR +'fast_sim_'+cell_no+'_new.png')"
   ]
  },
  {
   "cell_type": "code",
   "execution_count": null,
   "metadata": {},
   "outputs": [],
   "source": [
    "# fig = plot1(all_sumvars_dict,dfe);\n",
    "# fig.savefig(fig_DIR +'fast_sim_'+cell_no+'_cap_new.png')"
   ]
  },
  {
   "cell_type": "code",
   "execution_count": null,
   "metadata": {},
   "outputs": [],
   "source": [
    "fig = plotc(all_sumvars_dict,dfe);\n",
    "fig.savefig(fig_DIR +'pred_sim'+sim_des+'_'+cell_no+'_eSOHC.png')"
   ]
  },
  {
   "cell_type": "code",
   "execution_count": null,
   "metadata": {},
   "outputs": [],
   "source": [
    "def plotcpcn(all_sumvars_dict,esoh_data):\n",
    "    esoh_vars = [\"x_100\", \"y_0\", \"C_n\", \"C_p\", \"Capacity [A.h]\", \"Loss of lithium inventory [%]\"]\n",
    "    esoh_data[\"Capacity [A.h]\"]=esoh_data[\"Cap\"]\n",
    "    param = pybamm.LithiumIonParameters()\n",
    "    esoh_data[\"n_Li\"]= 3600/param.F.value*(esoh_data[\"y_100\"]*esoh_data[\"C_p\"]+esoh_data[\"x_100\"]*esoh_data[\"C_n\"])\n",
    "    esoh_data[\"Loss of lithium inventory [%]\"]=(1-esoh_data[\"n_Li\"]/esoh_data[\"n_Li\"][0])*100\n",
    "    fig = plt.figure(figsize=[6,4])\n",
    "    ax1 = plt.subplot(1,2,1)\n",
    "    name=\"C_n\"\n",
    "    ax1.plot(all_sumvars_dict[\"Cycle number\"],all_sumvars_dict[name],\"ro\")\n",
    "    ax1.plot(esoh_data[\"N\"],esoh_data[name],\"kx\",label='_nolegend_')\n",
    "    name=\"C_p\"\n",
    "    ax1.plot(all_sumvars_dict[\"Cycle number\"],all_sumvars_dict[name],\"bo\")\n",
    "    ax1.plot(esoh_data[\"N\"],esoh_data[name],\"kx\",label='_nolegend_')\n",
    "    ax1.set_title(\"Electrode Capacity [Ah]\")\n",
    "    ax1.set_ylim([4,6])\n",
    "    ax1.set_xlabel(\"Cycle number\")\n",
    "    ax1.legend([\"$C_n$\"] + [\"$C_p$\"])\n",
    "    fig.tight_layout()\n",
    "    return fig"
   ]
  },
  {
   "cell_type": "code",
   "execution_count": null,
   "metadata": {},
   "outputs": [],
   "source": [
    "fig = plotcpcn(all_sumvars_dict,dfe);\n",
    "fig.savefig(fig_DIR +'pred_sim'+sim_des+'_'+cell_no+'_eCap.png')"
   ]
  },
  {
   "cell_type": "code",
   "execution_count": null,
   "metadata": {},
   "outputs": [],
   "source": [
    "# df.columns"
   ]
  },
  {
   "cell_type": "code",
   "execution_count": null,
   "metadata": {},
   "outputs": [],
   "source": [
    "def plotlossli(all_sumvars_dict,esoh_data):\n",
    "    esoh_vars = [\"Total lithium lost [mol]\", \"Loss of lithium to SEI [mol]\", \"C_n\", \"C_p\", \"Capacity [A.h]\", \"Loss of lithium inventory [%]\"]\n",
    "    esoh_data[\"Capacity [A.h]\"]=esoh_data[\"Cap\"]\n",
    "    param = pybamm.LithiumIonParameters()\n",
    "    esoh_data[\"n_Li\"]= 3600/param.F.value*(esoh_data[\"y_100\"]*esoh_data[\"C_p\"]+esoh_data[\"x_100\"]*esoh_data[\"C_n\"])\n",
    "    esoh_data[\"Loss of lithium inventory [%]\"]=(1-esoh_data[\"n_Li\"]/esoh_data[\"n_Li\"][0])*100\n",
    "    fig = plt.figure(figsize=[6,4])\n",
    "    ax = plt.subplot(1,1,1)\n",
    "    name=\"Total lithium lost [mol]\"\n",
    "    name2 = \"Total lithium [mol]\"\n",
    "    # ax.plot(all_sumvars_dict[\"Cycle number\"],all_sumvars_dict[name],\"ro\")\n",
    "    ax.plot(all_sumvars_dict[\"Cycle number\"],(all_sumvars_dict[name]/all_sumvars_dict[name2][0])*100,\"ro\")\n",
    "    # ax.plot(esoh_data[\"N\"],esoh_data[name],\"kx\",label='_nolegend_')\n",
    "    name=\"Loss of lithium to SEI [mol]\"\n",
    "    # ax.plot(all_sumvars_dict[\"Cycle number\"],all_sumvars_dict[name],\"bo\")\n",
    "    ax.plot(all_sumvars_dict[\"Cycle number\"],(all_sumvars_dict[name]/all_sumvars_dict[name2][0])*100,\"bo\")\n",
    "    # ax.plot(esoh_data[\"N\"],esoh_data[name],\"kx\",label='_nolegend_')\n",
    "    # ax.set_title(\"Loss of Lithium [mol]\")\n",
    "    ax.set_title(\"LLI [%]\")\n",
    "    # ax.set_ylim([4,6])\n",
    "    ax.set_xlabel(\"Cycle number\")\n",
    "    ax.legend([\"Total loss of Li\"] + [\"Loss loss Li due to SEI\"])\n",
    "    fig.tight_layout()\n",
    "    return fig"
   ]
  },
  {
   "cell_type": "code",
   "execution_count": null,
   "metadata": {},
   "outputs": [],
   "source": [
    "fig = plotlossli(all_sumvars_dict,dfe);\n",
    "fig.savefig(fig_DIR +'pred_sim'+sim_des+'_'+cell_no+'_lossli.png')"
   ]
  },
  {
   "cell_type": "code",
   "execution_count": null,
   "metadata": {},
   "outputs": [],
   "source": [
    "def plotlam(all_sumvars_dict,esoh_data):\n",
    "    esoh_vars = [\"Total lithium lost [mol]\", \"Loss of lithium to SEI [mol]\", \"C_n\", \"C_p\", \"Capacity [A.h]\", \"Loss of lithium inventory [%]\"]\n",
    "    esoh_data[\"Capacity [A.h]\"]=esoh_data[\"Cap\"]\n",
    "    param = pybamm.LithiumIonParameters()\n",
    "    esoh_data[\"n_Li\"]= 3600/param.F.value*(esoh_data[\"y_100\"]*esoh_data[\"C_p\"]+esoh_data[\"x_100\"]*esoh_data[\"C_n\"])\n",
    "    esoh_data[\"Loss of lithium inventory [%]\"]=(1-esoh_data[\"n_Li\"]/esoh_data[\"n_Li\"][0])*100\n",
    "    fig = plt.figure(figsize=[6,4])\n",
    "    ax = plt.subplot(1,1,1)\n",
    "    name=\"Loss of active material in negative electrode [%]\"\n",
    "    ax.plot(all_sumvars_dict[\"Cycle number\"],all_sumvars_dict[name],\"ro\")\n",
    "    # ax.plot(esoh_data[\"N\"],esoh_data[name],\"kx\",label='_nolegend_')\n",
    "    name=\"Loss of active material in positive electrode [%]\"\n",
    "    ax.plot(all_sumvars_dict[\"Cycle number\"],all_sumvars_dict[name],\"bo\")\n",
    "    # ax.plot(esoh_data[\"N\"],esoh_data[name],\"kx\",label='_nolegend_')\n",
    "    # ax.set_title(\"Loss of Lithium [mol]\")\n",
    "    ax.set_title(\"LAM [%]\")\n",
    "    # ax.set_ylim([4,6])\n",
    "    ax.set_xlabel(\"Cycle number\")\n",
    "    ax.legend([\"NE\"] + [\"PE\"])\n",
    "    fig.tight_layout()\n",
    "    return fig"
   ]
  },
  {
   "cell_type": "code",
   "execution_count": null,
   "metadata": {},
   "outputs": [],
   "source": [
    "fig = plotlam(all_sumvars_dict,dfe);\n",
    "fig.savefig(fig_DIR +'pred_sim'+sim_des+'_'+cell_no+'_LAM.png')"
   ]
  },
  {
   "cell_type": "code",
   "execution_count": null,
   "metadata": {},
   "outputs": [],
   "source": [
    "dfe[\"n_Li\"][0]"
   ]
  },
  {
   "cell_type": "code",
   "execution_count": null,
   "metadata": {},
   "outputs": [],
   "source": [
    "# print(df['Change in total lithium in negative electrode [mol]'].iloc[-1])\n",
    "print(df['Total lithium lost to side reactions [mol]'].iloc[-1])\n",
    "# print(df[''].iloc[-1])\n",
    "print(df['Loss of lithium to SEI [mol]'].iloc[-1])\n",
    "print(df['Total lithium lost from particles [mol]'].iloc[-1])\n",
    "print(df['Total lithium lost [mol]'].iloc[-1])\n",
    "print(df['Total lithium in particles [mol]'].iloc[-1])\n",
    "print(df['Total lithium in positive electrode [mol]'].iloc[-1])\n",
    "print(df['Total lithium in negative electrode [mol]'].iloc[-1])"
   ]
  },
  {
   "cell_type": "markdown",
   "metadata": {},
   "source": [
    "# Parameter Fitting"
   ]
  },
  {
   "cell_type": "code",
   "execution_count": null,
   "metadata": {},
   "outputs": [],
   "source": [
    "cycles = np.array(dfe['N'].astype('int'))\n",
    "cycles=cycles-1\n",
    "cycles[0]=cycles[0]+1\n",
    "cycles\n",
    "dfe['N_mod'] = cycles"
   ]
  },
  {
   "cell_type": "code",
   "execution_count": null,
   "metadata": {},
   "outputs": [],
   "source": [
    "def plot_comp(all_sumvars_dict_0,all_sumvars_dict_1,esoh_data):\n",
    "    esoh_vars = [\"x_100\", \"y_0\", \"C_n\", \"C_p\", \"Capacity [A.h]\", \"Loss of lithium inventory [%]\"]\n",
    "    esoh_data[\"Capacity [A.h]\"]=esoh_data[\"Cap\"]\n",
    "    param = pybamm.LithiumIonParameters()\n",
    "    esoh_data[\"n_Li\"]= 3600/param.F.value*(esoh_data[\"y_100\"]*esoh_data[\"C_p\"]+esoh_data[\"x_100\"]*esoh_data[\"C_n\"])\n",
    "    esoh_data[\"Loss of lithium inventory [%]\"]=(1-esoh_data[\"n_Li\"]/esoh_data[\"n_Li\"][0])*100\n",
    "    fig, axes = plt.subplots(3,2,figsize=(7,7))\n",
    "    for k, name in enumerate(esoh_vars):\n",
    "        ax = axes.flat[k]\n",
    "        ax.plot(all_sumvars_dict_1[\"Cycle number\"],all_sumvars_dict_1[name],\"bo\")\n",
    "        ax.plot(all_sumvars_dict_0[\"Cycle number\"],all_sumvars_dict_0[name],\"ro\")\n",
    "        # ax.plot(all_sumvars_dict_1[\"Cycle number\"],all_sumvars_dict_1[name],\"bo\")\n",
    "        ax.plot(esoh_data[\"N\"],esoh_data[name],\"kx\")\n",
    "        ax.axvline(x = all_sumvars_dict_0[\"Cycle number\"][-1], color = 'm', label = 'axvline - full height')\n",
    "        ax.set_title(split_long_string(name))\n",
    "        if k>3:\n",
    "            ax.set_xlabel(\"Cycle number\")\n",
    "    fig.legend([\"Pred\"]+[\"Train\"] + [\"Data\"], \n",
    "           loc=\"lower center\",bbox_to_anchor=[0.5, -0.05], ncol=1, fontsize=11)\n",
    "    fig.tight_layout()\n",
    "    return fig"
   ]
  },
  {
   "cell_type": "markdown",
   "metadata": {},
   "source": [
    "## List of Initial Conditions"
   ]
  },
  {
   "cell_type": "code",
   "execution_count": null,
   "metadata": {},
   "outputs": [],
   "source": [
    "ic = 0\n",
    "blam_p = [2e-2/3600, 4e-6, 1e-5,1e-6]\n",
    "blam_n = [2e-1/3600, 3e-5, 2e-5,7e-5]\n",
    "k_sei= [1.6e-16,1.5e-16,1.7e-16,1.3e-16]"
   ]
  },
  {
   "cell_type": "code",
   "execution_count": null,
   "metadata": {},
   "outputs": [],
   "source": [
    "def objective(model, data):\n",
    "    return np.array(model.loc[data['N_mod']][\"Capacity [A.h]\"]) - np.array(data[\"Cap\"])\n",
    "\n",
    "def multi_objective(model, data):\n",
    "    variables = [\"C_n\",\"C_p\",\"x_100\",\"y_0\"]\n",
    "    # variables = [\"Capacity [A.h]\", \"C_n\"]\n",
    "    weights = [1,1,5,5]\n",
    "    return np.concatenate([\n",
    "        (np.array(model.loc[data['N_mod']][var]) - np.array(data[var])) * w\n",
    "        for w,var in zip(weights,variables)\n",
    "    ]\n",
    "    )\n",
    "@timeoutable()\n",
    "def simulate(x,expt):\n",
    "    parameter_values = get_parameter_values()\n",
    "    parameter_values.update(\n",
    "        {\n",
    "            \"SEI kinetic rate constant [m.s-1]\":  x[2]*k_sei[ic],\n",
    "            \"Positive electrode LAM constant proportional term [s-1]\": x[0]* blam_p[ic],\n",
    "            \"Negative electrode LAM constant proportional term [s-1]\": x[1]*blam_n[ic],\n",
    "            \"EC diffusivity [m2.s-1]\": 2e-18,\n",
    "            \"Positive electrode LAM constant exponential term\": 2,\n",
    "            \"Negative electrode LAM constant exponential term\": 2,\n",
    "            \"Negative electrode active material volume fraction\": eps_n_data,\n",
    "            \"Positive electrode active material volume fraction\": eps_p_data,\n",
    "        },\n",
    "        check_already_exists=False,\n",
    "    )\n",
    "    Cn = parameter_values.evaluate(param.C_n_init)\n",
    "    Cp = parameter_values.evaluate(param.C_p_init)\n",
    "    eps_n = parameter_values[\"Negative electrode active material volume fraction\"]\n",
    "    eps_p = parameter_values[\"Positive electrode active material volume fraction\"]\n",
    "    C_over_eps_n = Cn / eps_n\n",
    "    C_over_eps_p = Cp / eps_p\n",
    "    return cycle_adaptive_simulation(spm, parameter_values, expt,save_at_cycles=1)\n",
    "def prediction_error(x,data,expt):\n",
    "    try:\n",
    "        model = simulate(x,expt,timeout=60)\n",
    "        out = multi_objective(pd.DataFrame(model), data)\n",
    "        print(f\"x={x}, norm={np.linalg.norm(out)}\")\n",
    "    # except pybamm.SolverError:\n",
    "    except:\n",
    "        out = 10*np.ones_like(np.concatenate([np.array(data['Cap'])]*4))\n",
    "        print(f\"x={x}, norm={np.linalg.norm(out)}\")\n",
    "        return out\n",
    "    return out\n",
    "def train_model(data,expt):\n",
    "    timer = pybamm.Timer()\n",
    "    x0 = np.array([1.0,1.0,1.0])\n",
    "    # print(prediction_error(x0))\n",
    "    soln_dfols = dfols.solve(prediction_error, x0,args=(data,expt), rhoend=1e-3)\n",
    "    print(timer.time())\n",
    "    return soln_dfols\n",
    "def sim_train(dfe,experiment,df,train_len):\n",
    "    data_train = dfe.iloc[:train_len]\n",
    "    experiment_train = pybamm.Experiment(\n",
    "        [\n",
    "            (\"Discharge at \"+c_rate_d+dis_set,\n",
    "            \"Rest for 5 min\",\n",
    "            \"Charge at \"+c_rate_c+\" until 4.2V\", \n",
    "            \"Hold at 4.2V until C/50\")\n",
    "        ] *data_train.N.iloc[-1],\n",
    "        termination=\"50% capacity\",\n",
    "    #     cccv_handling=\"ode\",\n",
    "    )\n",
    "    soln_dfols = train_model(data_train,experiment_train)\n",
    "    xsol = soln_dfols.x\n",
    "    # print(xsol[0]*2e-2/3600)\n",
    "    # print(xsol[1]*2e-1/3600)\n",
    "    # print(xsol[2]*1.6e-16)\n",
    "    df['train_len'][train_len-3]=train_len\n",
    "    df['x_0'][train_len-3]=round(xsol[0],4)\n",
    "    df['x_1'][train_len-3]=round(xsol[1],4)\n",
    "    df['x_2'][train_len-3]=round(xsol[2],4)\n",
    "    # df['obj'][train_len-3]=soln_dfols.f\n",
    "    try:\n",
    "        sol_out = simulate(soln_dfols.x,experiment_train,timeout = 60)\n",
    "        sol_full = simulate(soln_dfols.x,experiment,timeout = 60)\n",
    "        df['obj'][train_len-3]= np.linalg.norm(prediction_error(soln_dfols.x,data_train,experiment_train))\n",
    "        df['obj_full'][train_len-3] = np.linalg.norm(prediction_error(soln_dfols.x,dfe,experiment))\n",
    "        fig = plot_comp(sol_out,sol_full,dfe);\n",
    "        return df,fig\n",
    "    except:\n",
    "        print(\"Train Len = \"+str(train_len)+\" failed\")\n",
    "        fig, axes = plt.subplots(3,2,figsize=(7,7))\n",
    "        return df,fig"
   ]
  },
  {
   "cell_type": "code",
   "execution_count": null,
   "metadata": {},
   "outputs": [],
   "source": [
    "# df_x = pd.DataFrame(columns=['train_len','x_0','x_1','x_2','obj','obj_full'], index=range(len(N)+1-3))"
   ]
  },
  {
   "cell_type": "code",
   "execution_count": null,
   "metadata": {},
   "outputs": [],
   "source": [
    "# sim_des = \"ic_\"+str(ic)\n",
    "# timer1 = pybamm.Timer()\n",
    "# for train_len in range(3,len(N)):\n",
    "#     print(\"Train Length = {0}\".format(train_len))\n",
    "#     df_x,fig = sim_train(dfe,experiment,df_x,train_len)\n",
    "#     df_x.to_csv(res_DIR + \"fit_train_pred_\"+sim_des+\".csv\")\n",
    "#     fig.suptitle('Train Length = '+str(train_len),fontsize=16,y=1.02)\n",
    "#     fig.savefig(fig_DIR + \"fit_train_pred_\"+ sim_des+\"_\"+str(train_len) +\"_eSOHC.png\",bbox_inches='tight')\n",
    "#     print('Total Time')\n",
    "#     print(timer1.time())"
   ]
  },
  {
   "cell_type": "markdown",
   "metadata": {},
   "source": [
    "## Generate figures from solutions"
   ]
  },
  {
   "cell_type": "code",
   "execution_count": null,
   "metadata": {},
   "outputs": [],
   "source": [
    "sim_des = \"ic_0\"\n",
    "df_x = pd.read_csv(res_DIR + \"fit_train_pred_\"+sim_des+\".csv\").drop(['Unnamed: 0'],axis=1)\n",
    "df_x"
   ]
  },
  {
   "cell_type": "code",
   "execution_count": null,
   "metadata": {},
   "outputs": [],
   "source": [
    "train_len = 10\n",
    "data_train = dfe.iloc[:train_len]\n",
    "print(train_len)\n",
    "x = [df_x['x_0'][train_len-3],df_x['x_1'][train_len-3],df_x['x_2'][train_len-3]]\n",
    "print(x)"
   ]
  },
  {
   "cell_type": "code",
   "execution_count": null,
   "metadata": {},
   "outputs": [],
   "source": [
    "train_len = 3\n",
    "data_train = dfe.iloc[:train_len]\n",
    "print(train_len)\n",
    "x = [df_x['x_0'][train_len-3],df_x['x_1'][train_len-3],df_x['x_2'][train_len-3]]\n",
    "experiment_train = pybamm.Experiment(\n",
    "        [\n",
    "            (\"Discharge at \"+c_rate_d+dis_set,\n",
    "            \"Rest for 5 min\",\n",
    "            \"Charge at \"+c_rate_c+\" until 4.2V\", \n",
    "            \"Hold at 4.2V until C/50\")\n",
    "        ] *data_train.N.iloc[-1],\n",
    "        termination=\"50% capacity\",\n",
    "    #     cccv_handling=\"ode\",\n",
    "    )\n",
    "sol_out_0 = simulate(x,experiment_train,timeout = 30)\n",
    "sol_full_0 = simulate(x,experiment,timeout = 30)\n",
    "train_len = 5\n",
    "data_train = dfe.iloc[:train_len]\n",
    "print(train_len)\n",
    "x = [df_x['x_0'][train_len-3],df_x['x_1'][train_len-3],df_x['x_2'][train_len-3]]\n",
    "experiment_train = pybamm.Experiment(\n",
    "        [\n",
    "            (\"Discharge at \"+c_rate_d+dis_set,\n",
    "            \"Rest for 5 min\",\n",
    "            \"Charge at \"+c_rate_c+\" until 4.2V\", \n",
    "            \"Hold at 4.2V until C/50\")\n",
    "        ] *data_train.N.iloc[-1],\n",
    "        termination=\"50% capacity\",\n",
    "    #     cccv_handling=\"ode\",\n",
    "    )\n",
    "sol_out_1 = simulate(x,experiment_train,timeout = 30)\n",
    "sol_full_1 = simulate(x,experiment,timeout = 30)\n",
    "# plot_comp(sol_out,sol_full,dfe)\n"
   ]
  },
  {
   "cell_type": "code",
   "execution_count": null,
   "metadata": {},
   "outputs": [],
   "source": [
    "esoh_data = dfe_0\n",
    "train_0 = sol_out_0.copy() \n",
    "train_0[\"Cycle number\"] = train_0[\"Cycle number\"] + dfe_0['N'][1]\n",
    "pred_0 = sol_full_0.copy()\n",
    "pred_0[\"Cycle number\"] = pred_0[\"Cycle number\"] + dfe_0['N'][1]\n",
    "train_1 = sol_out_1.copy() \n",
    "train_1[\"Cycle number\"] = train_1[\"Cycle number\"] + dfe_0['N'][1]\n",
    "pred_1 = sol_full_1.copy()\n",
    "pred_1[\"Cycle number\"] = pred_1[\"Cycle number\"] + dfe_0['N'][1]\n",
    "esoh_vars = [\"x_100\", \"y_0\", \"C_n\", \"C_p\", \"Capacity [A.h]\", \"Loss of lithium inventory [%]\"]\n",
    "yl = [\"$x_{100}$\", \"$y_{0}$\", \"$C_n$\", \"$C_p$\", \"Capacity [A.h]\", \"LLI [%]\"]\n",
    "esoh_data[\"Capacity [A.h]\"]=esoh_data[\"Cap\"]\n",
    "param = pybamm.LithiumIonParameters()\n",
    "esoh_data[\"n_Li\"]= 3600/param.F.value*(esoh_data[\"y_100\"]*esoh_data[\"C_p\"]+esoh_data[\"x_100\"]*esoh_data[\"C_n\"])\n",
    "esoh_data[\"Loss of lithium inventory [%]\"]=(1-esoh_data[\"n_Li\"]/esoh_data[\"n_Li\"][0])*100\n",
    "fig, axes = plt.subplots(3,2,figsize=(7,7))\n",
    "for k, name in enumerate(esoh_vars):\n",
    "    ax = axes.flat[k]\n",
    "    ax.plot(train_0[\"Cycle number\"],train_0[name],\"b^\",markevery=10)\n",
    "    ax.plot(pred_0[\"Cycle number\"][len(train_0[\"Cycle number\"]):],pred_0[name][len(train_0[\"Cycle number\"]):],\"b1\",markevery=10)\n",
    "    ax.plot(train_1[\"Cycle number\"],train_1[name],\"r^\",markevery=10)\n",
    "    ax.plot(pred_1[\"Cycle number\"][len(train_1[\"Cycle number\"]):],pred_1[name][len(train_1[\"Cycle number\"]):],\"r1\",markevery=10)\n",
    "    # ax.plot(pred_0[\"Cycle number\"],pred_0[name],\"bo\")\n",
    "    ax.plot(esoh_data[\"N\"],esoh_data[name],\"ko\")\n",
    "    ax.axvline(x = train_0[\"Cycle number\"][-1], color = 'b', label = 'axvline - full height')\n",
    "    ax.axvline(x = train_1[\"Cycle number\"][-1], color = 'r', label = 'axvline - full height')\n",
    "    # ax.set_title(split_long_string(name))\n",
    "    ax.set_ylabel(yl[k])\n",
    "    if k==2 or k==3:\n",
    "        ax.set_ylim([4,6])\n",
    "    if k>3:\n",
    "        ax.set_xlabel(\"Cycle number\")\n",
    "fig.legend([\"Train Length =3\"]+[\"Prediction Length =3\"] + [\"Train Length = 5\"]+[\"Prediction Length = 5\"], loc=\"lower center\",bbox_to_anchor=[0.5, -0.08], ncol=2, fontsize=11)\n",
    "fig.tight_layout()\n",
    "# fig.savefig(fig_DIR + \"ECS_fig1.png\",bbox_inches='tight')\n"
   ]
  },
  {
   "cell_type": "code",
   "execution_count": null,
   "metadata": {},
   "outputs": [],
   "source": [
    "len(pred_0[\"C_n\"])"
   ]
  },
  {
   "cell_type": "markdown",
   "metadata": {},
   "source": [
    "## Plot Tuned Parameters"
   ]
  },
  {
   "cell_type": "code",
   "execution_count": null,
   "metadata": {},
   "outputs": [],
   "source": [
    "colors = ['b','r','g','y']"
   ]
  },
  {
   "cell_type": "markdown",
   "metadata": {},
   "source": [
    "# Reversible Expansion"
   ]
  },
  {
   "cell_type": "code",
   "execution_count": null,
   "metadata": {},
   "outputs": [],
   "source": [
    "ic=0"
   ]
  },
  {
   "cell_type": "code",
   "execution_count": null,
   "metadata": {},
   "outputs": [],
   "source": []
  },
  {
   "cell_type": "code",
   "execution_count": null,
   "metadata": {},
   "outputs": [],
   "source": [
    "experiment_rev_exp = pybamm.Experiment(\n",
    "    [\n",
    "        \"Charge at \"+c_rate_c+\" until 4.2V\", \n",
    "        # \"Hold at 4.2V until C/50\"\n",
    "    ],\n",
    ")"
   ]
  },
  {
   "cell_type": "code",
   "execution_count": null,
   "metadata": {},
   "outputs": [],
   "source": [
    "dis_set = \" until 3V\"\n",
    "c_rate_d = 'C/20'\n",
    "c_rate_c = 'C/20'\n",
    "experiment_rev_exp = pybamm.Experiment(\n",
    "    [\n",
    "        \"Discharge at \"+c_rate_d+dis_set,\n",
    "        \"Rest for 60 min\",\n",
    "        \"Charge at \"+c_rate_c+\" until 4.2V\", \n",
    "        # \"Hold at 4.2V until C/50\"\n",
    "    ],\n",
    ")\n",
    "Ns = np.insert(N[1:]-1,0,0)"
   ]
  },
  {
   "cell_type": "code",
   "execution_count": null,
   "metadata": {},
   "outputs": [],
   "source": []
  },
  {
   "cell_type": "code",
   "execution_count": null,
   "metadata": {},
   "outputs": [],
   "source": [
    "def rev_exp(cyc_no,eSOH):\n",
    "    # dfo = dfo_0[dfo_0['N']==N[cyc_no]]\n",
    "    model = spm\n",
    "    Vmin = 3.0\n",
    "    Vmax = 4.2\n",
    "    esoh_model = pybamm.lithium_ion.ElectrodeSOH()\n",
    "    esoh_sim = pybamm.Simulation(esoh_model, parameter_values=parameter_values)\n",
    "    param = model.param\n",
    "    Cn = eSOH[\"C_n\"][Ns[cyc_no]]\n",
    "    # print(Cn)\n",
    "    Cp = eSOH[\"C_p\"][Ns[cyc_no]]\n",
    "    c_n_max = parameter_values.evaluate(param.c_n_max)\n",
    "    c_p_max = parameter_values.evaluate(param.c_p_max)\n",
    "    n_Li_init = eSOH[\"Total lithium in particles [mol]\"][Ns[cyc_no]]\n",
    "    eps_n_data = parameter_values.evaluate(Cn*3600/(param.L_n * param.c_n_max * param.F* param.A_cc))\n",
    "    eps_p_data = parameter_values.evaluate(Cp*3600/(param.L_p * param.c_p_max * param.F* param.A_cc))\n",
    "\n",
    "    esoh_sol = esoh_sim.solve(\n",
    "        [0],\n",
    "        inputs={\"V_min\": Vmin, \"V_max\": Vmax, \"C_n\": Cn, \"C_p\": Cp, \"n_Li\": n_Li_init},\n",
    "        solver=pybamm.AlgebraicSolver(),\n",
    "    )\n",
    "\n",
    "    parameter_values.update(\n",
    "        {\n",
    "            \"Initial concentration in negative electrode [mol.m-3]\": esoh_sol[\n",
    "       \"x_100\"\n",
    "            ].data[0]\n",
    "            * c_n_max,\n",
    "            \"Initial concentration in positive electrode [mol.m-3]\": esoh_sol[\n",
    "                \"y_100\"\n",
    "            ].data[0]\n",
    "            * c_p_max,\n",
    "            \"Negative electrode active material volume fraction\": eps_n_data,\n",
    "            \"Positive electrode active material volume fraction\": eps_p_data,\n",
    "            \n",
    "        }\n",
    "    )\n",
    "\n",
    "    sim_ode = pybamm.Simulation(\n",
    "        model, experiment=experiment_rev_exp, parameter_values=parameter_values,\n",
    "        solver=pybamm.CasadiSolver(\"safe\")\n",
    "    )\n",
    "    sol_exp = sim_ode.solve()\n",
    "    t_t = sol_exp[\"Time [min]\"].entries\n",
    "    I_t = sol_exp[\"Current [A]\"].entries\n",
    "    Q_t = -sol_exp['Discharge capacity [A.h]'].entries\n",
    "    Vt_t = sol_exp[\"Terminal voltage [V]\"].entries\n",
    "    exp_t = 30e6*sol_exp[\"Cell thickness change [m]\"].entries\n",
    "    return exp_t"
   ]
  },
  {
   "cell_type": "code",
   "execution_count": null,
   "metadata": {},
   "outputs": [],
   "source": [
    "train_len = 3\n",
    "print(train_len)\n",
    "rev_exp_0 = []\n",
    "for cyc_no in range(len(N)):\n",
    "    exp = rev_exp(cyc_no,sol_full_0)\n",
    "    # print(cyc_no)\n",
    "    # print(max(abs(exp)))\n",
    "    rev_exp_0.append(max(abs(exp)))\n",
    "train_len = 5\n",
    "print(train_len)\n",
    "rev_exp_1 = []\n",
    "for cyc_no in range(len(N)):\n",
    "    exp = rev_exp(cyc_no,sol_full_1)\n",
    "    # print(cyc_no)\n",
    "    # print(max(abs(exp)))\n",
    "    rev_exp_1.append(max(abs(exp)))\n"
   ]
  },
  {
   "cell_type": "code",
   "execution_count": null,
   "metadata": {},
   "outputs": [],
   "source": [
    "pred_0.keys()"
   ]
  },
  {
   "cell_type": "code",
   "execution_count": null,
   "metadata": {},
   "outputs": [],
   "source": [
    "esoh_data = dfe_0\n",
    "train_0 = sol_out_0.copy() \n",
    "train_0[\"Cycle number\"] = train_0[\"Cycle number\"] + dfe_0['N'][1]\n",
    "pred_0 = sol_full_0.copy()\n",
    "pred_0[\"Cycle number\"] = pred_0[\"Cycle number\"] + dfe_0['N'][1]\n",
    "train_1 = sol_out_1.copy() \n",
    "train_1[\"Cycle number\"] = train_1[\"Cycle number\"] + dfe_0['N'][1]\n",
    "pred_1 = sol_full_1.copy()\n",
    "pred_1[\"Cycle number\"] = pred_1[\"Cycle number\"] + dfe_0['N'][1]\n",
    "pred_0[\"rev_exp\"] = rev_exp_0\n",
    "pred_1[\"rev_exp\"] = rev_exp_1\n",
    "esoh_vars = [\"x_100\", \"y_0\", \"C_n\", \"C_p\"]\n",
    "yl = [\"$x_{100}$\", \"$y_{0}$\", \"$C_n$\", \"$C_p$\", \"Capacity [A.h]\", \"LLI [%]\"]\n",
    "esoh_data[\"Loss of active material in negative electrode [%]\"]=(1-esoh_data[\"C_n\"]/esoh_data[\"C_n\"][0])*100\n",
    "param = pybamm.LithiumIonParameters()\n",
    "esoh_data[\"n_Li\"]= 3600/param.F.value*(esoh_data[\"y_100\"]*esoh_data[\"C_p\"]+esoh_data[\"x_100\"]*esoh_data[\"C_n\"])\n",
    "esoh_data[\"Loss of lithium inventory [%]\"]=(1-esoh_data[\"n_Li\"]/esoh_data[\"n_Li\"][0])*100\n",
    "esoh_data[\"Capacity [A.h]\"]=esoh_data[\"Cap\"]\n",
    "fig, axes = plt.subplots(4,2,figsize=(9,7))\n",
    "for k, name in enumerate(esoh_vars):\n",
    "    ax = axes.flat[k]\n",
    "    ax.plot(train_0[\"Cycle number\"],train_0[name],\"b^\",markevery=10)\n",
    "    ax.plot(pred_0[\"Cycle number\"][len(train_0[\"Cycle number\"]):],pred_0[name][len(train_0[\"Cycle number\"]):],\"b1\",markevery=10)\n",
    "    ax.plot(train_1[\"Cycle number\"],train_1[name],\"r^\",markevery=10)\n",
    "    ax.plot(pred_1[\"Cycle number\"][len(train_1[\"Cycle number\"]):],pred_1[name][len(train_1[\"Cycle number\"]):],\"r1\",markevery=10)\n",
    "    # ax.plot(pred_0[\"Cycle number\"],pred_0[name],\"bo\")\n",
    "    ax.plot(esoh_data[\"N\"],esoh_data[name],\"ko\")\n",
    "    ax.axvline(x = train_0[\"Cycle number\"][-1], color = 'b', label = 'axvline - full height')\n",
    "    ax.axvline(x = train_1[\"Cycle number\"][-1], color = 'r', label = 'axvline - full height')\n",
    "    # ax.set_title(split_long_string(name))\n",
    "    ax.set_ylabel(yl[k])\n",
    "ax4 = axes.flat[4]\n",
    "name=\"Capacity [A.h]\"\n",
    "ax4.plot(pred_0[\"Cycle number\"],pred_0[name],\"b1\",markevery=10)\n",
    "ax4.plot(pred_1[\"Cycle number\"],pred_1[name],\"r1\",markevery=10)\n",
    "# ax.plot(pred_0[\"Cycle number\"],pred_0[name],\"bo\")\n",
    "ax4.plot(esoh_data[\"N\"],esoh_data[name],\"ko\")\n",
    "# ax.set_title(split_long_string(name))\n",
    "ax4.set_ylabel(\"Capacity [A.h]\")\n",
    "\n",
    "ax5 = axes.flat[5]\n",
    "name = \"rev_exp\"\n",
    "ax5.plot(esoh_data[\"N\"],esoh_data[name],\"ko\")\n",
    "ax5.plot(pred_0[\"Cycle number\"][Ns],pred_0[name],\"b1\",markersize=8)\n",
    "ax5.plot(pred_1[\"Cycle number\"][Ns],pred_1[name],\"r1\",markersize=8)\n",
    "ax5.set_ylabel(\"Rev Exp [$\\mu$m]\")\n",
    "\n",
    "ax6 = axes.flat[6]\n",
    "name=\"Loss of active material in negative electrode [%]\"\n",
    "ax6.plot(esoh_data[\"N\"],esoh_data[name],\"ko\")\n",
    "ax6.plot(pred_0[\"Cycle number\"],pred_0[name],\"b1\",markevery=10)\n",
    "ax6.plot(pred_1[\"Cycle number\"],pred_1[name],\"r1\",markevery=10)\n",
    "ax6.set_ylabel(\"LAM$_{NE}$ [%]\")\n",
    "\n",
    "ax7 = axes.flat[7]\n",
    "name=\"Loss of lithium inventory [%]\"\n",
    "ax7.plot(esoh_data[\"N\"],esoh_data[name],\"ko\")\n",
    "ax7.plot(pred_0[\"Cycle number\"],pred_0[name],\"b1\",markevery=10)\n",
    "ax7.plot(pred_1[\"Cycle number\"],pred_1[name],\"r1\",markevery=10)\n",
    "# ax.plot(pred_0[\"Cycle number\"],pred_0[name],\"bo\")\n",
    "\n",
    "# ax.set_title(split_long_string(name))\n",
    "ax7.set_ylabel(\"LLI [%]\")\n",
    "# ax.plot(esoh_data[\"N\"],esoh_data[\"rev_exp\"],\"ko\")\n",
    "\n",
    "\n",
    "fig.legend([\"Train Length =3\"]+[\"Prediction Length =3\"] + [\"Train Length = 5\"]+[\"Prediction Length = 5\"], loc=\"lower center\",bbox_to_anchor=[0.5, -0.08], ncol=2, fontsize=11)\n",
    "fig.tight_layout()\n",
    "fig.savefig(fig_DIR + \"ECS_fig1_new.jpg\",bbox_inches='tight')\n"
   ]
  },
  {
   "cell_type": "code",
   "execution_count": null,
   "metadata": {},
   "outputs": [],
   "source": [
    "N_0[5]"
   ]
  },
  {
   "cell_type": "code",
   "execution_count": null,
   "metadata": {},
   "outputs": [],
   "source": [
    "fig, ax = plt.subplots(1,1,figsize=(4,3))\n",
    "ic=0\n",
    "sim_des = \"ic_\"+str(ic)\n",
    "df_x = pd.read_csv(res_DIR + \"fit_train_pred_\"+sim_des+\".csv\").drop(['Unnamed: 0'],axis=1)\n",
    "ax.plot(df_x['train_len'],df_x['obj_full'],'x-',color=colors[ic])\n",
    "ax.set_title('Norm of Pred Error')\n",
    "ax.set_xlabel('Training Length')\n",
    "fig.tight_layout()    \n",
    "fig.savefig(fig_DIR +'ECS_fig3'+'.png',bbox_inches='tight')"
   ]
  },
  {
   "cell_type": "code",
   "execution_count": null,
   "metadata": {},
   "outputs": [],
   "source": [
    "fig, ax = plt.subplots(1,1,figsize=(4,3))\n",
    "for ic in range(0,4):\n",
    "    sim_des = \"ic_\"+str(ic)\n",
    "    df_x = pd.read_csv(res_DIR + \"fit_train_pred_\"+sim_des+\".csv\").drop(['Unnamed: 0'],axis=1)\n",
    "    ax.plot(df_x['train_len'],df_x['obj_full'],'x-',color=colors[ic])\n",
    "    ax.set_title('Norm of Error with Weights')\n",
    "    ax.set_xlabel('Training Length')\n",
    "fig.legend([\"ic = 0\",\"ic = 1\",\"ic = 2\",\"ic = 3\"],ncol=4,loc='lower center',bbox_to_anchor=[0.5,-0.05])\n",
    "fig.tight_layout()    \n",
    "fig.savefig(fig_DIR +'norm_obj_all_ic'+'.png',bbox_inches='tight')"
   ]
  },
  {
   "cell_type": "code",
   "execution_count": null,
   "metadata": {},
   "outputs": [],
   "source": []
  },
  {
   "cell_type": "code",
   "execution_count": null,
   "metadata": {},
   "outputs": [],
   "source": [
    "fig, axes = plt.subplots(1,3,figsize=(6,3))\n",
    "for ic in range(0,4):\n",
    "    sim_des = \"ic_\"+str(ic)\n",
    "    df_x = pd.read_csv(res_DIR + \"fit_train_pred_\"+sim_des+\".csv\").drop(['Unnamed: 0'],axis=1)\n",
    "    ax1 = axes.flat[0]\n",
    "    ax1.plot(df_x['train_len'],df_x['x_0']*blam_p[ic],'x-',color=colors[ic])\n",
    "    ax1.plot(df_x['train_len'][0],blam_p[ic],'v',color=colors[ic],label='_nolegend_')\n",
    "    # ax1.set_xticks([])\n",
    "    ax1.set_title(r'$\\beta_{LAM}^+$')\n",
    "    ax2 = axes.flat[1]\n",
    "    ax2.plot(df_x['train_len'],df_x['x_1']*blam_n[ic],'x-',color=colors[ic])\n",
    "    ax2.plot(df_x['train_len'][0],blam_n[ic],'v',color=colors[ic],label='_nolegend_')\n",
    "    ax2.set_title(r'$\\beta_{LAM}^-$')\n",
    "    ax3 = axes.flat[2]\n",
    "    ax3.plot(df_x['train_len'],df_x['x_2']*k_sei[ic],'x-',color=colors[ic])\n",
    "    ax3.plot(df_x['train_len'][0],k_sei[ic],'v',color=colors[ic],label='_nolegend_')\n",
    "    ax3.set_title(r'$\\kappa_{SEI}$')\n",
    "    ax2.set_xlabel('Training Length')\n",
    "fig.tight_layout()  \n",
    "fig.legend([\"ic = 0\",\"ic = 1\",\"ic = 2\",\"ic = 3\"],ncol=2,loc='lower center',bbox_to_anchor=[0.5,-0.1])\n",
    "# fig.savefig(fig_DIR +'ECS_fig2'+'.png',bbox_inches='tight')"
   ]
  },
  {
   "cell_type": "code",
   "execution_count": null,
   "metadata": {},
   "outputs": [],
   "source": [
    "ic =0\n",
    "sim_des = \"ic_0\"\n",
    "df_x = pd.read_csv(res_DIR + \"fit_train_pred_\"+sim_des+\".csv\").drop(['Unnamed: 0'],axis=1)\n",
    "df_x\n",
    "blam_p = [2e-2/3600, 4e-6, 1e-5,1e-6]\n",
    "blam_n = [2e-1/3600, 3e-5, 2e-5,7e-5]\n",
    "k_sei= [1.6e-16,1.5e-16,1.7e-16,1.3e-16]\n",
    "colors = ['b','r','g','y']\n",
    "sim_des = \"acc_ic_0\"\n",
    "df_y = pd.read_csv(res_DIR + \"fit_train_pred_\"+sim_des+\".csv\").drop(['Unnamed: 0'],axis=1)"
   ]
  },
  {
   "cell_type": "code",
   "execution_count": null,
   "metadata": {},
   "outputs": [],
   "source": [
    "n1 = 2\n",
    "print(df_x['train_len'].iloc[n1])\n",
    "print(df_x['x_0'].iloc[n1]*blam_p[ic])\n",
    "print(df_x['x_1'].iloc[n1]*blam_n[ic])\n",
    "print(df_x['x_2'].iloc[n1]*k_sei[ic])"
   ]
  },
  {
   "cell_type": "code",
   "execution_count": null,
   "metadata": {},
   "outputs": [],
   "source": [
    "fig, axes = plt.subplots(1,3,figsize=(6,3))\n",
    "ax1 = axes.flat[0]\n",
    "ax2 = axes.flat[1]\n",
    "ax3 = axes.flat[2]\n",
    "ax1.plot(df_x['train_len'].tail(1),8.357e-6,'k*')\n",
    "ax2.plot(df_x['train_len'].tail(1),5.803e-5,'k*',label='_nolegend_')\n",
    "ax3.plot(df_x['train_len'].tail(1),1.683e-16,'k*',label='_nolegend_')\n",
    "ic=0\n",
    "sim_des = \"ic_\"+str(ic)\n",
    "df_x = pd.read_csv(res_DIR + \"fit_train_pred_\"+sim_des+\".csv\").drop(['Unnamed: 0'],axis=1)\n",
    "ax1.plot(df_x['train_len'],df_x['x_0']*blam_p[ic],'bx-')\n",
    "ax1.plot(df_y['train_len'],df_y['x_0']*blam_p[ic],'rv')\n",
    "# ax1.set_xticks([])\n",
    "ax1.set_title(r'$\\beta_{LAM}^+$')\n",
    "ax2.plot(df_x['train_len'],df_x['x_1']*blam_n[ic],'bx-')\n",
    "ax2.plot(df_y['train_len'],df_y['x_1']*blam_n[ic],'rv')\n",
    "ax2.set_title(r'$\\beta_{LAM}^-$')\n",
    "ax3.plot(df_x['train_len'],df_x['x_2']*k_sei[ic],'x-',color=colors[ic])\n",
    "ax3.set_title(r'$\\kappa_{SEI}$')\n",
    "ax2.set_xlabel('Training Length')\n",
    "fig.tight_layout()  \n",
    "fig.legend([\"ACC\",\"ECS tuning all 3\",r\"ECS tuning only $ \\beta $\"],ncol=3,loc='lower center',bbox_to_anchor=[0.5,-0.1])\n",
    "fig.savefig(fig_DIR +'ECS_ACC'+'.png',bbox_inches='tight')"
   ]
  }
 ],
 "metadata": {
  "kernelspec": {
   "display_name": "Python 3.9.7 ('windows-dev': venv)",
   "language": "python",
   "name": "python3"
  },
  "language_info": {
   "codemirror_mode": {
    "name": "ipython",
    "version": 3
   },
   "file_extension": ".py",
   "mimetype": "text/x-python",
   "name": "python",
   "nbconvert_exporter": "python",
   "pygments_lexer": "ipython3",
   "version": "3.9.7"
  },
  "orig_nbformat": 4,
  "vscode": {
   "interpreter": {
    "hash": "fe6e1a396f7757d05554318f98bb2d7e7d3785df9fdbcce0707f057fad4349a9"
   }
  }
 },
 "nbformat": 4,
 "nbformat_minor": 2
}
